{
 "cells": [
  {
   "cell_type": "markdown",
   "metadata": {},
   "source": [
    "# Librerias necesarias"
   ]
  },
  {
   "cell_type": "code",
   "execution_count": 1,
   "metadata": {},
   "outputs": [
    {
     "name": "stderr",
     "output_type": "stream",
     "text": [
      "Using TensorFlow backend.\n"
     ]
    }
   ],
   "source": [
    "#Importamos librerías\n",
    "import numpy as np\n",
    "import pandas as pd\n",
    "import io\n",
    "import requests\n",
    "from sklearn.feature_extraction.text import CountVectorizer\n",
    "from sklearn.pipeline import make_union  \n",
    "import sys, os, re, csv, codecs, numpy as np, pandas as pd\n",
    "import matplotlib.pyplot as plt\n",
    "%matplotlib inline\n",
    "from keras.preprocessing.text import Tokenizer\n",
    "from keras.preprocessing.sequence import pad_sequences\n",
    "from keras.layers import Dense, Input, LSTM, Embedding, Dropout, Activation\n",
    "from keras.layers import Bidirectional, GlobalMaxPool1D,Bidirectional\n",
    "from keras.models import Model\n",
    "from keras import initializers, regularizers, constraints, optimizers, layers\n",
    "import matplotlib.pyplot as plt\n",
    "%matplotlib inline\n",
    "import gensim.models.keyedvectors as word2vec\n",
    "import gc"
   ]
  },
  {
   "cell_type": "markdown",
   "metadata": {},
   "source": [
    "# Descargar datos"
   ]
  },
  {
   "cell_type": "code",
   "execution_count": 2,
   "metadata": {},
   "outputs": [],
   "source": [
    "#Definimos los url para cargar los datos\n",
    "url_train = \"https://github.com/czammar/MA_finalproject/blob/master/data/train.csv?raw=true\"\n",
    "url_test = \"https://raw.githubusercontent.com/czammar/MA_finalproject/master/data/test.csv?raw=true\"\n",
    "url_test_labels = \"https://github.com/czammar/MA_finalproject/blob/master/data/test_labels.csv?raw=true\""
   ]
  },
  {
   "cell_type": "code",
   "execution_count": 3,
   "metadata": {},
   "outputs": [],
   "source": [
    "# Leemos los los datos de train, test y labels del test desde nuestro repositorio usando requesto con io\n",
    "rtrain=requests.get(url_train).content\n",
    "rtest=requests.get(url_test).content\n",
    "rtest_labels=requests.get(url_test_labels).content\n",
    "\n",
    "#Define los clasificaciones de toxicidad\n",
    "class_names = ['toxic', 'severe_toxic', 'obscene', 'threat', 'insult', 'identity_hate']"
   ]
  },
  {
   "cell_type": "code",
   "execution_count": 4,
   "metadata": {},
   "outputs": [],
   "source": [
    "# Cargamos io hacia pandas\n",
    "train = pd.read_csv(io.StringIO(rtrain.decode('utf-8')))\n",
    "test = pd.read_csv(io.StringIO(rtest.decode('utf-8')))\n",
    "test_labels = pd.read_csv(io.StringIO(rtest_labels.decode('utf-8')))"
   ]
  },
  {
   "cell_type": "markdown",
   "metadata": {},
   "source": [
    "# Split de train en train y test"
   ]
  },
  {
   "cell_type": "code",
   "execution_count": 5,
   "metadata": {},
   "outputs": [
    {
     "name": "stdout",
     "output_type": "stream",
     "text": [
      "Data points in train data after splitting: 127656\n",
      "Data points in valiadtion data: 31915\n"
     ]
    }
   ],
   "source": [
    "#Dividir train en train y test  20% train y 80% test\n",
    "import random\n",
    "random.seed(10)\n",
    "\n",
    "from sklearn.model_selection import train_test_split\n",
    "X_train, X_test, y_train, y_test = train_test_split(train['comment_text'], \n",
    "                                                  train[class_names], test_size=0.2, random_state=2019)\n",
    "\n",
    "print('Data points in train data after splitting:', len(X_train))\n",
    "print('Data points in valiadtion data:', len(X_test))"
   ]
  },
  {
   "cell_type": "code",
   "execution_count": 9,
   "metadata": {},
   "outputs": [
    {
     "data": {
      "text/plain": [
       "15176     Baker removed the picture primarily as an atta...\n",
       "64290     \"\\n\\n Image:Peter macnicol.jpg \\nThanks for up...\n",
       "64709     \"\\n\\nIs the UK multinational?\\n\\nAn editor had...\n",
       "87891     \"\\n\\nPlease do not remove messages from your t...\n",
       "98308                    Images\\nWikipedia:Picture tutorial\n",
       "                                ...                        \n",
       "25373     SeaQuest DSV \\n\\nA few notes about the edit to...\n",
       "32472     You see this as an attack..?\\n\\nGet a life.\\n\\...\n",
       "12069     \"/small> \\n\\nIt's called Kraft Dinner in Canad...\n",
       "60575     \"\\n\\nOh yes! And a question. As we move forwar...\n",
       "158066    I wasn't stalking user: Active Banana. If you ...\n",
       "Name: comment_text, Length: 127656, dtype: object"
      ]
     },
     "execution_count": 9,
     "metadata": {},
     "output_type": "execute_result"
    }
   ],
   "source": [
    "X_train"
   ]
  },
  {
   "cell_type": "markdown",
   "metadata": {},
   "source": [
    "# Procesamiento de texto"
   ]
  },
  {
   "cell_type": "code",
   "execution_count": 51,
   "metadata": {},
   "outputs": [
    {
     "name": "stderr",
     "output_type": "stream",
     "text": [
      "[nltk_data] Downloading package stopwords to\n",
      "[nltk_data]     /Users/danahiramos/nltk_data...\n",
      "[nltk_data]   Package stopwords is already up-to-date!\n"
     ]
    }
   ],
   "source": [
    "# Natural language toolkit, nos ayudara con preprocessing de los datos\n",
    "import re\n",
    "import nltk\n",
    "nltk.download('stopwords')\n",
    "\n",
    "# Carga un set de stopwords predefinidas\n",
    "from nltk.corpus import stopwords\n",
    "STOPWORDS = set(stopwords.words('english'))\n",
    "\n",
    "# \n",
    "import sys, os, re, csv, codecs, numpy as np\n",
    "import matplotlib.pyplot as plt\n",
    "%matplotlib inline\n",
    "\n",
    "# Librerias de Keras\n",
    "from keras.preprocessing.text import Tokenizer\n",
    "from keras.preprocessing.sequence import pad_sequences\n",
    "from keras.layers import Dense, Input, LSTM, Embedding, Dropout, Activation\n",
    "from keras.layers import Bidirectional, GlobalMaxPool1D\n",
    "from keras.models import Model\n",
    "from keras import initializers, regularizers, constraints, optimizers, layers"
   ]
  },
  {
   "cell_type": "code",
   "execution_count": 52,
   "metadata": {},
   "outputs": [],
   "source": [
    "# Funcion para ayudarnos a sustituir abreviaciones\n",
    "\n",
    "def decontracted(phrase):\n",
    "  phrase = re.sub(r\"won't\", \"will not\", phrase)\n",
    "  phrase = re.sub(r\"can\\'t\", \"can not\", phrase)\n",
    "  phrase = re.sub(r\"n\\'t\", \" not\", phrase)\n",
    "  phrase = re.sub(r\"\\'re\", \" are\", phrase)\n",
    "  phrase = re.sub(r\"\\'s\", \" is\", phrase)\n",
    "  phrase = re.sub(r\"\\'d\", \" would\", phrase)\n",
    "  phrase = re.sub(r\"\\'ll\", \" will\", phrase)\n",
    "  phrase = re.sub(r\"\\'t\", \" not\", phrase)\n",
    "  phrase = re.sub(r\"\\'ve\", \" have\", phrase)\n",
    "  phrase = re.sub(r\"\\'m\", \" am\", phrase)\n",
    "  return phrase"
   ]
  },
  {
   "cell_type": "code",
   "execution_count": 53,
   "metadata": {},
   "outputs": [],
   "source": [
    "# Set adicional de stopwords, removeremos palabras tanto de este set como del que\n",
    "# viene definido en el nltk\n",
    "stopwords= set(['br', 'the', 'i', 'me', 'my', 'myself', 'we', 'our', 'ours', 'ourselves', 'you', \"you're\", \"you've\",\\\n",
    "            \"you'll\", \"you'd\", 'your', 'yours', 'yourself', 'yourselves', 'he', 'him', 'his', 'himself', \\\n",
    "            'she', \"she's\", 'her', 'hers', 'herself', 'it', \"it's\", 'its', 'itself', 'they', 'them', 'their',\\\n",
    "            'theirs', 'themselves', 'what', 'which', 'who', 'whom', 'this', 'that', \"that'll\", 'these', 'those', \\\n",
    "            'am', 'is', 'are', 'was', 'were', 'be', 'been', 'being', 'have', 'has', 'had', 'having', 'do', 'does', \\\n",
    "            'did', 'doing', 'a', 'an', 'the', 'and', 'but', 'if', 'or', 'because', 'as', 'until', 'while', 'of', \\\n",
    "            'at', 'by', 'for', 'with', 'about', 'against', 'between', 'into', 'through', 'during', 'before', 'after',\\\n",
    "            'above', 'below', 'to', 'from', 'up', 'down', 'in', 'out', 'on', 'off', 'over', 'under', 'again', 'further',\\\n",
    "            'then', 'once', 'here', 'there', 'when', 'where', 'why', 'how', 'all', 'any', 'both', 'each', 'few', 'more',\\\n",
    "            'most', 'other', 'some', 'such', 'only', 'own', 'same', 'so', 'than', 'too', 'very', \\\n",
    "            's', 't', 'can', 'will', 'just', 'don', \"don't\", 'should', \"should've\", 'now', 'd', 'll', 'm', 'o', 're', \\\n",
    "            've', 'y', 'ain', 'aren', \"aren't\", 'couldn', \"couldn't\", 'didn', \"didn't\", 'doesn', \"doesn't\", 'hadn',\\\n",
    "            \"hadn't\", 'hasn', \"hasn't\", 'haven', \"haven't\", 'isn', \"isn't\", 'ma', 'mightn', \"mightn't\", 'mustn',\\\n",
    "            \"mustn't\", 'needn', \"needn't\", 'shan', \"shan't\", 'shouldn', \"shouldn't\", 'wasn', \"wasn't\", 'weren', \"weren't\", \\\n",
    "            'won', \"won't\", 'wouldn', \"wouldn't\"])"
   ]
  },
  {
   "cell_type": "code",
   "execution_count": 54,
   "metadata": {},
   "outputs": [],
   "source": [
    "# Función auxiliar para remover stopwords y otras normalizaciones de texto\n",
    "def limpienza_manteniendo_stopwords(dataframe):\n",
    "  SYNS = []\n",
    "  for sentance in dataframe:\n",
    "    sentance = re.sub('\\\\n', ' ', sentance)\n",
    "    sentance = re.sub(\"\\d{1,3}\\.\\d{1,3}\\.\\d{1,3}\\.\\d{1,3}\",'', sentance)\n",
    "    sentance = re.sub(\"\\[\\[User.*\",'',sentance)\n",
    "    sentance = re.sub(\"(http://.*?\\s)|(http://.*)\",'',sentance)\n",
    "    sentance = re.sub(r\"http\\S+\", \"\", sentance)\n",
    "    sentance = decontracted(sentance)\n",
    "    sentance = re.sub(\"\\S*\\d\\S*\", \"\", sentance).strip()\n",
    "    sentance = re.sub('[^A-Za-z]+', ' ', sentance)\n",
    "    #sentance = ' '.join(e.lower() for e in sentance.split() if e.lower() not in stopwords)\n",
    "    #sentance = ' '.join(e.lower() for e in sentance.split() if e.lower() not in STOPWORDS)\n",
    "    SYNS.append(sentance.strip())\n",
    "  return SYNS\n",
    "\n",
    "  # Función auxiliar para remover stopwords y otras normalizaciones de texto\n",
    "def limpienza_quitando_stopwords(dataframe):\n",
    "  SYNS = []\n",
    "  for sentance in dataframe:\n",
    "    sentance = re.sub('\\\\n', ' ', sentance)\n",
    "    sentance = re.sub(\"\\d{1,3}\\.\\d{1,3}\\.\\d{1,3}\\.\\d{1,3}\",'', sentance)\n",
    "    sentance = re.sub(\"\\[\\[User.*\",'',sentance)\n",
    "    sentance = re.sub(\"(http://.*?\\s)|(http://.*)\",'',sentance)\n",
    "    sentance = re.sub(r\"http\\S+\", \"\", sentance)\n",
    "    sentance = decontracted(sentance)\n",
    "    sentance = re.sub(\"\\S*\\d\\S*\", \"\", sentance).strip()\n",
    "    sentance = re.sub('[^A-Za-z]+', ' ', sentance)\n",
    "    sentance = ' '.join(e.lower() for e in sentance.split() if e.lower() not in stopwords)\n",
    "    sentance = ' '.join(e.lower() for e in sentance.split() if e.lower() not in STOPWORDS)\n",
    "    SYNS.append(sentance.strip())\n",
    "  return SYNS"
   ]
  },
  {
   "cell_type": "markdown",
   "metadata": {},
   "source": [
    "Idea principal: \n",
    "Se entrena un modelo sobre el contexto en cada palabra, por los que palabras similares tendrán representaciones numéricas similares \n",
    "\n",
    "Primero divide su oración en palabras(tokenizer) y crea varios pares de palabras dependiendo el tamaño de la ventana.\n",
    "Y sobre estos pares define la palabra dependiente y la independiente. Estas son introducidas a una red neuronal\n"
   ]
  },
  {
   "cell_type": "markdown",
   "metadata": {},
   "source": [
    "Incrustaciones que se han entrenado utilizando el corpus de texto de **Google Negative News**, con el objetivo de que sus palabras negativas puedan funcionar mejor en el contexto \"tóxico\"."
   ]
  },
  {
   "cell_type": "markdown",
   "metadata": {},
   "source": [
    "## Modelo procesamiento que mantiene las stopwords"
   ]
  },
  {
   "cell_type": "code",
   "execution_count": 110,
   "metadata": {},
   "outputs": [],
   "source": [
    "list_classes = [\"toxic\", \"severe_toxic\", \"obscene\", \"threat\", \"insult\", \"identity_hate\"]\n",
    "y = y_train[list_classes].values\n",
    "list_sentences_train = limpienza_manteniendo_stopwords(X_train)\n",
    "list_sentences_test = limpienza_manteniendo_stopwords(X_test)"
   ]
  },
  {
   "cell_type": "code",
   "execution_count": 111,
   "metadata": {},
   "outputs": [],
   "source": [
    "max_features = 20000\n",
    "tokenizer = Tokenizer(num_words=max_features)#El número máximo de palabras para mantener, \n",
    "#según la frecuencia de las palabras. Solo se guardarán las palabras num_words (20000) más comunes.\n",
    "tokenizer.fit_on_texts(list(list_sentences_train))\n",
    "list_tokenized_train = tokenizer.texts_to_sequences(list_sentences_train)#lista de sublistas de números\n",
    "list_tokenized_test = tokenizer.texts_to_sequences(list_sentences_test)"
   ]
  },
  {
   "cell_type": "code",
   "execution_count": 112,
   "metadata": {},
   "outputs": [],
   "source": [
    "maxlen = 200\n",
    "X_t = pad_sequences(list_tokenized_train, maxlen=maxlen)\n",
    "X_te = pad_sequences(list_tokenized_test, maxlen=maxlen)\n",
    "#en una matriz de formas 2D Numpy (list_tokenized_train, maxlen). \n"
   ]
  },
  {
   "cell_type": "code",
   "execution_count": 113,
   "metadata": {},
   "outputs": [
    {
     "data": {
      "text/plain": [
       "(127656, 200)"
      ]
     },
     "execution_count": 113,
     "metadata": {},
     "output_type": "execute_result"
    }
   ],
   "source": [
    "X_t.shape"
   ]
  },
  {
   "cell_type": "code",
   "execution_count": 114,
   "metadata": {},
   "outputs": [],
   "source": [
    "\n",
    "word2vecDict = word2vec.KeyedVectors.load_word2vec_format(\"GoogleNews-vectors-negative300.bin\", binary=True)\n",
    "embed_size = 300\n",
    "embeddings_index = dict()\n",
    "    \n",
    "    "
   ]
  },
  {
   "cell_type": "code",
   "execution_count": 116,
   "metadata": {
    "scrolled": true
   },
   "outputs": [
    {
     "name": "stderr",
     "output_type": "stream",
     "text": [
      "/Users/danahiramos/opt/anaconda3/lib/python3.7/site-packages/ipykernel_launcher.py:1: DeprecationWarning: Call to deprecated `wv` (Attribute will be removed in 4.0.0, use self instead).\n",
      "  \"\"\"Entry point for launching an IPython kernel.\n"
     ]
    },
    {
     "name": "stdout",
     "output_type": "stream",
     "text": [
      "Loaded 3000000 word vectors.\n"
     ]
    }
   ],
   "source": [
    "for word in word2vecDict.wv.vocab:\n",
    "    embeddings_index[word] = word2vecDict.word_vec(word)\n",
    "print('Loaded %s word vectors.' % len(embeddings_index))\n",
    "    \n"
   ]
  },
  {
   "cell_type": "code",
   "execution_count": 117,
   "metadata": {},
   "outputs": [],
   "source": [
    "gc.collect()\n",
    "#Obtenemos la desviación media y estándar de los pesos de incrustación para \n",
    "#poder mantener las mismas estadísticas para el resto de nuestros propios pesos generados al azar.        \n",
    "all_embs = np.stack(list(embeddings_index.values()))\n",
    "emb_mean,emb_std = all_embs.mean(), all_embs.std()\n",
    "        \n",
    "nb_words = len(tokenizer.word_index)\n",
    "# Establecemos el tamaño de incrustación en la dimensión preentrenada a medida que la estemos replicando.\n",
    "#el tamaño será Número de palabras en Vocab X Tamaño de incrustación        \n",
    "embedding_matrix = np.random.normal(emb_mean, emb_std, (nb_words, embed_size))\n",
    "gc.collect()\n",
    "# Con la matriz de incrustación recién creada, la llenaremos con las palabras que tenemos en ambos\n",
    "# nuestro propio diccionario y la inserción preentrenada cargada.\n",
    "         \n",
    "embeddedCount = 0\n",
    "        "
   ]
  },
  {
   "cell_type": "code",
   "execution_count": 118,
   "metadata": {},
   "outputs": [
    {
     "name": "stdout",
     "output_type": "stream",
     "text": [
      "total embedded: 61168 common words\n"
     ]
    }
   ],
   "source": [
    "for word, i in tokenizer.word_index.items():\n",
    "    \n",
    "    i-=1\n",
    "    #Olvide quitar esto si estaba en glove\n",
    "    embedding_vector = embeddings_index.get(word)\n",
    "            #almacenamiento en la matriz embeding\n",
    "    if embedding_vector is not None: \n",
    "        embedding_matrix[i] = embedding_vector\n",
    "        embeddedCount+=1\n",
    "        \n",
    "print('total embedded:',embeddedCount,'common words')\n",
    "        \n",
    "        "
   ]
  },
  {
   "cell_type": "code",
   "execution_count": 119,
   "metadata": {},
   "outputs": [
    {
     "data": {
      "text/plain": [
       "40"
      ]
     },
     "execution_count": 119,
     "metadata": {},
     "output_type": "execute_result"
    }
   ],
   "source": [
    "del(embeddings_index)\n",
    "gc.collect()"
   ]
  },
  {
   "cell_type": "markdown",
   "metadata": {},
   "source": [
    "**Embedding matrix** = Matriz de incrustación que tiene los pesos cargados de las incrustaciones preentrenadas para las palabras comunes que tenemos, y números inicializados aleatoriamente que tienen la misma media y desviación estándar para el resto de los pesos en esta matriz.\n"
   ]
  },
  {
   "cell_type": "code",
   "execution_count": 120,
   "metadata": {},
   "outputs": [
    {
     "data": {
      "text/plain": [
       "(142379, 300)"
      ]
     },
     "execution_count": 120,
     "metadata": {},
     "output_type": "execute_result"
    }
   ],
   "source": [
    "embedding_matrix.shape"
   ]
  },
  {
   "cell_type": "markdown",
   "metadata": {},
   "source": [
    "#### Con los pesos de incrustación, podemos proceder a construir una capa LSTM bidireccional con un factor de abandono.\n",
    "\n"
   ]
  },
  {
   "cell_type": "markdown",
   "metadata": {},
   "source": [
    "Comenzamos definiendo la capa de entrada. Al indicar un espacio vacío después de la coma, le estamos diciendo a Keras que infiera el número automáticamente."
   ]
  },
  {
   "cell_type": "code",
   "execution_count": 121,
   "metadata": {},
   "outputs": [],
   "source": [
    "inp = Input(shape=(maxlen, )) #maxlen=200 definido antes"
   ]
  },
  {
   "cell_type": "markdown",
   "metadata": {},
   "source": [
    "Lo pasamos a nuestra capa Embedding y usamos el parámetro \"pesos\" para indicar el uso de los embedding weights preentrenados que hemos cargado y el parámetro \"trainable\" para decirle a Keras que no vuelva a entrenar la capa de embedding."
   ]
  },
  {
   "cell_type": "code",
   "execution_count": 122,
   "metadata": {},
   "outputs": [],
   "source": [
    "x = Embedding(len(tokenizer.word_index), embedding_matrix.shape[1],weights=[embedding_matrix],trainable=False)(inp)"
   ]
  },
  {
   "cell_type": "markdown",
   "metadata": {},
   "source": [
    "Aplicamos **Bidireccionalidad**: \n",
    "El LSTM se divide entre 2 estados ocultos para cada paso de tiempo. A medida que la secuencia de palabras  alimenta al LSTM de manera progresiva, hay otra secuencia inversa que se alimenta al mismo estado oculto al mismo tiempo.\n",
    "**Ventaja**: Cuando se ejecuta hacia atrás se preserva la información del futuro y al usar los dos estados ocultos combinados, puede en cualquier momento preservar la información tanto del pasado como del futuro."
   ]
  },
  {
   "cell_type": "markdown",
   "metadata": {},
   "source": [
    "Se usa **dropout** para no sobreajustar: Es una capa de abandono probabilístico en las entradas en cada paso de tiempo"
   ]
  },
  {
   "cell_type": "code",
   "execution_count": 123,
   "metadata": {},
   "outputs": [],
   "source": [
    "x = LSTM(60, return_sequences=True,name='lstm_layer')(x)\n",
    "x = GlobalMaxPool1D()(x)\n",
    "x = Dense(50, activation=\"relu\")(x)\n",
    "x = Dense(6, activation=\"sigmoid\")(x)"
   ]
  },
  {
   "cell_type": "code",
   "execution_count": 127,
   "metadata": {},
   "outputs": [],
   "source": [
    "model1 = Model(inputs=inp, outputs=x)\n",
    "model1.compile(loss='binary_crossentropy',\n",
    "                  optimizer='adam',\n",
    "                  metrics=['accuracy'])"
   ]
  },
  {
   "cell_type": "code",
   "execution_count": 128,
   "metadata": {
    "scrolled": true
   },
   "outputs": [
    {
     "name": "stdout",
     "output_type": "stream",
     "text": [
      "Model: \"model_7\"\n",
      "_________________________________________________________________\n",
      "Layer (type)                 Output Shape              Param #   \n",
      "=================================================================\n",
      "input_8 (InputLayer)         (None, 200)               0         \n",
      "_________________________________________________________________\n",
      "embedding_8 (Embedding)      (None, 200, 300)          42713700  \n",
      "_________________________________________________________________\n",
      "lstm_layer (LSTM)            (None, 200, 60)           86640     \n",
      "_________________________________________________________________\n",
      "global_max_pooling1d_9 (Glob (None, 60)                0         \n",
      "_________________________________________________________________\n",
      "dense_11 (Dense)             (None, 50)                3050      \n",
      "_________________________________________________________________\n",
      "dense_12 (Dense)             (None, 6)                 306       \n",
      "=================================================================\n",
      "Total params: 42,803,696\n",
      "Trainable params: 89,996\n",
      "Non-trainable params: 42,713,700\n",
      "_________________________________________________________________\n"
     ]
    }
   ],
   "source": [
    "model1.summary()"
   ]
  },
  {
   "cell_type": "code",
   "execution_count": 129,
   "metadata": {},
   "outputs": [
    {
     "name": "stdout",
     "output_type": "stream",
     "text": [
      "Train on 127656 samples, validate on 31915 samples\n",
      "Epoch 1/5\n",
      "127656/127656 [==============================] - 248s 2ms/step - loss: 0.1485 - accuracy: 0.9576 - val_loss: 0.1194 - val_accuracy: 0.9623\n",
      "Epoch 2/5\n",
      "127656/127656 [==============================] - 240s 2ms/step - loss: 0.0966 - accuracy: 0.9693 - val_loss: 0.0846 - val_accuracy: 0.9729\n",
      "Epoch 3/5\n",
      "127656/127656 [==============================] - 246s 2ms/step - loss: 0.0745 - accuracy: 0.9761 - val_loss: 0.0734 - val_accuracy: 0.9759\n",
      "Epoch 4/5\n",
      "127656/127656 [==============================] - 248s 2ms/step - loss: 0.0662 - accuracy: 0.9784 - val_loss: 0.0674 - val_accuracy: 0.9779\n",
      "Epoch 5/5\n",
      "127656/127656 [==============================] - 349s 3ms/step - loss: 0.0612 - accuracy: 0.9796 - val_loss: 0.0634 - val_accuracy: 0.9787\n"
     ]
    }
   ],
   "source": [
    "batch_size = 256\n",
    "epochs = 5\n",
    "hist = model1.fit(X_t,y, batch_size=batch_size, epochs=epochs, validation_data=(X_te,y_test))"
   ]
  },
  {
   "cell_type": "code",
   "execution_count": 130,
   "metadata": {},
   "outputs": [
    {
     "data": {
      "image/png": "[encoded data removed]",
      "text/plain": [
       "<Figure size 1296x360 with 2 Axes>"
      ]
     },
     "metadata": {
      "needs_background": "light"
     },
     "output_type": "display_data"
    }
   ],
   "source": [
    "# Plot loss\n",
    "plt.figure(figsize=(18, 5))\n",
    "\n",
    "plt.subplot(1, 2, 1)\n",
    "plt.title('Loss')\n",
    "plt.plot(hist.history['loss'], label='Training', linewidth=2)\n",
    "plt.plot(hist.history['val_loss'], label='Validation', linewidth=2)\n",
    "plt.legend()\n",
    "plt.xlabel('Epoch')\n",
    "plt.ylabel('Loss')\n",
    "plt.grid(True)\n",
    "\n",
    "plt.subplot(1, 2, 2)\n",
    "plt.title('Accuracy')\n",
    "plt.plot(hist.history['accuracy'], label='Training', linewidth=2)\n",
    "plt.plot(hist.history['val_accuracy'], label='Validation', linewidth=2)\n",
    "plt.legend()\n",
    "plt.xlabel('Epoch')\n",
    "plt.ylabel('Accuracy')\n",
    "plt.grid(True)\n",
    "\n",
    "plt.show()\n"
   ]
  },
  {
   "cell_type": "code",
   "execution_count": 131,
   "metadata": {},
   "outputs": [],
   "source": [
    "y_test_hat_1 = model1.predict(X_te).round()"
   ]
  },
  {
   "cell_type": "code",
   "execution_count": 132,
   "metadata": {},
   "outputs": [
    {
     "name": "stdout",
     "output_type": "stream",
     "text": [
      "31915/31915 [==============================] - 24s 745us/step\n",
      "Test score: 0.06338935472805374\n",
      "Test accuracy: 0.9787405133247375\n"
     ]
    }
   ],
   "source": [
    "score, acc = model1.evaluate(X_te, y_test[list_classes].values,\n",
    "                            batch_size=batch_size)\n",
    "print('Test score:', score)\n",
    "print('Test accuracy:', acc)"
   ]
  },
  {
   "cell_type": "markdown",
   "metadata": {},
   "source": [
    "## Modelo con texto procesado"
   ]
  },
  {
   "cell_type": "code",
   "execution_count": 84,
   "metadata": {},
   "outputs": [],
   "source": [
    "y = y_train[list_classes].values\n",
    "list_sentences_train = limpienza_quitando_stopwords(X_train)\n",
    "list_sentences_test = limpienza_quitando_stopwords(X_test)"
   ]
  },
  {
   "cell_type": "code",
   "execution_count": 85,
   "metadata": {},
   "outputs": [],
   "source": [
    "max_features = 20000\n",
    "tokenizer = Tokenizer(num_words=max_features)#El número máximo de palabras para mantener, \n",
    "#según la frecuencia de las palabras. Solo se guardarán las palabras num_words (20000) más comunes.\n",
    "tokenizer.fit_on_texts(list(list_sentences_train))\n",
    "list_tokenized_train = tokenizer.texts_to_sequences(list_sentences_train)#lista de sublistas de números\n",
    "list_tokenized_test = tokenizer.texts_to_sequences(list_sentences_test)"
   ]
  },
  {
   "cell_type": "code",
   "execution_count": 86,
   "metadata": {},
   "outputs": [],
   "source": [
    "maxlen = 200\n",
    "X_t = pad_sequences(list_tokenized_train, maxlen=maxlen)\n",
    "X_te = pad_sequences(list_tokenized_test, maxlen=maxlen)\n",
    "#en una matriz de formas 2D Numpy (list_tokenized_train, maxlen). \n"
   ]
  },
  {
   "cell_type": "code",
   "execution_count": 87,
   "metadata": {},
   "outputs": [
    {
     "data": {
      "text/plain": [
       "(127656, 200)"
      ]
     },
     "execution_count": 87,
     "metadata": {},
     "output_type": "execute_result"
    }
   ],
   "source": [
    "X_t.shape"
   ]
  },
  {
   "cell_type": "code",
   "execution_count": 90,
   "metadata": {},
   "outputs": [],
   "source": [
    "\n",
    "word2vecDict = word2vec.KeyedVectors.load_word2vec_format(\"GoogleNews-vectors-negative300.bin\", binary=True)\n",
    "embed_size = 300\n",
    "embeddings_index = dict()\n",
    "    "
   ]
  },
  {
   "cell_type": "code",
   "execution_count": 93,
   "metadata": {},
   "outputs": [
    {
     "name": "stderr",
     "output_type": "stream",
     "text": [
      "/Users/danahiramos/opt/anaconda3/lib/python3.7/site-packages/ipykernel_launcher.py:1: DeprecationWarning: Call to deprecated `wv` (Attribute will be removed in 4.0.0, use self instead).\n",
      "  \"\"\"Entry point for launching an IPython kernel.\n"
     ]
    },
    {
     "name": "stdout",
     "output_type": "stream",
     "text": [
      "Loaded 3000000 word vectors.\n"
     ]
    }
   ],
   "source": [
    "for word in word2vecDict.wv.vocab:\n",
    "    embeddings_index[word] = word2vecDict.word_vec(word)\n",
    "print('Loaded %s word vectors.' % len(embeddings_index))"
   ]
  },
  {
   "cell_type": "code",
   "execution_count": 94,
   "metadata": {},
   "outputs": [],
   "source": [
    "gc.collect()\n",
    "#Obtenemos la desviación media y estándar de los pesos de incrustación para \n",
    "#poder mantener las mismas estadísticas para el resto de nuestros propios pesos generados al azar.        \n",
    "all_embs = np.stack(list(embeddings_index.values()))\n",
    "emb_mean,emb_std = all_embs.mean(), all_embs.std()\n",
    "        \n",
    "nb_words = len(tokenizer.word_index)\n",
    "# Establecemos el tamaño de incrustación en la dimensión preentrenada a medida que la estemos replicando.\n",
    "#el tamaño será Número de palabras en Vocab X Tamaño de incrustación        \n",
    "embedding_matrix = np.random.normal(emb_mean, emb_std, (nb_words, embed_size))\n",
    "gc.collect()\n",
    "# Con la matriz de incrustación recién creada, la llenaremos con las palabras que tenemos en ambos\n",
    "# nuestro propio diccionario y la inserción preentrenada cargada.\n",
    "         \n",
    "embeddedCount = 0\n",
    "        "
   ]
  },
  {
   "cell_type": "code",
   "execution_count": 95,
   "metadata": {},
   "outputs": [
    {
     "name": "stdout",
     "output_type": "stream",
     "text": [
      "total embedded: 61021 common words\n"
     ]
    }
   ],
   "source": [
    "for word, i in tokenizer.word_index.items():\n",
    "    \n",
    "    i-=1\n",
    "    #Olvide quitar esto si estaba en glove\n",
    "    embedding_vector = embeddings_index.get(word)\n",
    "            #almacenamiento en la matriz embeding\n",
    "    if embedding_vector is not None: \n",
    "        embedding_matrix[i] = embedding_vector\n",
    "        embeddedCount+=1\n",
    "        \n",
    "print('total embedded:',embeddedCount,'common words')\n",
    "        "
   ]
  },
  {
   "cell_type": "code",
   "execution_count": 96,
   "metadata": {},
   "outputs": [
    {
     "data": {
      "text/plain": [
       "40"
      ]
     },
     "execution_count": 96,
     "metadata": {},
     "output_type": "execute_result"
    }
   ],
   "source": [
    "del(embeddings_index)\n",
    "gc.collect()"
   ]
  },
  {
   "cell_type": "code",
   "execution_count": 97,
   "metadata": {},
   "outputs": [
    {
     "data": {
      "text/plain": [
       "(142228, 300)"
      ]
     },
     "execution_count": 97,
     "metadata": {},
     "output_type": "execute_result"
    }
   ],
   "source": [
    "embedding_matrix.shape"
   ]
  },
  {
   "cell_type": "code",
   "execution_count": 99,
   "metadata": {},
   "outputs": [],
   "source": [
    "inp = Input(shape=(maxlen, )) #maxlen=200 definido antes\n",
    "x = Embedding(len(tokenizer.word_index), embedding_matrix.shape[1],weights=[embedding_matrix],trainable=False)(inp)\n",
    "x = LSTM(60, return_sequences=True,name='lstm_layer')(x)\n",
    "x = GlobalMaxPool1D()(x)\n",
    "x = Dense(50, activation=\"relu\")(x)\n",
    "x = Dense(6, activation=\"sigmoid\")(x)\n",
    "model2 = Model(inputs=inp, outputs=x)\n",
    "model2.compile(loss='binary_crossentropy',\n",
    "                  optimizer='adam',\n",
    "                  metrics=['accuracy'])\n"
   ]
  },
  {
   "cell_type": "code",
   "execution_count": 100,
   "metadata": {},
   "outputs": [
    {
     "name": "stdout",
     "output_type": "stream",
     "text": [
      "Model: \"model_5\"\n",
      "_________________________________________________________________\n",
      "Layer (type)                 Output Shape              Param #   \n",
      "=================================================================\n",
      "input_7 (InputLayer)         (None, 200)               0         \n",
      "_________________________________________________________________\n",
      "embedding_7 (Embedding)      (None, 200, 300)          42668400  \n",
      "_________________________________________________________________\n",
      "lstm_layer (LSTM)            (None, 200, 60)           86640     \n",
      "_________________________________________________________________\n",
      "global_max_pooling1d_8 (Glob (None, 60)                0         \n",
      "_________________________________________________________________\n",
      "dense_9 (Dense)              (None, 50)                3050      \n",
      "_________________________________________________________________\n",
      "dense_10 (Dense)             (None, 6)                 306       \n",
      "=================================================================\n",
      "Total params: 42,758,396\n",
      "Trainable params: 89,996\n",
      "Non-trainable params: 42,668,400\n",
      "_________________________________________________________________\n"
     ]
    }
   ],
   "source": [
    "model2.summary()"
   ]
  },
  {
   "cell_type": "code",
   "execution_count": 101,
   "metadata": {},
   "outputs": [
    {
     "name": "stdout",
     "output_type": "stream",
     "text": [
      "Train on 127656 samples, validate on 31915 samples\n",
      "Epoch 1/5\n",
      "127656/127656 [==============================] - 266s 2ms/step - loss: 0.1387 - accuracy: 0.9632 - val_loss: 0.0996 - val_accuracy: 0.9696\n",
      "Epoch 2/5\n",
      "127656/127656 [==============================] - 248s 2ms/step - loss: 0.0824 - accuracy: 0.9747 - val_loss: 0.0742 - val_accuracy: 0.9766\n",
      "Epoch 3/5\n",
      "127656/127656 [==============================] - 242s 2ms/step - loss: 0.0670 - accuracy: 0.9784 - val_loss: 0.0672 - val_accuracy: 0.9781\n",
      "Epoch 4/5\n",
      "127656/127656 [==============================] - 242s 2ms/step - loss: 0.0616 - accuracy: 0.9797 - val_loss: 0.0644 - val_accuracy: 0.9788\n",
      "Epoch 5/5\n",
      "127656/127656 [==============================] - 13705s 107ms/step - loss: 0.0578 - accuracy: 0.9806 - val_loss: 0.0618 - val_accuracy: 0.9794\n"
     ]
    }
   ],
   "source": [
    "batch_size = 256\n",
    "epochs = 5\n",
    "hist = model2.fit(X_t,y, batch_size=batch_size, epochs=epochs, validation_data=(X_te,y_test))"
   ]
  },
  {
   "cell_type": "code",
   "execution_count": 102,
   "metadata": {},
   "outputs": [
    {
     "data": {
      "image/png": "[encoded data removed]",
      "text/plain": [
       "<Figure size 1296x360 with 2 Axes>"
      ]
     },
     "metadata": {
      "needs_background": "light"
     },
     "output_type": "display_data"
    }
   ],
   "source": [
    "# Plot loss\n",
    "plt.figure(figsize=(18, 5))\n",
    "\n",
    "plt.subplot(1, 2, 1)\n",
    "plt.title('Loss')\n",
    "plt.plot(hist.history['loss'], label='Training', linewidth=2)\n",
    "plt.plot(hist.history['val_loss'], label='Validation', linewidth=2)\n",
    "plt.legend()\n",
    "plt.xlabel('Epoch')\n",
    "plt.ylabel('Loss')\n",
    "plt.grid(True)\n",
    "\n",
    "plt.subplot(1, 2, 2)\n",
    "plt.title('Accuracy')\n",
    "plt.plot(hist.history['accuracy'], label='Training', linewidth=2)\n",
    "plt.plot(hist.history['val_accuracy'], label='Validation', linewidth=2)\n",
    "plt.legend()\n",
    "plt.xlabel('Epoch')\n",
    "plt.ylabel('Accuracy')\n",
    "plt.grid(True)\n",
    "\n",
    "plt.show()"
   ]
  },
  {
   "cell_type": "code",
   "execution_count": 103,
   "metadata": {},
   "outputs": [],
   "source": [
    "y_test_hat_2 = model2.predict(X_te).round()"
   ]
  },
  {
   "cell_type": "code",
   "execution_count": 104,
   "metadata": {},
   "outputs": [
    {
     "data": {
      "text/plain": [
       "array([[0., 0., 0., 0., 0., 0.],\n",
       "       [0., 0., 0., 0., 0., 0.],\n",
       "       [0., 0., 0., 0., 0., 0.],\n",
       "       ...,\n",
       "       [0., 0., 0., 0., 0., 0.],\n",
       "       [0., 0., 0., 0., 0., 0.],\n",
       "       [0., 0., 0., 0., 0., 0.]], dtype=float32)"
      ]
     },
     "execution_count": 104,
     "metadata": {},
     "output_type": "execute_result"
    }
   ],
   "source": [
    "y_test_hat_2"
   ]
  },
  {
   "cell_type": "code",
   "execution_count": 107,
   "metadata": {},
   "outputs": [
    {
     "name": "stdout",
     "output_type": "stream",
     "text": [
      "31915/31915 [==============================] - 22s 693us/step\n",
      "Test score: 0.06178243530570723\n",
      "Test accuracy: 0.9794192314147949\n"
     ]
    }
   ],
   "source": [
    "score, acc = model2.evaluate(X_te, y_test[list_classes].values,\n",
    "                            batch_size=batch_size)\n",
    "print('Test score:', score)\n",
    "print('Test accuracy:', acc)"
   ]
  },
  {
   "cell_type": "code",
   "execution_count": null,
   "metadata": {},
   "outputs": [],
   "source": []
  }
 ],
 "metadata": {
  "kernelspec": {
   "display_name": "Python 3",
   "language": "python",
   "name": "python3"
  },
  "language_info": {
   "codemirror_mode": {
    "name": "ipython",
    "version": 3
   },
   "file_extension": ".py",
   "mimetype": "text/x-python",
   "name": "python",
   "nbconvert_exporter": "python",
   "pygments_lexer": "ipython3",
   "version": "3.7.4"
  }
 },
 "nbformat": 4,
 "nbformat_minor": 2
}
