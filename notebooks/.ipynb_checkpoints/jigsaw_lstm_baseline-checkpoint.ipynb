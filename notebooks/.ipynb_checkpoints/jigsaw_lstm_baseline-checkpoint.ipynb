{
 "cells": [
  {
   "cell_type": "markdown",
   "metadata": {
    "colab_type": "text",
    "id": "OWPQHUB6xgUR"
   },
   "source": [
    "# Toxic Comment Classification Challenge\n",
    "\n",
    "## 1. Librerias necesarias"
   ]
  },
  {
   "cell_type": "code",
   "execution_count": 0,
   "metadata": {
    "colab": {},
    "colab_type": "code",
    "id": "TMpfpMmt8jDM"
   },
   "outputs": [],
   "source": [
    "#Importamos librerías\n",
    "import numpy as np\n",
    "import pandas as pd\n",
    "import io\n",
    "import requests\n",
    "from sklearn.feature_extraction.text import TfidfVectorizer  #Funcion a investigar\n",
    "from sklearn.feature_extraction.text import CountVectorizer\n",
    "from sklearn.linear_model import LogisticRegression   #Funcion de Regresión logistica\n",
    "from sklearn.model_selection import cross_val_score  #Función de cross validation\n",
    "from sklearn.pipeline import make_union"
   ]
  },
  {
   "cell_type": "markdown",
   "metadata": {
    "colab_type": "text",
    "id": "uFnJyMwposwU"
   },
   "source": [
    "## 2. Descarga de datos y nombres de categorias a predecir"
   ]
  },
  {
   "cell_type": "code",
   "execution_count": 0,
   "metadata": {
    "colab": {},
    "colab_type": "code",
    "id": "jaooLGbxxhNT"
   },
   "outputs": [],
   "source": [
    "# url datos en repositorio del proyecto\n",
    "url_train = \"https://github.com/czammar/MA_finalproject/blob/master/data/train.csv?raw=true\"\n",
    "url_test = \"https://raw.githubusercontent.com/czammar/MA_finalproject/master/data/test.csv?raw=true\"\n",
    "url_test_labels = \"https://github.com/czammar/MA_finalproject/blob/master/data/test_labels.csv?raw=true\""
   ]
  },
  {
   "cell_type": "code",
   "execution_count": 0,
   "metadata": {
    "colab": {},
    "colab_type": "code",
    "id": "RzQWdy_V8lHd"
   },
   "outputs": [],
   "source": [
    "# Leemos los los datos de train, test y labels del test desde nuestro repositorio usando requesto con io\n",
    "rtrain=requests.get(url_train).content\n",
    "rtest=requests.get(url_test).content\n",
    "rtest_labels=requests.get(url_test_labels).content\n",
    "\n",
    "#Define los clasificaciones de toxicidad\n",
    "class_names = ['toxic', 'severe_toxic', 'obscene', 'threat', 'insult', 'identity_hate']"
   ]
  },
  {
   "cell_type": "code",
   "execution_count": 0,
   "metadata": {
    "colab": {},
    "colab_type": "code",
    "id": "0yQ8qBUA8zvu"
   },
   "outputs": [],
   "source": [
    "# Cargamos io hacia pandas\n",
    "train = pd.read_csv(io.StringIO(rtrain.decode('utf-8')))\n",
    "test = pd.read_csv(io.StringIO(rtest.decode('utf-8')))\n",
    "test_labels = pd.read_csv(io.StringIO(rtest_labels.decode('utf-8')))"
   ]
  },
  {
   "cell_type": "markdown",
   "metadata": {
    "colab_type": "text",
    "id": "8t1OmaZTo1a5"
   },
   "source": [
    "## 4. Split en conjunto de entrenamiento y prueba"
   ]
  },
  {
   "cell_type": "code",
   "execution_count": 86,
   "metadata": {
    "colab": {
     "base_uri": "https://localhost:8080/",
     "height": 49
    },
    "colab_type": "code",
    "id": "8lWo0n6_9i2g",
    "outputId": "ce16e2bd-8545-4e11-9ee5-6fcff6eac37d"
   },
   "outputs": [
    {
     "name": "stdout",
     "output_type": "stream",
     "text": [
      "Data points in train data after splitting: 127656\n",
      "Data points in valiadtion data: 31915\n"
     ]
    }
   ],
   "source": [
    "#Dividir train en train y test  20% train y 80% test\n",
    "import random\n",
    "random.seed(10)\n",
    "\n",
    "from sklearn.model_selection import train_test_split\n",
    "X_train, X_test, y_train, y_test = train_test_split(train['comment_text'], \n",
    "                                                  train[class_names], test_size=0.2, random_state=2019)\n",
    "\n",
    "print('Data points in train data after splitting:', len(X_train))\n",
    "print('Data points in valiadtion data:', len(X_test))"
   ]
  },
  {
   "cell_type": "code",
   "execution_count": 87,
   "metadata": {
    "colab": {
     "base_uri": "https://localhost:8080/",
     "height": 214
    },
    "colab_type": "code",
    "id": "sU1IEkf5_aGZ",
    "outputId": "69cb8eae-fea1-4162-be33-9f1f43db6290"
   },
   "outputs": [
    {
     "data": {
      "text/plain": [
       "104543    That is about it for for now. Primarily, I wor...\n",
       "119983    \"\\n I wasn't aware that peer-reviewed studies ...\n",
       "154937    \"\\nIt's fine to edit for personal gain so long...\n",
       "94831     I did not add these words to the PLANS website...\n",
       "141987    \"\\n\\n List of recent changes \\n\\nRequested by ...\n",
       "                                ...                        \n",
       "37242     \"\\nA tag has been placed on Chris Teague, requ...\n",
       "84131     \"\\nYup its reasonable. I'll be working on it i...\n",
       "12690     \"\\n\\n==\\n\\nHelping me to make my first wikiped...\n",
       "134464    Causation of Gulf War Illness\\n\\nMercury Poiso...\n",
       "119400    \" (UTC)\\nIMO, desktop environments like GNOME ...\n",
       "Name: comment_text, Length: 31915, dtype: object"
      ]
     },
     "execution_count": 87,
     "metadata": {
      "tags": []
     },
     "output_type": "execute_result"
    }
   ],
   "source": [
    "X_test"
   ]
  },
  {
   "cell_type": "code",
   "execution_count": 0,
   "metadata": {
    "colab": {},
    "colab_type": "code",
    "id": "BuaGhtTT_akC"
   },
   "outputs": [],
   "source": [
    "#Se seleccionan las columnas de textos tanto de train como de test\n",
    "train_text = X_train#train['comment_text']\n",
    "test_text = X_test#test['comment_text']\n",
    "all_text = pd.concat([train_text, test_text])  #Aqui se concatenan"
   ]
  },
  {
   "cell_type": "code",
   "execution_count": 89,
   "metadata": {
    "colab": {
     "base_uri": "https://localhost:8080/",
     "height": 214
    },
    "colab_type": "code",
    "id": "3I30ptpQDuQV",
    "outputId": "1ec8a82f-7eb9-43f5-e5fe-8c931b7ec1bc"
   },
   "outputs": [
    {
     "data": {
      "text/plain": [
       "15176     Baker removed the picture primarily as an atta...\n",
       "64290     \"\\n\\n Image:Peter macnicol.jpg \\nThanks for up...\n",
       "64709     \"\\n\\nIs the UK multinational?\\n\\nAn editor had...\n",
       "87891     \"\\n\\nPlease do not remove messages from your t...\n",
       "98308                    Images\\nWikipedia:Picture tutorial\n",
       "                                ...                        \n",
       "37242     \"\\nA tag has been placed on Chris Teague, requ...\n",
       "84131     \"\\nYup its reasonable. I'll be working on it i...\n",
       "12690     \"\\n\\n==\\n\\nHelping me to make my first wikiped...\n",
       "134464    Causation of Gulf War Illness\\n\\nMercury Poiso...\n",
       "119400    \" (UTC)\\nIMO, desktop environments like GNOME ...\n",
       "Name: comment_text, Length: 159571, dtype: object"
      ]
     },
     "execution_count": 89,
     "metadata": {
      "tags": []
     },
     "output_type": "execute_result"
    }
   ],
   "source": [
    "all_text"
   ]
  },
  {
   "cell_type": "markdown",
   "metadata": {
    "colab_type": "text",
    "id": "ElDmJYQAx0DR"
   },
   "source": [
    "## 5. Procesamiento del texto de los comentarios"
   ]
  },
  {
   "cell_type": "code",
   "execution_count": 90,
   "metadata": {
    "colab": {
     "base_uri": "https://localhost:8080/",
     "height": 49
    },
    "colab_type": "code",
    "id": "F8QdobtAxhVg",
    "outputId": "6f136276-bba7-496c-8764-9e8096404a0d"
   },
   "outputs": [
    {
     "name": "stdout",
     "output_type": "stream",
     "text": [
      "[nltk_data] Downloading package stopwords to /root/nltk_data...\n",
      "[nltk_data]   Package stopwords is already up-to-date!\n"
     ]
    }
   ],
   "source": [
    "# Natural language toolkit, nos ayudara con preprocessing de los datos\n",
    "import re\n",
    "import nltk\n",
    "nltk.download('stopwords')\n",
    "\n",
    "# Carga un set de stopwords predefinidas\n",
    "from nltk.corpus import stopwords\n",
    "STOPWORDS = set(stopwords.words('english'))\n",
    "\n",
    "# \n",
    "import sys, os, re, csv, codecs, numpy as np\n",
    "import matplotlib.pyplot as plt\n",
    "%matplotlib inline\n",
    "\n",
    "# Librerias de Keras\n",
    "from keras.preprocessing.text import Tokenizer\n",
    "from keras.preprocessing.sequence import pad_sequences\n",
    "from keras.layers import Dense, Input, LSTM, Embedding, Dropout, Activation\n",
    "from keras.layers import Bidirectional, GlobalMaxPool1D\n",
    "from keras.models import Model\n",
    "from keras import initializers, regularizers, constraints, optimizers, layers"
   ]
  },
  {
   "cell_type": "code",
   "execution_count": 0,
   "metadata": {
    "colab": {},
    "colab_type": "code",
    "id": "6rCsBCqLRp0N"
   },
   "outputs": [],
   "source": [
    "# Funcion para ayudarnos a sustituir abreviaciones\n",
    "\n",
    "def decontracted(phrase):\n",
    "  phrase = re.sub(r\"won't\", \"will not\", phrase)\n",
    "  phrase = re.sub(r\"can\\'t\", \"can not\", phrase)\n",
    "  phrase = re.sub(r\"n\\'t\", \" not\", phrase)\n",
    "  phrase = re.sub(r\"\\'re\", \" are\", phrase)\n",
    "  phrase = re.sub(r\"\\'s\", \" is\", phrase)\n",
    "  phrase = re.sub(r\"\\'d\", \" would\", phrase)\n",
    "  phrase = re.sub(r\"\\'ll\", \" will\", phrase)\n",
    "  phrase = re.sub(r\"\\'t\", \" not\", phrase)\n",
    "  phrase = re.sub(r\"\\'ve\", \" have\", phrase)\n",
    "  phrase = re.sub(r\"\\'m\", \" am\", phrase)\n",
    "  return phrase"
   ]
  },
  {
   "cell_type": "code",
   "execution_count": 0,
   "metadata": {
    "colab": {},
    "colab_type": "code",
    "id": "10A_KedlRvDL"
   },
   "outputs": [],
   "source": [
    "# Set adicional de stopwords, removeremos palabras tanto de este set como del que\n",
    "# viene definido en el nltk\n",
    "stopwords= set(['br', 'the', 'i', 'me', 'my', 'myself', 'we', 'our', 'ours', 'ourselves', 'you', \"you're\", \"you've\",\\\n",
    "            \"you'll\", \"you'd\", 'your', 'yours', 'yourself', 'yourselves', 'he', 'him', 'his', 'himself', \\\n",
    "            'she', \"she's\", 'her', 'hers', 'herself', 'it', \"it's\", 'its', 'itself', 'they', 'them', 'their',\\\n",
    "            'theirs', 'themselves', 'what', 'which', 'who', 'whom', 'this', 'that', \"that'll\", 'these', 'those', \\\n",
    "            'am', 'is', 'are', 'was', 'were', 'be', 'been', 'being', 'have', 'has', 'had', 'having', 'do', 'does', \\\n",
    "            'did', 'doing', 'a', 'an', 'the', 'and', 'but', 'if', 'or', 'because', 'as', 'until', 'while', 'of', \\\n",
    "            'at', 'by', 'for', 'with', 'about', 'against', 'between', 'into', 'through', 'during', 'before', 'after',\\\n",
    "            'above', 'below', 'to', 'from', 'up', 'down', 'in', 'out', 'on', 'off', 'over', 'under', 'again', 'further',\\\n",
    "            'then', 'once', 'here', 'there', 'when', 'where', 'why', 'how', 'all', 'any', 'both', 'each', 'few', 'more',\\\n",
    "            'most', 'other', 'some', 'such', 'only', 'own', 'same', 'so', 'than', 'too', 'very', \\\n",
    "            's', 't', 'can', 'will', 'just', 'don', \"don't\", 'should', \"should've\", 'now', 'd', 'll', 'm', 'o', 're', \\\n",
    "            've', 'y', 'ain', 'aren', \"aren't\", 'couldn', \"couldn't\", 'didn', \"didn't\", 'doesn', \"doesn't\", 'hadn',\\\n",
    "            \"hadn't\", 'hasn', \"hasn't\", 'haven', \"haven't\", 'isn', \"isn't\", 'ma', 'mightn', \"mightn't\", 'mustn',\\\n",
    "            \"mustn't\", 'needn', \"needn't\", 'shan', \"shan't\", 'shouldn', \"shouldn't\", 'wasn', \"wasn't\", 'weren', \"weren't\", \\\n",
    "            'won', \"won't\", 'wouldn', \"wouldn't\"])"
   ]
  },
  {
   "cell_type": "code",
   "execution_count": 0,
   "metadata": {
    "colab": {},
    "colab_type": "code",
    "id": "31GV8GfhRyNu"
   },
   "outputs": [],
   "source": [
    "# Función auxiliar para remover stopwords y otras normalizaciones de texto\n",
    "def limpienza_manteniendo_stopwords(dataframe):\n",
    "  SYNS = []\n",
    "  for sentance in dataframe:\n",
    "    sentance = re.sub('\\\\n', ' ', sentance)\n",
    "    sentance = re.sub(\"\\d{1,3}\\.\\d{1,3}\\.\\d{1,3}\\.\\d{1,3}\",'', sentance)\n",
    "    sentance = re.sub(\"\\[\\[User.*\",'',sentance)\n",
    "    sentance = re.sub(\"(http://.*?\\s)|(http://.*)\",'',sentance)\n",
    "    sentance = re.sub(r\"http\\S+\", \"\", sentance)\n",
    "    sentance = decontracted(sentance)\n",
    "    sentance = re.sub(\"\\S*\\d\\S*\", \"\", sentance).strip()\n",
    "    sentance = re.sub('[^A-Za-z]+', ' ', sentance)\n",
    "    #sentance = ' '.join(e.lower() for e in sentance.split() if e.lower() not in stopwords)\n",
    "    #sentance = ' '.join(e.lower() for e in sentance.split() if e.lower() not in STOPWORDS)\n",
    "    SYNS.append(sentance.strip())\n",
    "  return SYNS\n",
    "\n",
    "  # Función auxiliar para remover stopwords y otras normalizaciones de texto\n",
    "def limpienza_quitando_stopwords(dataframe):\n",
    "  SYNS = []\n",
    "  for sentance in dataframe:\n",
    "    sentance = re.sub('\\\\n', ' ', sentance)\n",
    "    sentance = re.sub(\"\\d{1,3}\\.\\d{1,3}\\.\\d{1,3}\\.\\d{1,3}\",'', sentance)\n",
    "    sentance = re.sub(\"\\[\\[User.*\",'',sentance)\n",
    "    sentance = re.sub(\"(http://.*?\\s)|(http://.*)\",'',sentance)\n",
    "    sentance = re.sub(r\"http\\S+\", \"\", sentance)\n",
    "    sentance = decontracted(sentance)\n",
    "    sentance = re.sub(\"\\S*\\d\\S*\", \"\", sentance).strip()\n",
    "    sentance = re.sub('[^A-Za-z]+', ' ', sentance)\n",
    "    sentance = ' '.join(e.lower() for e in sentance.split() if e.lower() not in stopwords)\n",
    "    sentance = ' '.join(e.lower() for e in sentance.split() if e.lower() not in STOPWORDS)\n",
    "    SYNS.append(sentance.strip())\n",
    "  return SYNS"
   ]
  },
  {
   "cell_type": "markdown",
   "metadata": {
    "colab_type": "text",
    "id": "rWc6CWZ31akg"
   },
   "source": [
    "## 2. Modelo - procesamiento que mantiene stopwords"
   ]
  },
  {
   "cell_type": "code",
   "execution_count": 0,
   "metadata": {
    "colab": {},
    "colab_type": "code",
    "id": "9A9ghNyoxhbZ"
   },
   "outputs": [],
   "source": [
    "list_classes = [\"toxic\", \"severe_toxic\", \"obscene\", \"threat\", \"insult\", \"identity_hate\"]\n",
    "y = train[list_classes].values"
   ]
  },
  {
   "cell_type": "code",
   "execution_count": 0,
   "metadata": {
    "colab": {},
    "colab_type": "code",
    "id": "apF5VW-zLC-J"
   },
   "outputs": [],
   "source": [
    "list_sentences_train = limpienza_manteniendo_stopwords(X_train)\n",
    "list_sentences_test = limpienza_manteniendo_stopwords(X_test)"
   ]
  },
  {
   "cell_type": "code",
   "execution_count": 0,
   "metadata": {
    "colab": {},
    "colab_type": "code",
    "id": "cjb6GqGyxhdc"
   },
   "outputs": [],
   "source": [
    "max_features = 20000\n",
    "tokenizer = Tokenizer(num_words=max_features)\n",
    "tokenizer.fit_on_texts(list(all_text))\n",
    "list_tokenized_train = tokenizer.texts_to_sequences(list_sentences_train)\n",
    "list_tokenized_test = tokenizer.texts_to_sequences(list_sentences_test)"
   ]
  },
  {
   "cell_type": "code",
   "execution_count": 0,
   "metadata": {
    "colab": {},
    "colab_type": "code",
    "id": "JTaZBPawy40t"
   },
   "outputs": [],
   "source": [
    "maxlen = 200\n",
    "X_t = pad_sequences(list_tokenized_train, maxlen=maxlen)\n",
    "X_te = pad_sequences(list_tokenized_test, maxlen=maxlen)"
   ]
  },
  {
   "cell_type": "markdown",
   "metadata": {
    "colab_type": "text",
    "id": "vQ1WDK-uzyWF"
   },
   "source": [
    "**modelo 1**"
   ]
  },
  {
   "cell_type": "code",
   "execution_count": 0,
   "metadata": {
    "colab": {},
    "colab_type": "code",
    "id": "7Iz4Kzlay46W"
   },
   "outputs": [],
   "source": [
    "inp = Input(shape=(maxlen, )) #maxlen=200 as defined earlier\n",
    "embed_size = 128\n",
    "x = Embedding(max_features, embed_size)(inp)\n",
    "x = LSTM(60, return_sequences=True,name='lstm_layer')(x)\n",
    "x = GlobalMaxPool1D()(x)\n",
    "x = Dense(50, activation=\"relu\")(x)\n",
    "x = Dense(6, activation=\"sigmoid\")(x)\n"
   ]
  },
  {
   "cell_type": "code",
   "execution_count": 0,
   "metadata": {
    "colab": {},
    "colab_type": "code",
    "id": "0x7eZTLOy48d"
   },
   "outputs": [],
   "source": [
    "model1 = Model(inputs=inp, outputs=x)\n",
    "model1.compile(loss='binary_crossentropy',\n",
    "                  optimizer='sgd',\n",
    "                  metrics=['accuracy'])"
   ]
  },
  {
   "cell_type": "code",
   "execution_count": 100,
   "metadata": {
    "colab": {
     "base_uri": "https://localhost:8080/",
     "height": 537
    },
    "colab_type": "code",
    "id": "s0KhlfRDSvQ2",
    "outputId": "5b4068b9-7872-4169-b469-333f4797bfab"
   },
   "outputs": [
    {
     "data": {
      "image/png": "[encoded data removed]",
      "text/plain": [
       "<IPython.core.display.Image object>"
      ]
     },
     "execution_count": 100,
     "metadata": {
      "tags": []
     },
     "output_type": "execute_result"
    }
   ],
   "source": [
    "from keras.utils.vis_utils import plot_model\n",
    "plot_model(model1, show_shapes=True, show_layer_names=True, dpi=80)"
   ]
  },
  {
   "cell_type": "code",
   "execution_count": 101,
   "metadata": {
    "colab": {
     "base_uri": "https://localhost:8080/",
     "height": 197
    },
    "colab_type": "code",
    "id": "t0Y_P_iEy4-p",
    "outputId": "8b7857b4-bddb-4f34-ef30-270f516af84e"
   },
   "outputs": [
    {
     "name": "stdout",
     "output_type": "stream",
     "text": [
      "Train on 127656 samples, validate on 31915 samples\n",
      "Epoch 1/5\n",
      "127656/127656 [==============================] - 233s 2ms/step - loss: 0.0089 - accuracy: 0.9969 - val_loss: 0.0996 - val_accuracy: 0.9781\n",
      "Epoch 2/5\n",
      "127656/127656 [==============================] - 227s 2ms/step - loss: 0.0077 - accuracy: 0.9974 - val_loss: 0.1043 - val_accuracy: 0.9781\n",
      "Epoch 3/5\n",
      "127656/127656 [==============================] - 223s 2ms/step - loss: 0.0067 - accuracy: 0.9978 - val_loss: 0.1126 - val_accuracy: 0.9780\n",
      "Epoch 4/5\n",
      "127656/127656 [==============================] - 222s 2ms/step - loss: 0.0060 - accuracy: 0.9980 - val_loss: 0.1198 - val_accuracy: 0.9785\n",
      "Epoch 5/5\n",
      "127656/127656 [==============================] - 220s 2ms/step - loss: 0.0053 - accuracy: 0.9982 - val_loss: 0.1235 - val_accuracy: 0.9777\n"
     ]
    }
   ],
   "source": [
    "batch_size = 256\n",
    "epochs = 5\n",
    "hist = model.fit(X_t,y_train, batch_size=batch_size, epochs=epochs, validation_data=(X_te,y_test))"
   ]
  },
  {
   "cell_type": "code",
   "execution_count": 102,
   "metadata": {
    "colab": {
     "base_uri": "https://localhost:8080/",
     "height": 294
    },
    "colab_type": "code",
    "id": "3kDxhxoTy5Aj",
    "outputId": "afd88af7-9d4f-4372-9d00-e90a462324b6"
   },
   "outputs": [
    {
     "data": {
      "image/png": "[encoded data removed]",
      "text/plain": [
       "<Figure size 432x288 with 1 Axes>"
      ]
     },
     "metadata": {
      "needs_background": "light",
      "tags": []
     },
     "output_type": "display_data"
    }
   ],
   "source": [
    "# Plot loss\n",
    "plt.title('Loss')\n",
    "plt.plot(hist.history['loss'], label='Training', linewidth=2)\n",
    "plt.plot(hist.history['val_loss'], label='Validation', linewidth=2)\n",
    "plt.legend()\n",
    "plt.xlabel('Epoch')\n",
    "plt.ylabel('Loss')\n",
    "plt.grid(True)\n",
    "plt.show()"
   ]
  },
  {
   "cell_type": "code",
   "execution_count": 0,
   "metadata": {
    "colab": {},
    "colab_type": "code",
    "id": "ewgAdMyCy5C7"
   },
   "outputs": [],
   "source": []
  },
  {
   "cell_type": "markdown",
   "metadata": {
    "colab_type": "text",
    "id": "Qw2nVC5zgMkI"
   },
   "source": [
    "**Modelo con texto procesado**"
   ]
  },
  {
   "cell_type": "code",
   "execution_count": 0,
   "metadata": {
    "colab": {},
    "colab_type": "code",
    "id": "Zz_gXFxPgGG2"
   },
   "outputs": [],
   "source": [
    "list_sentences_train = limpienza_quitando_stopwords(X_train)\n",
    "list_sentences_test = limpienza_quitando_stopwords(X_test)"
   ]
  },
  {
   "cell_type": "code",
   "execution_count": 0,
   "metadata": {
    "colab": {},
    "colab_type": "code",
    "id": "5OXQvJflgGar"
   },
   "outputs": [],
   "source": [
    "max_features = 20000\n",
    "tokenizer = Tokenizer(num_words=max_features)\n",
    "tokenizer.fit_on_texts(list(all_text))\n",
    "list_tokenized_train = tokenizer.texts_to_sequences(list_sentences_train)\n",
    "list_tokenized_test = tokenizer.texts_to_sequences(list_sentences_test)"
   ]
  },
  {
   "cell_type": "code",
   "execution_count": 0,
   "metadata": {
    "colab": {},
    "colab_type": "code",
    "id": "jF76P197gGg7"
   },
   "outputs": [],
   "source": [
    "maxlen = 200\n",
    "X_t = pad_sequences(list_tokenized_train, maxlen=maxlen)\n",
    "X_te = pad_sequences(list_tokenized_test, maxlen=maxlen)"
   ]
  },
  {
   "cell_type": "code",
   "execution_count": 0,
   "metadata": {
    "colab": {},
    "colab_type": "code",
    "id": "NNu_665E9Et0"
   },
   "outputs": [],
   "source": [
    "inp = Input(shape=(maxlen, )) #maxlen=200 as defined earlier\n",
    "embed_size = 128\n",
    "x = Embedding(max_features, embed_size)(inp)\n",
    "x = LSTM(60, return_sequences=True,name='lstm_layer')(x)\n",
    "x = GlobalMaxPool1D()(x)\n",
    "x = Dense(50, activation=\"relu\")(x)\n",
    "x = Dense(6, activation=\"sigmoid\")(x)"
   ]
  },
  {
   "cell_type": "code",
   "execution_count": 0,
   "metadata": {
    "colab": {},
    "colab_type": "code",
    "id": "AsCrqu0l9IVe"
   },
   "outputs": [],
   "source": [
    "model2 = Model(inputs=inp, outputs=x)\n",
    "model2.compile(loss='binary_crossentropy',\n",
    "                  optimizer='sgd',\n",
    "                  metrics=['accuracy'])"
   ]
  },
  {
   "cell_type": "code",
   "execution_count": 109,
   "metadata": {
    "colab": {
     "base_uri": "https://localhost:8080/",
     "height": 250
    },
    "colab_type": "code",
    "id": "XHpChjOogAel",
    "outputId": "9199b228-b0da-4603-e386-5de11645f7e8"
   },
   "outputs": [
    {
     "name": "stderr",
     "output_type": "stream",
     "text": [
      "/usr/local/lib/python3.6/dist-packages/tensorflow/python/framework/indexed_slices.py:434: UserWarning: Converting sparse IndexedSlices to a dense Tensor of unknown shape. This may consume a large amount of memory.\n",
      "  \"Converting sparse IndexedSlices to a dense Tensor of unknown shape. \"\n"
     ]
    },
    {
     "name": "stdout",
     "output_type": "stream",
     "text": [
      "Train on 127656 samples, validate on 31915 samples\n",
      "Epoch 1/5\n",
      "127656/127656 [==============================] - 225s 2ms/step - loss: 0.5535 - accuracy: 0.9468 - val_loss: 0.3970 - val_accuracy: 0.9622\n",
      "Epoch 2/5\n",
      "127656/127656 [==============================] - 220s 2ms/step - loss: 0.2497 - accuracy: 0.9636 - val_loss: 0.1698 - val_accuracy: 0.9622\n",
      "Epoch 3/5\n",
      "127656/127656 [==============================] - 220s 2ms/step - loss: 0.1522 - accuracy: 0.9636 - val_loss: 0.1494 - val_accuracy: 0.9622\n",
      "Epoch 4/5\n",
      "127656/127656 [==============================] - 220s 2ms/step - loss: 0.1434 - accuracy: 0.9636 - val_loss: 0.1465 - val_accuracy: 0.9622\n",
      "Epoch 5/5\n",
      "127656/127656 [==============================] - 219s 2ms/step - loss: 0.1416 - accuracy: 0.9636 - val_loss: 0.1455 - val_accuracy: 0.9622\n"
     ]
    }
   ],
   "source": [
    "hist = model2.fit(X_t,y_train, batch_size=batch_size, epochs=epochs, validation_data=(X_te,y_test))"
   ]
  },
  {
   "cell_type": "code",
   "execution_count": 110,
   "metadata": {
    "colab": {
     "base_uri": "https://localhost:8080/",
     "height": 294
    },
    "colab_type": "code",
    "id": "vxFNmzFLgAgk",
    "outputId": "4707a5e3-9c31-4db9-ba39-a5d25b3f48b9"
   },
   "outputs": [
    {
     "data": {
      "image/png": "[encoded data removed]",
      "text/plain": [
       "<Figure size 432x288 with 1 Axes>"
      ]
     },
     "metadata": {
      "needs_background": "light",
      "tags": []
     },
     "output_type": "display_data"
    }
   ],
   "source": [
    "# Plot loss\n",
    "plt.title('Loss')\n",
    "plt.plot(hist.history['loss'], label='Training', linewidth=2)\n",
    "plt.plot(hist.history['val_loss'], label='Validation', linewidth=2)\n",
    "plt.legend()\n",
    "plt.xlabel('Epoch')\n",
    "plt.ylabel('Loss')\n",
    "plt.grid(True)\n",
    "plt.show()"
   ]
  }
 ],
 "metadata": {
  "accelerator": "GPU",
  "colab": {
   "collapsed_sections": [],
   "name": "jigsaw_lstm_baseline.ipynb",
   "provenance": []
  },
  "kernelspec": {
   "display_name": "Python 3",
   "language": "python",
   "name": "python3"
  },
  "language_info": {
   "codemirror_mode": {
    "name": "ipython",
    "version": 3
   },
   "file_extension": ".py",
   "mimetype": "text/x-python",
   "name": "python",
   "nbconvert_exporter": "python",
   "pygments_lexer": "ipython3",
   "version": "3.7.4"
  }
 },
 "nbformat": 4,
 "nbformat_minor": 1
}
