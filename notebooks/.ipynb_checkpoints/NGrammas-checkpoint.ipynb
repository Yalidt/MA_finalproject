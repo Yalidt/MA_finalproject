{
 "cells": [
  {
   "cell_type": "code",
   "execution_count": 108,
   "metadata": {
    "colab": {},
    "colab_type": "code",
    "id": "tZnsHC7GtMs0"
   },
   "outputs": [],
   "source": [
    "#Importamos librerías\n",
    "import numpy as np\n",
    "import pandas as pd\n",
    "import io\n",
    "import requests\n",
    "from sklearn.feature_extraction.text import TfidfVectorizer  #Funcion a investigar\n",
    "from sklearn.feature_extraction.text import CountVectorizer\n",
    "from sklearn.linear_model import LogisticRegression   #Funcion de Regresión logistica\n",
    "from sklearn.model_selection import cross_val_score  #Función de cross validation\n",
    "from sklearn.pipeline import make_union  \n"
   ]
  },
  {
   "cell_type": "code",
   "execution_count": 109,
   "metadata": {
    "colab": {},
    "colab_type": "code",
    "id": "vxzt6fuGsWz5"
   },
   "outputs": [],
   "source": [
    "#Definimos los url para cargar los datos\n",
    "url_train = \"https://github.com/czammar/MA_finalproject/blob/master/data/train.csv?raw=true\"\n",
    "url_test = \"https://raw.githubusercontent.com/czammar/MA_finalproject/master/data/test.csv?raw=true\"\n",
    "url_test_labels = \"https://github.com/czammar/MA_finalproject/blob/master/data/test_labels.csv?raw=true\""
   ]
  },
  {
   "cell_type": "code",
   "execution_count": 110,
   "metadata": {
    "colab": {},
    "colab_type": "code",
    "id": "HI-ezipTsbwf"
   },
   "outputs": [],
   "source": [
    "# Leemos los los datos de train, test y labels del test desde nuestro repositorio usando requesto con io\n",
    "rtrain=requests.get(url_train).content\n",
    "rtest=requests.get(url_test).content\n",
    "rtest_labels=requests.get(url_test_labels).content"
   ]
  },
  {
   "cell_type": "code",
   "execution_count": 111,
   "metadata": {
    "colab": {},
    "colab_type": "code",
    "id": "-Adr7gWavOx7"
   },
   "outputs": [],
   "source": [
    "#Define los clasificaciones de toxicidad\n",
    "class_names = ['toxic', 'severe_toxic', 'obscene', 'threat', 'insult', 'identity_hate']"
   ]
  },
  {
   "cell_type": "code",
   "execution_count": 112,
   "metadata": {
    "colab": {},
    "colab_type": "code",
    "id": "94bSFvvgtFvl"
   },
   "outputs": [],
   "source": [
    "# Cargamos io hacia pandas\n",
    "train = pd.read_csv(io.StringIO(rtrain.decode('utf-8')))\n",
    "test = pd.read_csv(io.StringIO(rtest.decode('utf-8')))"
   ]
  },
  {
   "cell_type": "code",
   "execution_count": 114,
   "metadata": {},
   "outputs": [
    {
     "name": "stdout",
     "output_type": "stream",
     "text": [
      "Data points in train data after splitting: 127656\n",
      "Data points in valiadtion data: 31915\n"
     ]
    }
   ],
   "source": [
    "#Dividir train en train y test  20% train y 80% test\n",
    "import random\n",
    "random.seed(10)\n",
    "\n",
    "from sklearn.model_selection import train_test_split\n",
    "X_train, X_test, y_train, y_test = train_test_split(train['comment_text'], \n",
    "                                                  train[class_names], test_size=0.2, random_state=2019)\n",
    "\n",
    "print('Data points in train data after splitting:', len(X_train))\n",
    "print('Data points in valiadtion data:', len(X_test))"
   ]
  },
  {
   "cell_type": "code",
   "execution_count": 122,
   "metadata": {
    "colab": {
     "base_uri": "https://localhost:8080/",
     "height": 204
    },
    "colab_type": "code",
    "id": "5RhLf4qKtT9U",
    "outputId": "db59e12e-bc4b-4171-82a3-6d7a375d948e"
   },
   "outputs": [
    {
     "data": {
      "text/plain": [
       "104543    That is about it for for now. Primarily, I wor...\n",
       "119983    \"\\n I wasn't aware that peer-reviewed studies ...\n",
       "154937    \"\\nIt's fine to edit for personal gain so long...\n",
       "94831     I did not add these words to the PLANS website...\n",
       "141987    \"\\n\\n List of recent changes \\n\\nRequested by ...\n",
       "                                ...                        \n",
       "37242     \"\\nA tag has been placed on Chris Teague, requ...\n",
       "84131     \"\\nYup its reasonable. I'll be working on it i...\n",
       "12690     \"\\n\\n==\\n\\nHelping me to make my first wikiped...\n",
       "134464    Causation of Gulf War Illness\\n\\nMercury Poiso...\n",
       "119400    \" (UTC)\\nIMO, desktop environments like GNOME ...\n",
       "Name: comment_text, Length: 31915, dtype: object"
      ]
     },
     "execution_count": 122,
     "metadata": {},
     "output_type": "execute_result"
    }
   ],
   "source": [
    "X_test"
   ]
  },
  {
   "cell_type": "code",
   "execution_count": 123,
   "metadata": {
    "colab": {
     "base_uri": "https://localhost:8080/",
     "height": 145
    },
    "colab_type": "code",
    "id": "k_nEHyjuDDp2",
    "outputId": "ef52fa77-4937-45ff-ea28-2bd12899edc5"
   },
   "outputs": [],
   "source": [
    "#Se seleccionan las columnas de textos tanto de train como de test\n",
    "train_text = X_train#train['comment_text']\n",
    "test_text = X_test#test['comment_text']\n",
    "all_text = pd.concat([train_text, test_text])  #Aqui se concatenan"
   ]
  },
  {
   "cell_type": "markdown",
   "metadata": {
    "colab_type": "text",
    "id": "DiVWxwn08GOu"
   },
   "source": [
    "# Función TfidVectorizer de sklearn"
   ]
  },
  {
   "cell_type": "code",
   "execution_count": 124,
   "metadata": {
    "colab": {},
    "colab_type": "code",
    "id": "fMq3BjDAMnLM"
   },
   "outputs": [],
   "source": [
    "# Funcion TfidVectorizer por palabra\n",
    "word_vectorizer = TfidfVectorizer(\n",
    "    sublinear_tf=True,   \n",
    "    strip_accents='unicode', \n",
    "    analyzer='word',  \n",
    "    token_pattern=r'\\w{1,}',  \n",
    "    ngram_range=(1, 1),  \n",
    "    max_features=30000) \n",
    "# Funcion TfidVectorizer por caracter\n",
    "char_vectorizer = TfidfVectorizer(\n",
    "    sublinear_tf=True,\n",
    "    strip_accents='unicode',\n",
    "    analyzer='char',\n",
    "    ngram_range=(1, 4),\n",
    "    max_features=30000)"
   ]
  },
  {
   "cell_type": "markdown",
   "metadata": {
    "colab_type": "text",
    "id": "VZn0mnkqx5SV"
   },
   "source": [
    "TfidfVectorizer es una función que converte una colección de documentos en bruto en una matriz de características TF-IDF.\n",
    "Recibe los siguientes argumentos: <br>\n",
    "1) sublinear_tf : Esta entrada es de tipo *Boolean* y aplica una escala del tf ( Donde Tf se refiere a la frecuencia del termino) 1+log(tf) <br>\n",
    "2) strip_accents puede recibir 3 parámetros : {‘ascii’, ‘unicode’, None}  es para remover acentos, la forma más rápida es con *ascii* <br>\n",
    "3) analyzer- Es de tipo *String* y puede recibir los siguientes argumentos : {‘word’, ‘char’, ‘char_wb’} Indica en que se debe aplicar la característica, pj a un caracter o a una palabra. <br>\n",
    "4) token_pattern - Denota que constituye el token, sólo utilizar si analyzer == 'word' <br>\n",
    "5) ngram_range - Indica el rango superior e inferior de los unigramas, pj (1,1) significa que son unigramas. <br>\n",
    "5) max_features - Puede ser *Int* o *None*, puede crear un vocabulario que solo considere las características máximas superiores ordenadas por frecuencia de término en todo el corpus.\n"
   ]
  },
  {
   "cell_type": "code",
   "execution_count": 125,
   "metadata": {
    "colab": {},
    "colab_type": "code",
    "id": "K8z5YsnM0gH8"
   },
   "outputs": [],
   "source": [
    "#Union de los transformadores especificados arriba\n",
    "vectorizer = make_union(word_vectorizer, char_vectorizer, n_jobs=2)"
   ]
  },
  {
   "cell_type": "code",
   "execution_count": 127,
   "metadata": {
    "colab": {},
    "colab_type": "code",
    "id": "9qv9xfHp0gFk"
   },
   "outputs": [],
   "source": [
    "vectorizer.fit(all_text)  #Esta función se encarga de vectoriza el texto\n",
    "train_features = vectorizer.transform(train_text)\n",
    "test_features = vectorizer.transform(test_text)"
   ]
  },
  {
   "cell_type": "code",
   "execution_count": 128,
   "metadata": {
    "colab": {
     "base_uri": "https://localhost:8080/",
     "height": 419
    },
    "colab_type": "code",
    "id": "d4PhMZ0Dh8rZ",
    "outputId": "b7a2c878-c5c2-40cc-81d1-86dcfe0f4a97"
   },
   "outputs": [
    {
     "data": {
      "text/html": [
       "<div>\n",
       "<style scoped>\n",
       "    .dataframe tbody tr th:only-of-type {\n",
       "        vertical-align: middle;\n",
       "    }\n",
       "\n",
       "    .dataframe tbody tr th {\n",
       "        vertical-align: top;\n",
       "    }\n",
       "\n",
       "    .dataframe thead th {\n",
       "        text-align: right;\n",
       "    }\n",
       "</style>\n",
       "<table border=\"1\" class=\"dataframe\">\n",
       "  <thead>\n",
       "    <tr style=\"text-align: right;\">\n",
       "      <th></th>\n",
       "      <th>tfidf</th>\n",
       "    </tr>\n",
       "  </thead>\n",
       "  <tbody>\n",
       "    <tr>\n",
       "      <td>17081</td>\n",
       "      <td>0.343210</td>\n",
       "    </tr>\n",
       "    <tr>\n",
       "      <td>10711</td>\n",
       "      <td>0.285892</td>\n",
       "    </tr>\n",
       "    <tr>\n",
       "      <td>23462</td>\n",
       "      <td>0.279006</td>\n",
       "    </tr>\n",
       "    <tr>\n",
       "      <td>17253</td>\n",
       "      <td>0.277783</td>\n",
       "    </tr>\n",
       "    <tr>\n",
       "      <td>6316</td>\n",
       "      <td>0.251740</td>\n",
       "    </tr>\n",
       "    <tr>\n",
       "      <td>...</td>\n",
       "      <td>...</td>\n",
       "    </tr>\n",
       "    <tr>\n",
       "      <td>20011</td>\n",
       "      <td>0.000000</td>\n",
       "    </tr>\n",
       "    <tr>\n",
       "      <td>20012</td>\n",
       "      <td>0.000000</td>\n",
       "    </tr>\n",
       "    <tr>\n",
       "      <td>20013</td>\n",
       "      <td>0.000000</td>\n",
       "    </tr>\n",
       "    <tr>\n",
       "      <td>20014</td>\n",
       "      <td>0.000000</td>\n",
       "    </tr>\n",
       "    <tr>\n",
       "      <td>59999</td>\n",
       "      <td>0.000000</td>\n",
       "    </tr>\n",
       "  </tbody>\n",
       "</table>\n",
       "<p>60000 rows × 1 columns</p>\n",
       "</div>"
      ],
      "text/plain": [
       "          tfidf\n",
       "17081  0.343210\n",
       "10711  0.285892\n",
       "23462  0.279006\n",
       "17253  0.277783\n",
       "6316   0.251740\n",
       "...         ...\n",
       "20011  0.000000\n",
       "20012  0.000000\n",
       "20013  0.000000\n",
       "20014  0.000000\n",
       "59999  0.000000\n",
       "\n",
       "[60000 rows x 1 columns]"
      ]
     },
     "execution_count": 128,
     "metadata": {},
     "output_type": "execute_result"
    }
   ],
   "source": [
    "first_vector_tfidfvectorizer=test_features[1]  #test\n",
    "df = pd.DataFrame(first_vector_tfidfvectorizer.T.todense(), columns=[\"tfidf\"])\n",
    "df.sort_values(by=[\"tfidf\"],ascending=False)"
   ]
  },
  {
   "cell_type": "markdown",
   "metadata": {
    "colab_type": "text",
    "id": "OR3w3P2K01-n"
   },
   "source": [
    "La función TfidfVectorizer calcula la importancia de cada palabra de acuerdo a su extrañesa en el texto, es decir si la palabra se repite mucho como por ejemplo : \"you\" tiene poca importancia porque aparece muchas veces en los textos, pero la palabra \" succesful\" tendrá un mayor score porque casi no es utilizada. Es un tipo de medición de *key words*."
   ]
  },
  {
   "cell_type": "code",
   "execution_count": 129,
   "metadata": {
    "colab": {
     "base_uri": "https://localhost:8080/",
     "height": 419
    },
    "colab_type": "code",
    "id": "P6FEvLhulPHY",
    "outputId": "899455fe-983f-4330-9a33-2e06310c9284"
   },
   "outputs": [
    {
     "data": {
      "text/html": [
       "<div>\n",
       "<style scoped>\n",
       "    .dataframe tbody tr th:only-of-type {\n",
       "        vertical-align: middle;\n",
       "    }\n",
       "\n",
       "    .dataframe tbody tr th {\n",
       "        vertical-align: top;\n",
       "    }\n",
       "\n",
       "    .dataframe thead th {\n",
       "        text-align: right;\n",
       "    }\n",
       "</style>\n",
       "<table border=\"1\" class=\"dataframe\">\n",
       "  <thead>\n",
       "    <tr style=\"text-align: right;\">\n",
       "      <th></th>\n",
       "      <th>tfidf</th>\n",
       "    </tr>\n",
       "  </thead>\n",
       "  <tbody>\n",
       "    <tr>\n",
       "      <td>restrains</td>\n",
       "      <td>0.342590</td>\n",
       "    </tr>\n",
       "    <tr>\n",
       "      <td>methodological</td>\n",
       "      <td>0.307341</td>\n",
       "    </tr>\n",
       "    <tr>\n",
       "      <td>flaws</td>\n",
       "      <td>0.268712</td>\n",
       "    </tr>\n",
       "    <tr>\n",
       "      <td>sarcastic</td>\n",
       "      <td>0.267147</td>\n",
       "    </tr>\n",
       "    <tr>\n",
       "      <td>minimal</td>\n",
       "      <td>0.264228</td>\n",
       "    </tr>\n",
       "    <tr>\n",
       "      <td>...</td>\n",
       "      <td>...</td>\n",
       "    </tr>\n",
       "    <tr>\n",
       "      <td>exposit</td>\n",
       "      <td>0.000000</td>\n",
       "    </tr>\n",
       "    <tr>\n",
       "      <td>exposition</td>\n",
       "      <td>0.000000</td>\n",
       "    </tr>\n",
       "    <tr>\n",
       "      <td>expossition</td>\n",
       "      <td>0.000000</td>\n",
       "    </tr>\n",
       "    <tr>\n",
       "      <td>exposts</td>\n",
       "      <td>0.000000</td>\n",
       "    </tr>\n",
       "    <tr>\n",
       "      <td>잡아야</td>\n",
       "      <td>0.000000</td>\n",
       "    </tr>\n",
       "  </tbody>\n",
       "</table>\n",
       "<p>71711 rows × 1 columns</p>\n",
       "</div>"
      ],
      "text/plain": [
       "                   tfidf\n",
       "restrains       0.342590\n",
       "methodological  0.307341\n",
       "flaws           0.268712\n",
       "sarcastic       0.267147\n",
       "minimal         0.264228\n",
       "...                  ...\n",
       "exposit         0.000000\n",
       "exposition      0.000000\n",
       "expossition     0.000000\n",
       "exposts         0.000000\n",
       "잡아야             0.000000\n",
       "\n",
       "[71711 rows x 1 columns]"
      ]
     },
     "execution_count": 129,
     "metadata": {},
     "output_type": "execute_result"
    }
   ],
   "source": [
    "#Ejemplo\n",
    "# settings that you use for count vectorizer will go here\n",
    "tfidf_vectorizer=TfidfVectorizer(use_idf=True)\n",
    "# just send in all your docs here\n",
    "tfidf_vectorizer_vectors=tfidf_vectorizer.fit_transform(test_text)\n",
    "first_vector_tfidfvectorizer=tfidf_vectorizer_vectors[1]\n",
    "# place tf-idf values in a pandas data frame\n",
    "df = pd.DataFrame(first_vector_tfidfvectorizer.T.todense(), index=tfidf_vectorizer.get_feature_names(), columns=[\"tfidf\"])\n",
    "df.sort_values(by=[\"tfidf\"],ascending=False)"
   ]
  },
  {
   "cell_type": "markdown",
   "metadata": {
    "colab_type": "text",
    "id": "PizD7lLg7A5x"
   },
   "source": [
    "Los resultados no son identicos porque se le introdujeron más parámetros a las funciones, pero la idea general es la misma, buscar al importancia de las palabras que son poco frencuentes, considerando la frecuencia del término y la frecuencia inversa del documento."
   ]
  },
  {
   "cell_type": "markdown",
   "metadata": {
    "colab_type": "text",
    "id": "HvL81n3y7864"
   },
   "source": [
    "# Aplicación Regresión Logística"
   ]
  },
  {
   "cell_type": "code",
   "execution_count": 147,
   "metadata": {
    "colab": {
     "base_uri": "https://localhost:8080/",
     "height": 136
    },
    "colab_type": "code",
    "id": "DusTaci2olOx",
    "outputId": "255ff501-f894-4579-e871-f4f99ae4d908"
   },
   "outputs": [
    {
     "name": "stdout",
     "output_type": "stream",
     "text": [
      "CV score for class toxic is 0.978085354871161\n",
      "CV score for class severe_toxic is 0.9885647649619017\n",
      "CV score for class obscene is 0.9903164691429139\n",
      "CV score for class threat is 0.9885265722723773\n",
      "CV score for class insult is 0.9825334146958432\n",
      "CV score for class identity_hate is 0.9825038361172803\n",
      "Total CV score is 0.9850884020102463\n"
     ]
    }
   ],
   "source": [
    "scores = []  \n",
    "submission = pd.DataFrame.from_dict({'id': X_test.index}) \n",
    "for class_name in class_names:\n",
    "    train_target = y_train[class_name]\n",
    "    classifier = LogisticRegression(solver='sag')\n",
    "\n",
    "    cv_score = np.mean(cross_val_score(\n",
    "        classifier, train_features, train_target, cv=3, scoring='roc_auc'))\n",
    "    scores.append(cv_score)\n",
    "    print('CV score for class {} is {}'.format(class_name, cv_score))\n",
    "\n",
    "    classifier.fit(train_features, train_target)\n",
    "    submission[class_name] = classifier.predict_proba(test_features)[:, 1].round()\n",
    "\n",
    "print('Total CV score is {}'.format(np.mean(scores)))"
   ]
  },
  {
   "cell_type": "code",
   "execution_count": 155,
   "metadata": {},
   "outputs": [
    {
     "data": {
      "text/html": [
       "<div>\n",
       "<style scoped>\n",
       "    .dataframe tbody tr th:only-of-type {\n",
       "        vertical-align: middle;\n",
       "    }\n",
       "\n",
       "    .dataframe tbody tr th {\n",
       "        vertical-align: top;\n",
       "    }\n",
       "\n",
       "    .dataframe thead th {\n",
       "        text-align: right;\n",
       "    }\n",
       "</style>\n",
       "<table border=\"1\" class=\"dataframe\">\n",
       "  <thead>\n",
       "    <tr style=\"text-align: right;\">\n",
       "      <th></th>\n",
       "      <th>id</th>\n",
       "      <th>toxic</th>\n",
       "      <th>severe_toxic</th>\n",
       "      <th>obscene</th>\n",
       "      <th>threat</th>\n",
       "      <th>insult</th>\n",
       "      <th>identity_hate</th>\n",
       "    </tr>\n",
       "  </thead>\n",
       "  <tbody>\n",
       "    <tr>\n",
       "      <td>12</td>\n",
       "      <td>14740</td>\n",
       "      <td>1.0</td>\n",
       "      <td>0.0</td>\n",
       "      <td>1.0</td>\n",
       "      <td>0.0</td>\n",
       "      <td>1.0</td>\n",
       "      <td>0.0</td>\n",
       "    </tr>\n",
       "    <tr>\n",
       "      <td>19</td>\n",
       "      <td>141841</td>\n",
       "      <td>1.0</td>\n",
       "      <td>0.0</td>\n",
       "      <td>0.0</td>\n",
       "      <td>0.0</td>\n",
       "      <td>0.0</td>\n",
       "      <td>0.0</td>\n",
       "    </tr>\n",
       "    <tr>\n",
       "      <td>24</td>\n",
       "      <td>71181</td>\n",
       "      <td>1.0</td>\n",
       "      <td>0.0</td>\n",
       "      <td>1.0</td>\n",
       "      <td>0.0</td>\n",
       "      <td>1.0</td>\n",
       "      <td>0.0</td>\n",
       "    </tr>\n",
       "    <tr>\n",
       "      <td>30</td>\n",
       "      <td>7225</td>\n",
       "      <td>1.0</td>\n",
       "      <td>0.0</td>\n",
       "      <td>0.0</td>\n",
       "      <td>0.0</td>\n",
       "      <td>0.0</td>\n",
       "      <td>0.0</td>\n",
       "    </tr>\n",
       "    <tr>\n",
       "      <td>35</td>\n",
       "      <td>77388</td>\n",
       "      <td>1.0</td>\n",
       "      <td>0.0</td>\n",
       "      <td>0.0</td>\n",
       "      <td>0.0</td>\n",
       "      <td>0.0</td>\n",
       "      <td>0.0</td>\n",
       "    </tr>\n",
       "    <tr>\n",
       "      <td>...</td>\n",
       "      <td>...</td>\n",
       "      <td>...</td>\n",
       "      <td>...</td>\n",
       "      <td>...</td>\n",
       "      <td>...</td>\n",
       "      <td>...</td>\n",
       "      <td>...</td>\n",
       "    </tr>\n",
       "    <tr>\n",
       "      <td>31834</td>\n",
       "      <td>48450</td>\n",
       "      <td>1.0</td>\n",
       "      <td>0.0</td>\n",
       "      <td>1.0</td>\n",
       "      <td>0.0</td>\n",
       "      <td>0.0</td>\n",
       "      <td>0.0</td>\n",
       "    </tr>\n",
       "    <tr>\n",
       "      <td>31835</td>\n",
       "      <td>76690</td>\n",
       "      <td>1.0</td>\n",
       "      <td>0.0</td>\n",
       "      <td>1.0</td>\n",
       "      <td>0.0</td>\n",
       "      <td>1.0</td>\n",
       "      <td>0.0</td>\n",
       "    </tr>\n",
       "    <tr>\n",
       "      <td>31836</td>\n",
       "      <td>54577</td>\n",
       "      <td>1.0</td>\n",
       "      <td>0.0</td>\n",
       "      <td>1.0</td>\n",
       "      <td>1.0</td>\n",
       "      <td>1.0</td>\n",
       "      <td>0.0</td>\n",
       "    </tr>\n",
       "    <tr>\n",
       "      <td>31850</td>\n",
       "      <td>6204</td>\n",
       "      <td>1.0</td>\n",
       "      <td>0.0</td>\n",
       "      <td>1.0</td>\n",
       "      <td>0.0</td>\n",
       "      <td>1.0</td>\n",
       "      <td>0.0</td>\n",
       "    </tr>\n",
       "    <tr>\n",
       "      <td>31894</td>\n",
       "      <td>99163</td>\n",
       "      <td>1.0</td>\n",
       "      <td>0.0</td>\n",
       "      <td>1.0</td>\n",
       "      <td>0.0</td>\n",
       "      <td>0.0</td>\n",
       "      <td>0.0</td>\n",
       "    </tr>\n",
       "  </tbody>\n",
       "</table>\n",
       "<p>2308 rows × 7 columns</p>\n",
       "</div>"
      ],
      "text/plain": [
       "           id  toxic  severe_toxic  obscene  threat  insult  identity_hate\n",
       "12      14740    1.0           0.0      1.0     0.0     1.0            0.0\n",
       "19     141841    1.0           0.0      0.0     0.0     0.0            0.0\n",
       "24      71181    1.0           0.0      1.0     0.0     1.0            0.0\n",
       "30       7225    1.0           0.0      0.0     0.0     0.0            0.0\n",
       "35      77388    1.0           0.0      0.0     0.0     0.0            0.0\n",
       "...       ...    ...           ...      ...     ...     ...            ...\n",
       "31834   48450    1.0           0.0      1.0     0.0     0.0            0.0\n",
       "31835   76690    1.0           0.0      1.0     0.0     1.0            0.0\n",
       "31836   54577    1.0           0.0      1.0     1.0     1.0            0.0\n",
       "31850    6204    1.0           0.0      1.0     0.0     1.0            0.0\n",
       "31894   99163    1.0           0.0      1.0     0.0     0.0            0.0\n",
       "\n",
       "[2308 rows x 7 columns]"
      ]
     },
     "execution_count": 155,
     "metadata": {},
     "output_type": "execute_result"
    }
   ],
   "source": [
    "submission[submission[\"toxic\"]== 1]"
   ]
  },
  {
   "cell_type": "code",
   "execution_count": 154,
   "metadata": {},
   "outputs": [
    {
     "data": {
      "text/html": [
       "<div>\n",
       "<style scoped>\n",
       "    .dataframe tbody tr th:only-of-type {\n",
       "        vertical-align: middle;\n",
       "    }\n",
       "\n",
       "    .dataframe tbody tr th {\n",
       "        vertical-align: top;\n",
       "    }\n",
       "\n",
       "    .dataframe thead th {\n",
       "        text-align: right;\n",
       "    }\n",
       "</style>\n",
       "<table border=\"1\" class=\"dataframe\">\n",
       "  <thead>\n",
       "    <tr style=\"text-align: right;\">\n",
       "      <th></th>\n",
       "      <th>toxic</th>\n",
       "      <th>severe_toxic</th>\n",
       "      <th>obscene</th>\n",
       "      <th>threat</th>\n",
       "      <th>insult</th>\n",
       "      <th>identity_hate</th>\n",
       "    </tr>\n",
       "  </thead>\n",
       "  <tbody>\n",
       "    <tr>\n",
       "      <td>14740</td>\n",
       "      <td>1</td>\n",
       "      <td>0</td>\n",
       "      <td>0</td>\n",
       "      <td>0</td>\n",
       "      <td>0</td>\n",
       "      <td>0</td>\n",
       "    </tr>\n",
       "    <tr>\n",
       "      <td>141841</td>\n",
       "      <td>1</td>\n",
       "      <td>0</td>\n",
       "      <td>1</td>\n",
       "      <td>0</td>\n",
       "      <td>0</td>\n",
       "      <td>0</td>\n",
       "    </tr>\n",
       "    <tr>\n",
       "      <td>71181</td>\n",
       "      <td>1</td>\n",
       "      <td>0</td>\n",
       "      <td>1</td>\n",
       "      <td>0</td>\n",
       "      <td>1</td>\n",
       "      <td>0</td>\n",
       "    </tr>\n",
       "    <tr>\n",
       "      <td>115308</td>\n",
       "      <td>1</td>\n",
       "      <td>0</td>\n",
       "      <td>0</td>\n",
       "      <td>0</td>\n",
       "      <td>0</td>\n",
       "      <td>0</td>\n",
       "    </tr>\n",
       "    <tr>\n",
       "      <td>7225</td>\n",
       "      <td>1</td>\n",
       "      <td>0</td>\n",
       "      <td>1</td>\n",
       "      <td>0</td>\n",
       "      <td>0</td>\n",
       "      <td>0</td>\n",
       "    </tr>\n",
       "    <tr>\n",
       "      <td>...</td>\n",
       "      <td>...</td>\n",
       "      <td>...</td>\n",
       "      <td>...</td>\n",
       "      <td>...</td>\n",
       "      <td>...</td>\n",
       "      <td>...</td>\n",
       "    </tr>\n",
       "    <tr>\n",
       "      <td>136745</td>\n",
       "      <td>1</td>\n",
       "      <td>0</td>\n",
       "      <td>1</td>\n",
       "      <td>0</td>\n",
       "      <td>1</td>\n",
       "      <td>0</td>\n",
       "    </tr>\n",
       "    <tr>\n",
       "      <td>25385</td>\n",
       "      <td>1</td>\n",
       "      <td>0</td>\n",
       "      <td>0</td>\n",
       "      <td>0</td>\n",
       "      <td>0</td>\n",
       "      <td>0</td>\n",
       "    </tr>\n",
       "    <tr>\n",
       "      <td>1165</td>\n",
       "      <td>1</td>\n",
       "      <td>0</td>\n",
       "      <td>0</td>\n",
       "      <td>0</td>\n",
       "      <td>0</td>\n",
       "      <td>0</td>\n",
       "    </tr>\n",
       "    <tr>\n",
       "      <td>99163</td>\n",
       "      <td>1</td>\n",
       "      <td>0</td>\n",
       "      <td>1</td>\n",
       "      <td>0</td>\n",
       "      <td>0</td>\n",
       "      <td>0</td>\n",
       "    </tr>\n",
       "    <tr>\n",
       "      <td>61083</td>\n",
       "      <td>1</td>\n",
       "      <td>0</td>\n",
       "      <td>0</td>\n",
       "      <td>0</td>\n",
       "      <td>0</td>\n",
       "      <td>0</td>\n",
       "    </tr>\n",
       "  </tbody>\n",
       "</table>\n",
       "<p>3123 rows × 6 columns</p>\n",
       "</div>"
      ],
      "text/plain": [
       "        toxic  severe_toxic  obscene  threat  insult  identity_hate\n",
       "14740       1             0        0       0       0              0\n",
       "141841      1             0        1       0       0              0\n",
       "71181       1             0        1       0       1              0\n",
       "115308      1             0        0       0       0              0\n",
       "7225        1             0        1       0       0              0\n",
       "...       ...           ...      ...     ...     ...            ...\n",
       "136745      1             0        1       0       1              0\n",
       "25385       1             0        0       0       0              0\n",
       "1165        1             0        0       0       0              0\n",
       "99163       1             0        1       0       0              0\n",
       "61083       1             0        0       0       0              0\n",
       "\n",
       "[3123 rows x 6 columns]"
      ]
     },
     "execution_count": 154,
     "metadata": {},
     "output_type": "execute_result"
    }
   ],
   "source": [
    "y_test[y_test[\"toxic\"]== 1]"
   ]
  },
  {
   "cell_type": "markdown",
   "metadata": {
    "colab_type": "text",
    "id": "n7lstiG8-VNG"
   },
   "source": [
    "1) Indica el data frame para ingresar los datos de validación y se aplica un ciclo for para cada una de las clasificaicones de toxicidad que se tienen.<br>\n",
    "2) Se aplica el modelo de *Rregresión logística* sobre la variable target *clasifiacion*. El método solver con el que esta aplicando regresión logística es 'sag'(Stochastic Average Gradient descent) que funciona bien para grandes conjuntos de datos.\n",
    "3) Se evalua el score con cross_validation con el scoring de la *ROC*. <br>\n",
    "4) Imprime para cada clasifiación de toxicidad su score de acuerdo al modelo implementado.<br>\n",
    "5) Calcula la probabilidad en la que cada comentario incurriria dividido por clases de toxicidad, estos resultados se guarda en el archivo submission.csv \n"
   ]
  },
  {
   "cell_type": "code",
   "execution_count": 157,
   "metadata": {},
   "outputs": [],
   "source": [
    "import numpy as np\n",
    "import matplotlib.pyplot as plt\n",
    "from itertools import cycle\n",
    "\n",
    "from sklearn import svm, datasets\n",
    "from sklearn.metrics import roc_curve, auc\n",
    "from sklearn.model_selection import train_test_split\n",
    "from sklearn.preprocessing import label_binarize\n",
    "from sklearn.multiclass import OneVsRestClassifier\n",
    "from scipy import interp\n",
    "from sklearn.metrics import roc_auc_score"
   ]
  },
  {
   "cell_type": "markdown",
   "metadata": {},
   "source": [
    "## Curvas ROC"
   ]
  },
  {
   "cell_type": "code",
   "execution_count": 177,
   "metadata": {},
   "outputs": [
    {
     "name": "stdout",
     "output_type": "stream",
     "text": [
      "AUC of ROC Curve: 0.8354425576464519\n"
     ]
    },
    {
     "data": {
      "image/png": "[encoded data removed]",
      "text/plain": [
       "<Figure size 432x288 with 1 Axes>"
      ]
     },
     "metadata": {
      "needs_background": "light"
     },
     "output_type": "display_data"
    }
   ],
   "source": [
    "fpr, tpr, thresholds = roc_curve(y_test[\"toxic\"], submission[\"toxic\"])\n",
    "roc_auc = roc_auc_score(y_test[\"toxic\"], submission[\"toxic\"])\n",
    "print(\"AUC of ROC Curve:\", roc_auc)\n",
    "plt.plot(fpr, tpr,'r')\n",
    "plt.plot([0, 1], [0, 1], color='navy', linestyle='--')\n",
    "plt.title(\"Toxic ROC Curve\")\n",
    "plt.xlabel(\"False Positive Rate\")\n",
    "plt.ylabel(\"True Positive Rate\")\n",
    "plt.show()"
   ]
  },
  {
   "cell_type": "code",
   "execution_count": 178,
   "metadata": {},
   "outputs": [
    {
     "name": "stdout",
     "output_type": "stream",
     "text": [
      "AUC of ROC Curve: 0.6167482789863391\n"
     ]
    },
    {
     "data": {
      "image/png": "[encoded data removed]",
      "text/plain": [
       "<Figure size 432x288 with 1 Axes>"
      ]
     },
     "metadata": {
      "needs_background": "light"
     },
     "output_type": "display_data"
    }
   ],
   "source": [
    "fpr, tpr, thresholds = roc_curve(y_test[\"severe_toxic\"], submission[\"severe_toxic\"])\n",
    "roc_auc = roc_auc_score(y_test[\"severe_toxic\"], submission[\"severe_toxic\"])\n",
    "print(\"AUC of ROC Curve:\", roc_auc)\n",
    "plt.plot(fpr, tpr,'r')\n",
    "plt.plot([0, 1], [0, 1], color='navy', linestyle='--')\n",
    "plt.title(\"Severe toxic ROC Curve\")\n",
    "plt.xlabel(\"False Positive Rate\")\n",
    "plt.ylabel(\"True Positive Rate\")\n",
    "plt.show()"
   ]
  },
  {
   "cell_type": "code",
   "execution_count": 180,
   "metadata": {
    "scrolled": true
   },
   "outputs": [
    {
     "name": "stdout",
     "output_type": "stream",
     "text": [
      "AUC of ROC Curve: 0.8364371753625687\n"
     ]
    },
    {
     "data": {
      "image/png": "[encoded data removed]",
      "text/plain": [
       "<Figure size 432x288 with 1 Axes>"
      ]
     },
     "metadata": {
      "needs_background": "light"
     },
     "output_type": "display_data"
    }
   ],
   "source": [
    "fpr, tpr, thresholds = roc_curve(y_test[\"obscene\"], submission[\"obscene\"])\n",
    "roc_auc = roc_auc_score(y_test[\"obscene\"], submission[\"obscene\"])\n",
    "print(\"AUC of ROC Curve:\", roc_auc)\n",
    "plt.plot(fpr, tpr,'r')\n",
    "plt.plot([0, 1], [0, 1], color='navy', linestyle='--')\n",
    "plt.title(\"Obscene ROC Curve\")\n",
    "plt.xlabel(\"False Positive Rate\")\n",
    "plt.ylabel(\"True Positive Rate\")\n",
    "plt.show()"
   ]
  },
  {
   "cell_type": "code",
   "execution_count": 181,
   "metadata": {},
   "outputs": [
    {
     "name": "stdout",
     "output_type": "stream",
     "text": [
      "AUC of ROC Curve: 0.5583377964638634\n"
     ]
    },
    {
     "data": {
      "image/png": "[encoded data removed]",
      "text/plain": [
       "<Figure size 432x288 with 1 Axes>"
      ]
     },
     "metadata": {
      "needs_background": "light"
     },
     "output_type": "display_data"
    }
   ],
   "source": [
    "fpr, tpr, thresholds = roc_curve(y_test[\"threat\"], submission[\"threat\"])\n",
    "roc_auc = roc_auc_score(y_test[\"threat\"], submission[\"threat\"])\n",
    "print(\"AUC of ROC Curve:\", roc_auc)\n",
    "plt.plot(fpr, tpr,'r')\n",
    "plt.plot([0, 1], [0, 1], color='navy', linestyle='--')\n",
    "plt.title(\"Threat ROC Curve\")\n",
    "plt.xlabel(\"False Positive Rate\")\n",
    "plt.ylabel(\"True Positive Rate\")\n",
    "plt.show()"
   ]
  },
  {
   "cell_type": "code",
   "execution_count": 182,
   "metadata": {},
   "outputs": [
    {
     "name": "stdout",
     "output_type": "stream",
     "text": [
      "AUC of ROC Curve: 0.7865665847285233\n"
     ]
    },
    {
     "data": {
      "image/png": "[encoded data removed]",
      "text/plain": [
       "<Figure size 432x288 with 1 Axes>"
      ]
     },
     "metadata": {
      "needs_background": "light"
     },
     "output_type": "display_data"
    }
   ],
   "source": [
    "fpr, tpr, thresholds = roc_curve(y_test[\"insult\"], submission[\"insult\"])\n",
    "roc_auc = roc_auc_score(y_test[\"insult\"], submission[\"insult\"])\n",
    "print(\"AUC of ROC Curve:\", roc_auc)\n",
    "plt.plot(fpr, tpr,'r')\n",
    "plt.plot([0, 1], [0, 1], color='navy', linestyle='--')\n",
    "plt.title(\"Insult ROC Curve\")\n",
    "plt.xlabel(\"False Positive Rate\")\n",
    "plt.ylabel(\"True Positive Rate\")\n",
    "plt.show()"
   ]
  },
  {
   "cell_type": "code",
   "execution_count": 184,
   "metadata": {
    "scrolled": true
   },
   "outputs": [
    {
     "name": "stdout",
     "output_type": "stream",
     "text": [
      "AUC of ROC Curve: 0.6177901688063554\n"
     ]
    },
    {
     "data": {
      "image/png": "[encoded data removed]",
      "text/plain": [
       "<Figure size 432x288 with 1 Axes>"
      ]
     },
     "metadata": {
      "needs_background": "light"
     },
     "output_type": "display_data"
    }
   ],
   "source": [
    "fpr, tpr, thresholds = roc_curve(y_test[\"identity_hate\"], submission[\"identity_hate\"])\n",
    "roc_auc = roc_auc_score(y_test[\"identity_hate\"], submission[\"identity_hate\"])\n",
    "print(\"AUC of ROC Curve:\", roc_auc)\n",
    "plt.plot(fpr, tpr,'r')\n",
    "plt.plot([0, 1], [0, 1], color='navy', linestyle='--')\n",
    "plt.title(\"Identity hate ROC Curve\")\n",
    "plt.xlabel(\"False Positive Rate\")\n",
    "plt.ylabel(\"True Positive Rate\")\n",
    "plt.show()"
   ]
  },
  {
   "cell_type": "markdown",
   "metadata": {},
   "source": [
    "## Removiendo stop words"
   ]
  },
  {
   "cell_type": "code",
   "execution_count": 185,
   "metadata": {},
   "outputs": [],
   "source": [
    "# Natural language toolkit, nos ayudara con preprocessing de los datos\n",
    "import re\n",
    "import nltk\n",
    "#nltk.download('stopwords')\n",
    "\n",
    "# Carga un set de stopwords predefinidas\n",
    "from nltk.corpus import stopwords\n",
    "STOPWORDS = set(stopwords.words('english'))"
   ]
  },
  {
   "cell_type": "code",
   "execution_count": 186,
   "metadata": {},
   "outputs": [],
   "source": [
    "\n",
    "# Funcion para ayudarnos a sustituir abreviaciones\n",
    "def decontracted(phrase):\n",
    "  phrase = re.sub(r\"won't\", \"will not\", phrase)\n",
    "  phrase = re.sub(r\"can\\'t\", \"can not\", phrase)\n",
    "  phrase = re.sub(r\"n\\'t\", \" not\", phrase)\n",
    "  phrase = re.sub(r\"\\'re\", \" are\", phrase)\n",
    "  phrase = re.sub(r\"\\'s\", \" is\", phrase)\n",
    "  phrase = re.sub(r\"\\'d\", \" would\", phrase)\n",
    "  phrase = re.sub(r\"\\'ll\", \" will\", phrase)\n",
    "  phrase = re.sub(r\"\\'t\", \" not\", phrase)\n",
    "  phrase = re.sub(r\"\\'ve\", \" have\", phrase)\n",
    "  phrase = re.sub(r\"\\'m\", \" am\", phrase)\n",
    "  return phrase"
   ]
  },
  {
   "cell_type": "code",
   "execution_count": 187,
   "metadata": {},
   "outputs": [],
   "source": [
    "# Set adicional de stopwords, removeremos palabras tanto de este set como del que\n",
    "# viene definido en el nltk\n",
    "stopwords= set(['br', 'the', 'i', 'me', 'my', 'myself', 'we', 'our', 'ours', 'ourselves', 'you', \"you're\", \"you've\",\\\n",
    "            \"you'll\", \"you'd\", 'your', 'yours', 'yourself', 'yourselves', 'he', 'him', 'his', 'himself', \\\n",
    "            'she', \"she's\", 'her', 'hers', 'herself', 'it', \"it's\", 'its', 'itself', 'they', 'them', 'their',\\\n",
    "            'theirs', 'themselves', 'what', 'which', 'who', 'whom', 'this', 'that', \"that'll\", 'these', 'those', \\\n",
    "            'am', 'is', 'are', 'was', 'were', 'be', 'been', 'being', 'have', 'has', 'had', 'having', 'do', 'does', \\\n",
    "            'did', 'doing', 'a', 'an', 'the', 'and', 'but', 'if', 'or', 'because', 'as', 'until', 'while', 'of', \\\n",
    "            'at', 'by', 'for', 'with', 'about', 'against', 'between', 'into', 'through', 'during', 'before', 'after',\\\n",
    "            'above', 'below', 'to', 'from', 'up', 'down', 'in', 'out', 'on', 'off', 'over', 'under', 'again', 'further',\\\n",
    "            'then', 'once', 'here', 'there', 'when', 'where', 'why', 'how', 'all', 'any', 'both', 'each', 'few', 'more',\\\n",
    "            'most', 'other', 'some', 'such', 'only', 'own', 'same', 'so', 'than', 'too', 'very', \\\n",
    "            's', 't', 'can', 'will', 'just', 'don', \"don't\", 'should', \"should've\", 'now', 'd', 'll', 'm', 'o', 're', \\\n",
    "            've', 'y', 'ain', 'aren', \"aren't\", 'couldn', \"couldn't\", 'didn', \"didn't\", 'doesn', \"doesn't\", 'hadn',\\\n",
    "            \"hadn't\", 'hasn', \"hasn't\", 'haven', \"haven't\", 'isn', \"isn't\", 'ma', 'mightn', \"mightn't\", 'mustn',\\\n",
    "            \"mustn't\", 'needn', \"needn't\", 'shan', \"shan't\", 'shouldn', \"shouldn't\", 'wasn', \"wasn't\", 'weren', \"weren't\", \\\n",
    "            'won', \"won't\", 'wouldn', \"wouldn't\"])"
   ]
  },
  {
   "cell_type": "code",
   "execution_count": 188,
   "metadata": {},
   "outputs": [],
   "source": [
    "\n",
    "# Función auxiliar para remover stopwords y otras normalizaciones de texto\n",
    "def remove_stopwords(dataframe):\n",
    "  SYNS = []\n",
    "  for sentance in dataframe:\n",
    "    sentance = re.sub('\\\\n', ' ', sentance)\n",
    "    sentance = re.sub(\"\\d{1,3}\\.\\d{1,3}\\.\\d{1,3}\\.\\d{1,3}\",'', sentance)\n",
    "    sentance = re.sub(\"\\[\\[User.*\",'',sentance)\n",
    "    sentance = re.sub(\"(http://.*?\\s)|(http://.*)\",'',sentance)\n",
    "    sentance = re.sub(r\"http\\S+\", \"\", sentance)\n",
    "    sentance = decontracted(sentance)\n",
    "    sentance = re.sub(\"\\S*\\d\\S*\", \"\", sentance).strip()\n",
    "    sentance = re.sub('[^A-Za-z]+', ' ', sentance)\n",
    "    #sentance = ' '.join(e.lower() for e in sentance.split() if e.lower() not in stopwords)\n",
    "    #sentance = ' '.join(e.lower() for e in sentance.split() if e.lower() not in STOPWORDS)\n",
    "    SYNS.append(sentance.strip())\n",
    "  return SYNS"
   ]
  },
  {
   "cell_type": "code",
   "execution_count": 189,
   "metadata": {},
   "outputs": [],
   "source": [
    "# Remueve stopwords\n",
    "synops_train = remove_stopwords(train['comment_text'])"
   ]
  },
  {
   "cell_type": "code",
   "execution_count": 190,
   "metadata": {},
   "outputs": [],
   "source": [
    "train['clean_text'] = synops_train"
   ]
  },
  {
   "cell_type": "code",
   "execution_count": 193,
   "metadata": {},
   "outputs": [],
   "source": [
    "train2 =train"
   ]
  },
  {
   "cell_type": "code",
   "execution_count": 195,
   "metadata": {},
   "outputs": [],
   "source": [
    "drop_col = ['id', 'comment_text']  # columns not neccessary - can be dropped\n",
    "text_col = ['clean_text']  # text feature\n",
    "label_col = [col for col in train2.columns if col not in text_col + drop_col]"
   ]
  },
  {
   "cell_type": "code",
   "execution_count": 200,
   "metadata": {},
   "outputs": [
    {
     "name": "stdout",
     "output_type": "stream",
     "text": [
      "Data points in train data after splitting: 127656\n",
      "Data points in valiadtion data: 31915\n"
     ]
    }
   ],
   "source": [
    "\n",
    "#Dividir train en train y test  20% train y 80% test\n",
    "import random\n",
    "random.seed(10)\n",
    "\n",
    "from sklearn.model_selection import train_test_split\n",
    "X_train, X_test, y_train, y_test = train_test_split(train['clean_text'], \n",
    "                                                  train[class_names], test_size=0.2, random_state=2019)\n",
    "\n",
    "print('Data points in train data after splitting:', len(X_train))\n",
    "print('Data points in valiadtion data:', len(X_test))"
   ]
  },
  {
   "cell_type": "code",
   "execution_count": 205,
   "metadata": {},
   "outputs": [],
   "source": [
    "#Se seleccionan las columnas de textos tanto de train como de test\n",
    "train_text = X_train#train['comment_text']\n",
    "test_text = X_test#test['comment_text']\n",
    "all_text = pd.concat([train_text, test_text])  #Aqui se concatenan"
   ]
  },
  {
   "cell_type": "markdown",
   "metadata": {},
   "source": [
    "## Vectorizar"
   ]
  },
  {
   "cell_type": "code",
   "execution_count": 206,
   "metadata": {},
   "outputs": [],
   "source": [
    "vectorizer.fit(all_text)  #Esta función se encarga de vectoriza el texto\n",
    "train_features = vectorizer.transform(train_text)\n",
    "test_features = vectorizer.transform(test_text)"
   ]
  },
  {
   "cell_type": "markdown",
   "metadata": {},
   "source": [
    "## Regresión logística"
   ]
  },
  {
   "cell_type": "code",
   "execution_count": 207,
   "metadata": {},
   "outputs": [
    {
     "name": "stdout",
     "output_type": "stream",
     "text": [
      "CV score for class toxic is 0.9774352688971949\n",
      "CV score for class severe_toxic is 0.9885724889544245\n",
      "CV score for class obscene is 0.9903322942297937\n",
      "CV score for class threat is 0.9880352831926897\n",
      "CV score for class insult is 0.9825338485272866\n",
      "CV score for class identity_hate is 0.98306241245231\n",
      "Total CV score is 0.9849952660422833\n"
     ]
    }
   ],
   "source": [
    "scores = []  \n",
    "submission = pd.DataFrame.from_dict({'id': X_test.index}) \n",
    "for class_name in class_names:\n",
    "    train_target = y_train[class_name]\n",
    "    classifier = LogisticRegression(solver='sag')\n",
    "\n",
    "    cv_score = np.mean(cross_val_score(\n",
    "        classifier, train_features, train_target, cv=3, scoring='roc_auc'))\n",
    "    scores.append(cv_score)\n",
    "    print('CV score for class {} is {}'.format(class_name, cv_score))\n",
    "\n",
    "    classifier.fit(train_features, train_target)\n",
    "    submission[class_name] = classifier.predict_proba(test_features)[:, 1].round()\n",
    "\n",
    "print('Total CV score is {}'.format(np.mean(scores)))"
   ]
  },
  {
   "cell_type": "markdown",
   "metadata": {},
   "source": [
    "## Curvas ROC"
   ]
  },
  {
   "cell_type": "code",
   "execution_count": 208,
   "metadata": {},
   "outputs": [
    {
     "name": "stdout",
     "output_type": "stream",
     "text": [
      "AUC of ROC Curve: 0.8359749628481317\n"
     ]
    },
    {
     "data": {
      "image/png": "[encoded data removed]",
      "text/plain": [
       "<Figure size 432x288 with 1 Axes>"
      ]
     },
     "metadata": {
      "needs_background": "light"
     },
     "output_type": "display_data"
    }
   ],
   "source": [
    "fpr, tpr, thresholds = roc_curve(y_test[\"toxic\"], submission[\"toxic\"])\n",
    "roc_auc = roc_auc_score(y_test[\"toxic\"], submission[\"toxic\"])\n",
    "print(\"AUC of ROC Curve:\", roc_auc)\n",
    "plt.plot(fpr, tpr,'r')\n",
    "plt.plot([0, 1], [0, 1], color='navy', linestyle='--')\n",
    "plt.title(\"Toxic ROC Curve\")\n",
    "plt.xlabel(\"False Positive Rate\")\n",
    "plt.ylabel(\"True Positive Rate\")\n",
    "plt.show()"
   ]
  },
  {
   "cell_type": "code",
   "execution_count": 209,
   "metadata": {},
   "outputs": [
    {
     "name": "stdout",
     "output_type": "stream",
     "text": [
      "AUC of ROC Curve: 0.612137402929932\n"
     ]
    },
    {
     "data": {
      "image/png": "[encoded data removed]",
      "text/plain": [
       "<Figure size 432x288 with 1 Axes>"
      ]
     },
     "metadata": {
      "needs_background": "light"
     },
     "output_type": "display_data"
    }
   ],
   "source": [
    "fpr, tpr, thresholds = roc_curve(y_test[\"severe_toxic\"], submission[\"severe_toxic\"])\n",
    "roc_auc = roc_auc_score(y_test[\"severe_toxic\"], submission[\"severe_toxic\"])\n",
    "print(\"AUC of ROC Curve:\", roc_auc)\n",
    "plt.plot(fpr, tpr,'r')\n",
    "plt.plot([0, 1], [0, 1], color='navy', linestyle='--')\n",
    "plt.title(\"Severe toxic ROC Curve\")\n",
    "plt.xlabel(\"False Positive Rate\")\n",
    "plt.ylabel(\"True Positive Rate\")\n",
    "plt.show()"
   ]
  },
  {
   "cell_type": "code",
   "execution_count": 210,
   "metadata": {},
   "outputs": [
    {
     "name": "stdout",
     "output_type": "stream",
     "text": [
      "AUC of ROC Curve: 0.8367058235405214\n"
     ]
    },
    {
     "data": {
      "image/png": "[encoded data removed]",
      "text/plain": [
       "<Figure size 432x288 with 1 Axes>"
      ]
     },
     "metadata": {
      "needs_background": "light"
     },
     "output_type": "display_data"
    }
   ],
   "source": [
    "fpr, tpr, thresholds = roc_curve(y_test[\"obscene\"], submission[\"obscene\"])\n",
    "roc_auc = roc_auc_score(y_test[\"obscene\"], submission[\"obscene\"])\n",
    "print(\"AUC of ROC Curve:\", roc_auc)\n",
    "plt.plot(fpr, tpr,'r')\n",
    "plt.plot([0, 1], [0, 1], color='navy', linestyle='--')\n",
    "plt.title(\"Obscene ROC Curve\")\n",
    "plt.xlabel(\"False Positive Rate\")\n",
    "plt.ylabel(\"True Positive Rate\")\n",
    "plt.show()"
   ]
  },
  {
   "cell_type": "code",
   "execution_count": 211,
   "metadata": {},
   "outputs": [
    {
     "name": "stdout",
     "output_type": "stream",
     "text": [
      "AUC of ROC Curve: 0.574295243272374\n"
     ]
    },
    {
     "data": {
      "image/png": "[encoded data removed]",
      "text/plain": [
       "<Figure size 432x288 with 1 Axes>"
      ]
     },
     "metadata": {
      "needs_background": "light"
     },
     "output_type": "display_data"
    }
   ],
   "source": [
    "fpr, tpr, thresholds = roc_curve(y_test[\"threat\"], submission[\"threat\"])\n",
    "roc_auc = roc_auc_score(y_test[\"threat\"], submission[\"threat\"])\n",
    "print(\"AUC of ROC Curve:\", roc_auc)\n",
    "plt.plot(fpr, tpr,'r')\n",
    "plt.plot([0, 1], [0, 1], color='navy', linestyle='--')\n",
    "plt.title(\"Threat ROC Curve\")\n",
    "plt.xlabel(\"False Positive Rate\")\n",
    "plt.ylabel(\"True Positive Rate\")\n",
    "plt.show()"
   ]
  },
  {
   "cell_type": "code",
   "execution_count": 212,
   "metadata": {},
   "outputs": [
    {
     "name": "stdout",
     "output_type": "stream",
     "text": [
      "AUC of ROC Curve: 0.787666822553354\n"
     ]
    },
    {
     "data": {
      "image/png": "[encoded data removed]",
      "text/plain": [
       "<Figure size 432x288 with 1 Axes>"
      ]
     },
     "metadata": {
      "needs_background": "light"
     },
     "output_type": "display_data"
    }
   ],
   "source": [
    "fpr, tpr, thresholds = roc_curve(y_test[\"insult\"], submission[\"insult\"])\n",
    "roc_auc = roc_auc_score(y_test[\"insult\"], submission[\"insult\"])\n",
    "print(\"AUC of ROC Curve:\", roc_auc)\n",
    "plt.plot(fpr, tpr,'r')\n",
    "plt.plot([0, 1], [0, 1], color='navy', linestyle='--')\n",
    "plt.title(\"Insult ROC Curve\")\n",
    "plt.xlabel(\"False Positive Rate\")\n",
    "plt.ylabel(\"True Positive Rate\")\n",
    "plt.show()"
   ]
  },
  {
   "cell_type": "code",
   "execution_count": 213,
   "metadata": {},
   "outputs": [
    {
     "name": "stdout",
     "output_type": "stream",
     "text": [
      "AUC of ROC Curve: 0.616181234167478\n"
     ]
    },
    {
     "data": {
      "image/png": "[encoded data removed]",
      "text/plain": [
       "<Figure size 432x288 with 1 Axes>"
      ]
     },
     "metadata": {
      "needs_background": "light"
     },
     "output_type": "display_data"
    }
   ],
   "source": [
    "fpr, tpr, thresholds = roc_curve(y_test[\"identity_hate\"], submission[\"identity_hate\"])\n",
    "roc_auc = roc_auc_score(y_test[\"identity_hate\"], submission[\"identity_hate\"])\n",
    "print(\"AUC of ROC Curve:\", roc_auc)\n",
    "plt.plot(fpr, tpr,'r')\n",
    "plt.plot([0, 1], [0, 1], color='navy', linestyle='--')\n",
    "plt.title(\"Identity hate ROC Curve\")\n",
    "plt.xlabel(\"False Positive Rate\")\n",
    "plt.ylabel(\"True Positive Rate\")\n",
    "plt.show()"
   ]
  },
  {
   "cell_type": "code",
   "execution_count": null,
   "metadata": {},
   "outputs": [],
   "source": []
  },
  {
   "cell_type": "code",
   "execution_count": 0,
   "metadata": {
    "colab": {},
    "colab_type": "code",
    "id": "iyT5OCiXqha7"
   },
   "outputs": [],
   "source": [
    "#submission.to_csv('submission.csv', index=False)"
   ]
  },
  {
   "cell_type": "markdown",
   "metadata": {
    "colab_type": "text",
    "id": "1x099wYHEA3Y"
   },
   "source": [
    "Referencias <br>\n",
    "* https://kavita-ganesan.com/tfidftransformer-tfidfvectorizer-usage-differences/#.Xqz2zFMzboz <br>\n",
    "* https://scikit-learn.org/stable/modules/generated/sklearn.feature_extraction.text.TfidfVectorizer.html <br>\n",
    "* https://www.kaggle.com/thousandvoices/logistic-regression-with-words-and-char-n-grams/code <br>"
   ]
  }
 ],
 "metadata": {
  "colab": {
   "collapsed_sections": [],
   "name": "NGrammas.ipynb",
   "provenance": []
  },
  "kernelspec": {
   "display_name": "Python 3",
   "language": "python",
   "name": "python3"
  },
  "language_info": {
   "codemirror_mode": {
    "name": "ipython",
    "version": 3
   },
   "file_extension": ".py",
   "mimetype": "text/x-python",
   "name": "python",
   "nbconvert_exporter": "python",
   "pygments_lexer": "ipython3",
   "version": "3.7.4"
  }
 },
 "nbformat": 4,
 "nbformat_minor": 1
}
