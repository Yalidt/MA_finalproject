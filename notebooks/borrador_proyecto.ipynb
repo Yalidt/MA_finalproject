{
 "cells": [
  {
   "cell_type": "markdown",
   "metadata": {},
   "source": [
    "## Problema\n",
    "\n",
    "Predecir la probabilidad de que un comentario sea tóxico, comentartio tóxico \"1\", comentario no tóxico \"0\"\n",
    "Test: Todos los comentarios clasificados como \"1\" ó \"0\"\n"
   ]
  },
  {
   "cell_type": "code",
   "execution_count": 1,
   "metadata": {},
   "outputs": [
    {
     "name": "stdout",
     "output_type": "stream",
     "text": [
      "2.1.0\n"
     ]
    }
   ],
   "source": [
    "import tensorflow as tf\n",
    "print(tf.__version__)"
   ]
  },
  {
   "cell_type": "code",
   "execution_count": 2,
   "metadata": {},
   "outputs": [],
   "source": [
    "# Load datasets\n",
    "\n",
    "import pandas as pd\n",
    "import os\n",
    "\n",
    "\n",
    "\n",
    "val_data = pd.read_csv(\"validation.csv\")\n",
    "test_data = pd.read_csv(\"test.csv\")\n",
    "train_data = pd.read_csv(\"jigsaw-toxic-comment-train.csv\")"
   ]
  },
  {
   "cell_type": "code",
   "execution_count": 3,
   "metadata": {},
   "outputs": [
    {
     "data": {
      "text/html": [
       "<div>\n",
       "<style scoped>\n",
       "    .dataframe tbody tr th:only-of-type {\n",
       "        vertical-align: middle;\n",
       "    }\n",
       "\n",
       "    .dataframe tbody tr th {\n",
       "        vertical-align: top;\n",
       "    }\n",
       "\n",
       "    .dataframe thead th {\n",
       "        text-align: right;\n",
       "    }\n",
       "</style>\n",
       "<table border=\"1\" class=\"dataframe\">\n",
       "  <thead>\n",
       "    <tr style=\"text-align: right;\">\n",
       "      <th></th>\n",
       "      <th>id</th>\n",
       "      <th>comment_text</th>\n",
       "      <th>toxic</th>\n",
       "      <th>severe_toxic</th>\n",
       "      <th>obscene</th>\n",
       "      <th>threat</th>\n",
       "      <th>insult</th>\n",
       "      <th>identity_hate</th>\n",
       "    </tr>\n",
       "  </thead>\n",
       "  <tbody>\n",
       "    <tr>\n",
       "      <td>198221</td>\n",
       "      <td>9a0f3ddd5a242ffb</td>\n",
       "      <td>Stop fooling yourself Narek, and stop being ag...</td>\n",
       "      <td>0</td>\n",
       "      <td>0</td>\n",
       "      <td>0</td>\n",
       "      <td>0</td>\n",
       "      <td>0</td>\n",
       "      <td>0</td>\n",
       "    </tr>\n",
       "    <tr>\n",
       "      <td>63079</td>\n",
       "      <td>a8c0c22da9328590</td>\n",
       "      <td>Will you lot frikking stop it \\n\\nUse any fook...</td>\n",
       "      <td>1</td>\n",
       "      <td>0</td>\n",
       "      <td>0</td>\n",
       "      <td>0</td>\n",
       "      <td>0</td>\n",
       "      <td>0</td>\n",
       "    </tr>\n",
       "    <tr>\n",
       "      <td>35274</td>\n",
       "      <td>5e2ec333c94e9a40</td>\n",
       "      <td>\"\\n\\nHeh. I created the article on Jhereg, fol...</td>\n",
       "      <td>0</td>\n",
       "      <td>0</td>\n",
       "      <td>0</td>\n",
       "      <td>0</td>\n",
       "      <td>0</td>\n",
       "      <td>0</td>\n",
       "    </tr>\n",
       "    <tr>\n",
       "      <td>195666</td>\n",
       "      <td>904764c2ea6efe97</td>\n",
       "      <td>*Support seems to be the most sensible option.</td>\n",
       "      <td>0</td>\n",
       "      <td>0</td>\n",
       "      <td>0</td>\n",
       "      <td>0</td>\n",
       "      <td>0</td>\n",
       "      <td>0</td>\n",
       "    </tr>\n",
       "    <tr>\n",
       "      <td>46663</td>\n",
       "      <td>7cb7f0d6df9ca841</td>\n",
       "      <td>\"\\n Speedy deletion of \"\"John falls\"\" \\n\\n A p...</td>\n",
       "      <td>0</td>\n",
       "      <td>0</td>\n",
       "      <td>0</td>\n",
       "      <td>0</td>\n",
       "      <td>0</td>\n",
       "      <td>0</td>\n",
       "    </tr>\n",
       "    <tr>\n",
       "      <td>...</td>\n",
       "      <td>...</td>\n",
       "      <td>...</td>\n",
       "      <td>...</td>\n",
       "      <td>...</td>\n",
       "      <td>...</td>\n",
       "      <td>...</td>\n",
       "      <td>...</td>\n",
       "      <td>...</td>\n",
       "    </tr>\n",
       "    <tr>\n",
       "      <td>155545</td>\n",
       "      <td>bfb4a1ab5d7e3028</td>\n",
       "      <td>sajad \\n\\nselena i have good sound as you.but ...</td>\n",
       "      <td>0</td>\n",
       "      <td>0</td>\n",
       "      <td>0</td>\n",
       "      <td>0</td>\n",
       "      <td>0</td>\n",
       "      <td>0</td>\n",
       "    </tr>\n",
       "    <tr>\n",
       "      <td>204509</td>\n",
       "      <td>b3025e5fabed2ea8</td>\n",
       "      <td>Hey, Beckerhead, go f yourself.</td>\n",
       "      <td>0</td>\n",
       "      <td>0</td>\n",
       "      <td>0</td>\n",
       "      <td>0</td>\n",
       "      <td>0</td>\n",
       "      <td>0</td>\n",
       "    </tr>\n",
       "    <tr>\n",
       "      <td>196663</td>\n",
       "      <td>941e60ce2ccf115e</td>\n",
       "      <td>:Oh no!! Thank you for informing me, I'll do a...</td>\n",
       "      <td>0</td>\n",
       "      <td>0</td>\n",
       "      <td>0</td>\n",
       "      <td>0</td>\n",
       "      <td>0</td>\n",
       "      <td>0</td>\n",
       "    </tr>\n",
       "    <tr>\n",
       "      <td>197938</td>\n",
       "      <td>98f1fb1b1161084f</td>\n",
       "      <td>== Essay == \\n\\n Hi Jehochman, I've written an...</td>\n",
       "      <td>0</td>\n",
       "      <td>0</td>\n",
       "      <td>0</td>\n",
       "      <td>0</td>\n",
       "      <td>0</td>\n",
       "      <td>0</td>\n",
       "    </tr>\n",
       "    <tr>\n",
       "      <td>202747</td>\n",
       "      <td>ac183f116b318d1e</td>\n",
       "      <td>Human feces means POOO!!!!!!!!!!!!!!!!!!!!!!!!...</td>\n",
       "      <td>0</td>\n",
       "      <td>0</td>\n",
       "      <td>0</td>\n",
       "      <td>0</td>\n",
       "      <td>0</td>\n",
       "      <td>0</td>\n",
       "    </tr>\n",
       "  </tbody>\n",
       "</table>\n",
       "<p>100 rows × 8 columns</p>\n",
       "</div>"
      ],
      "text/plain": [
       "                      id                                       comment_text  \\\n",
       "198221  9a0f3ddd5a242ffb  Stop fooling yourself Narek, and stop being ag...   \n",
       "63079   a8c0c22da9328590  Will you lot frikking stop it \\n\\nUse any fook...   \n",
       "35274   5e2ec333c94e9a40  \"\\n\\nHeh. I created the article on Jhereg, fol...   \n",
       "195666  904764c2ea6efe97     *Support seems to be the most sensible option.   \n",
       "46663   7cb7f0d6df9ca841  \"\\n Speedy deletion of \"\"John falls\"\" \\n\\n A p...   \n",
       "...                  ...                                                ...   \n",
       "155545  bfb4a1ab5d7e3028  sajad \\n\\nselena i have good sound as you.but ...   \n",
       "204509  b3025e5fabed2ea8                    Hey, Beckerhead, go f yourself.   \n",
       "196663  941e60ce2ccf115e  :Oh no!! Thank you for informing me, I'll do a...   \n",
       "197938  98f1fb1b1161084f  == Essay == \\n\\n Hi Jehochman, I've written an...   \n",
       "202747  ac183f116b318d1e  Human feces means POOO!!!!!!!!!!!!!!!!!!!!!!!!...   \n",
       "\n",
       "        toxic  severe_toxic  obscene  threat  insult  identity_hate  \n",
       "198221      0             0        0       0       0              0  \n",
       "63079       1             0        0       0       0              0  \n",
       "35274       0             0        0       0       0              0  \n",
       "195666      0             0        0       0       0              0  \n",
       "46663       0             0        0       0       0              0  \n",
       "...       ...           ...      ...     ...     ...            ...  \n",
       "155545      0             0        0       0       0              0  \n",
       "204509      0             0        0       0       0              0  \n",
       "196663      0             0        0       0       0              0  \n",
       "197938      0             0        0       0       0              0  \n",
       "202747      0             0        0       0       0              0  \n",
       "\n",
       "[100 rows x 8 columns]"
      ]
     },
     "execution_count": 3,
     "metadata": {},
     "output_type": "execute_result"
    }
   ],
   "source": [
    "# Preview train set\n",
    "train_data.sample(100)"
   ]
  },
  {
   "cell_type": "code",
   "execution_count": 4,
   "metadata": {},
   "outputs": [
    {
     "data": {
      "text/html": [
       "<div>\n",
       "<style scoped>\n",
       "    .dataframe tbody tr th:only-of-type {\n",
       "        vertical-align: middle;\n",
       "    }\n",
       "\n",
       "    .dataframe tbody tr th {\n",
       "        vertical-align: top;\n",
       "    }\n",
       "\n",
       "    .dataframe thead th {\n",
       "        text-align: right;\n",
       "    }\n",
       "</style>\n",
       "<table border=\"1\" class=\"dataframe\">\n",
       "  <thead>\n",
       "    <tr style=\"text-align: right;\">\n",
       "      <th></th>\n",
       "      <th>id</th>\n",
       "      <th>comment_text</th>\n",
       "      <th>lang</th>\n",
       "      <th>toxic</th>\n",
       "    </tr>\n",
       "  </thead>\n",
       "  <tbody>\n",
       "    <tr>\n",
       "      <td>4115</td>\n",
       "      <td>4115</td>\n",
       "      <td>Merhaba, Essex County bu maddeyi Essex County(...</td>\n",
       "      <td>tr</td>\n",
       "      <td>0</td>\n",
       "    </tr>\n",
       "    <tr>\n",
       "      <td>2909</td>\n",
       "      <td>2909</td>\n",
       "      <td>...por esto y por esto. Ya he sacado Calígula ...</td>\n",
       "      <td>es</td>\n",
       "      <td>0</td>\n",
       "    </tr>\n",
       "    <tr>\n",
       "      <td>1185</td>\n",
       "      <td>1185</td>\n",
       "      <td>da niente a troppo che esagerato, adesso sei a...</td>\n",
       "      <td>it</td>\n",
       "      <td>1</td>\n",
       "    </tr>\n",
       "    <tr>\n",
       "      <td>6060</td>\n",
       "      <td>6060</td>\n",
       "      <td>Coincido con lo dicho por Alelapenya. Espero q...</td>\n",
       "      <td>es</td>\n",
       "      <td>0</td>\n",
       "    </tr>\n",
       "    <tr>\n",
       "      <td>5065</td>\n",
       "      <td>5065</td>\n",
       "      <td>No insistas vos en cagarte en mi trabajo. Ya ...</td>\n",
       "      <td>es</td>\n",
       "      <td>0</td>\n",
       "    </tr>\n",
       "  </tbody>\n",
       "</table>\n",
       "</div>"
      ],
      "text/plain": [
       "        id                                       comment_text lang  toxic\n",
       "4115  4115  Merhaba, Essex County bu maddeyi Essex County(...   tr      0\n",
       "2909  2909  ...por esto y por esto. Ya he sacado Calígula ...   es      0\n",
       "1185  1185  da niente a troppo che esagerato, adesso sei a...   it      1\n",
       "6060  6060  Coincido con lo dicho por Alelapenya. Espero q...   es      0\n",
       "5065  5065   No insistas vos en cagarte en mi trabajo. Ya ...   es      0"
      ]
     },
     "execution_count": 4,
     "metadata": {},
     "output_type": "execute_result"
    }
   ],
   "source": [
    "val_data.sample(5)"
   ]
  },
  {
   "cell_type": "code",
   "execution_count": 5,
   "metadata": {},
   "outputs": [
    {
     "data": {
      "text/html": [
       "<div>\n",
       "<style scoped>\n",
       "    .dataframe tbody tr th:only-of-type {\n",
       "        vertical-align: middle;\n",
       "    }\n",
       "\n",
       "    .dataframe tbody tr th {\n",
       "        vertical-align: top;\n",
       "    }\n",
       "\n",
       "    .dataframe thead th {\n",
       "        text-align: right;\n",
       "    }\n",
       "</style>\n",
       "<table border=\"1\" class=\"dataframe\">\n",
       "  <thead>\n",
       "    <tr style=\"text-align: right;\">\n",
       "      <th></th>\n",
       "      <th>id</th>\n",
       "      <th>content</th>\n",
       "      <th>lang</th>\n",
       "    </tr>\n",
       "  </thead>\n",
       "  <tbody>\n",
       "    <tr>\n",
       "      <td>20899</td>\n",
       "      <td>20899</td>\n",
       "      <td>ah, wow. stai attento che se in qualche partit...</td>\n",
       "      <td>it</td>\n",
       "    </tr>\n",
       "    <tr>\n",
       "      <td>57826</td>\n",
       "      <td>57826</td>\n",
       "      <td>Arthemius x, o artigo Cronica está sendo vanda...</td>\n",
       "      <td>pt</td>\n",
       "    </tr>\n",
       "    <tr>\n",
       "      <td>63467</td>\n",
       "      <td>63467</td>\n",
       "      <td>Mil perdões!!! Erro absurdo meu com certeza. F...</td>\n",
       "      <td>pt</td>\n",
       "    </tr>\n",
       "    <tr>\n",
       "      <td>3998</td>\n",
       "      <td>3998</td>\n",
       "      <td>Te meterán en la hoguera por hereje,:) ya mism...</td>\n",
       "      <td>es</td>\n",
       "    </tr>\n",
       "    <tr>\n",
       "      <td>28350</td>\n",
       "      <td>28350</td>\n",
       "      <td>No sabía que pudieras ver el futuro. Me dices ...</td>\n",
       "      <td>es</td>\n",
       "    </tr>\n",
       "  </tbody>\n",
       "</table>\n",
       "</div>"
      ],
      "text/plain": [
       "          id                                            content lang\n",
       "20899  20899  ah, wow. stai attento che se in qualche partit...   it\n",
       "57826  57826  Arthemius x, o artigo Cronica está sendo vanda...   pt\n",
       "63467  63467  Mil perdões!!! Erro absurdo meu com certeza. F...   pt\n",
       "3998    3998  Te meterán en la hoguera por hereje,:) ya mism...   es\n",
       "28350  28350  No sabía que pudieras ver el futuro. Me dices ...   es"
      ]
     },
     "execution_count": 5,
     "metadata": {},
     "output_type": "execute_result"
    }
   ],
   "source": [
    "test_data.sample(5)"
   ]
  },
  {
   "cell_type": "code",
   "execution_count": 6,
   "metadata": {},
   "outputs": [],
   "source": [
    "# Remover \n",
    "import re\n",
    "\n",
    "val = val_data\n",
    "train = train_data\n",
    "\n",
    "def clean(text):\n",
    "    # fill the missing entries and convert them to lower case\n",
    "    text = text.fillna(\"fillna\").str.lower()\n",
    "    # replace the newline characters with space \n",
    "    text = text.map(lambda x: re.sub('\\\\n',' ',str(x)))\n",
    "    text = text.map(lambda x: re.sub(\"\\[\\[User.*\",'',str(x)))\n",
    "    # remove usernames and links\n",
    "    text = text.map(lambda x: re.sub(\"\\d{1,3}\\.\\d{1,3}\\.\\d{1,3}\\.\\d{1,3}\",'',str(x)))\n",
    "    text = text.map(lambda x: re.sub(\"\\(http://.*?\\s\\(http://.*\\)\",'',str(x)))\n",
    "    return text\n",
    "\n",
    "val[\"comment_text\"] = clean(val[\"comment_text\"])\n",
    "test_data[\"content\"] = clean(test_data[\"content\"])\n",
    "train[\"comment_text\"] = clean(train[\"comment_text\"])\n"
   ]
  },
  {
   "cell_type": "code",
   "execution_count": null,
   "metadata": {},
   "outputs": [],
   "source": [
    "pip install transformers"
   ]
  },
  {
   "cell_type": "code",
   "execution_count": 11,
   "metadata": {},
   "outputs": [],
   "source": [
    "# Load DistilBERT tokenizer\n",
    "import transformers\n",
    "\n",
    "tokenizer = transformers.DistilBertTokenizer.from_pretrained('distilbert-base-multilingual-cased')"
   ]
  },
  {
   "cell_type": "code",
   "execution_count": 12,
   "metadata": {},
   "outputs": [],
   "source": [
    "# Segregate the comments and their labels (not applicable for test set)\n",
    "train_comments = train.comment_text.astype(str).values\n",
    "val_comments = val_data.comment_text.astype(str).values\n",
    "test_comments = test_data.content.astype(str).values\n",
    "\n",
    "y_valid = val.toxic.values\n",
    "y_train = train.toxic.values"
   ]
  },
  {
   "cell_type": "code",
   "execution_count": 13,
   "metadata": {},
   "outputs": [
    {
     "data": {
      "text/plain": [
       "40"
      ]
     },
     "execution_count": 13,
     "metadata": {},
     "output_type": "execute_result"
    }
   ],
   "source": [
    "import gc\n",
    "gc.collect()"
   ]
  },
  {
   "cell_type": "code",
   "execution_count": 9,
   "metadata": {},
   "outputs": [],
   "source": [
    "#pip install -q googletrans"
   ]
  },
  {
   "cell_type": "code",
   "execution_count": 14,
   "metadata": {},
   "outputs": [
    {
     "name": "stdout",
     "output_type": "stream",
     "text": [
      "Original comment:  ¡ah! sí, ya lo sé... pero como que no puedo sacarme ciertos argentinismos de encima a la hora de escribir. —   kved    (discusión)    pd: aunque no sé si lo correcto no es escribir  bloqueé  en lugar de  bloquee . para solucionar ese tema, es más fácil decir   bloquié   y que la rae se vaya a tomar por culo.   ;)\n",
      "\n",
      "\n",
      "Translated comment: Ah! Yes, I know ... but I can not get me out certain argentinismos off when writing. - kved (discussion) pd: I do not know if right not write blocked instead of blocking. to solve this issue, it is easier to say rae bloquié and that is to take the ass. ;)\n"
     ]
    }
   ],
   "source": [
    "# Demo examples of translations\n",
    "from googletrans import Translator\n",
    "\n",
    "sample_comment = test_comments[48649]\n",
    "print(\"Original comment:\", sample_comment)\n",
    "translated_comment = Translator().translate(sample_comment)\n",
    "print(\"\\n\")\n",
    "print(\"Translated comment:\", translated_comment.text)"
   ]
  },
  {
   "cell_type": "code",
   "execution_count": 15,
   "metadata": {},
   "outputs": [
    {
     "data": {
      "text/plain": [
       "array(['doctor who adlı viki başlığına 12. doctor olarak bir viki yazarı kendi adını eklemiştir. şahsen düzelttim. onaylarsanız sevinirim. occipital ',\n",
       "       ' вполне возможно, но я пока не вижу необходимости выделять материал в отдельную статью. если про правосудие в ссср будет написано хотя бы килобайт 20-30 — тогда да, следует разделить. пока же мы в итоге получим одну куцую статью правосудие и другую не менее куцую статью правосудие в ссср. мне кажется, что этот вопрос вполне разумно решать на основе правил вп:размер статей? которые не предписывают разделения, пока размер статьи не достигнет хотя бы 50 тыс. знаков. ',\n",
       "       'quindi tu sei uno di quelli   conservativi  , che preferiscono non cancellare. ok. avresti lasciato anche   sfaccimma  ? si? ok. contento te... io non approvo per nulla, ma non conto nemmeno nulla... allora lo sai che faccio? me ne frego! (aborro il fascismo, ma quando ce vo , ce vo !) elborgo (sms) ',\n",
       "       ...,\n",
       "       'innnazitutto ti ringrazio per i ringraziamenti!! ) è una della mie band preferite... allora... io credo fermamente che il fatto di cambiare nome non  crei  una nuova band.... gli europe sono i force e sono i wc...sarebbe assurdo considerarle 3 band diverse secondo me... quindi la data di fondazione è 1978... no? esempio idiota: se vado all anagrafe e mi faccio cambiare il nome, sono sempre io no?? ;-) dimmi che ne pensi thejoker',\n",
       "       ' kaç olumlu oy gerekiyor? şu an 7 oldu.  hayırlı olsun . ►   cekli829    ',\n",
       "       ' te pido disculpas. la verdad es que no me percaté del detalle. no hay problema, por supuesto que puedes cambiar la palabra en cuestión. saludos, alberto. espero que estés finalizando una buena semana. belmar 4.'],\n",
       "      dtype=object)"
      ]
     },
     "execution_count": 15,
     "metadata": {},
     "output_type": "execute_result"
    }
   ],
   "source": [
    "test_comments"
   ]
  },
  {
   "cell_type": "code",
   "execution_count": null,
   "metadata": {},
   "outputs": [],
   "source": []
  },
  {
   "cell_type": "code",
   "execution_count": null,
   "metadata": {},
   "outputs": [],
   "source": []
  },
  {
   "cell_type": "code",
   "execution_count": null,
   "metadata": {},
   "outputs": [],
   "source": []
  }
 ],
 "metadata": {
  "kernelspec": {
   "display_name": "Python 3",
   "language": "python",
   "name": "python3"
  },
  "language_info": {
   "codemirror_mode": {
    "name": "ipython",
    "version": 3
   },
   "file_extension": ".py",
   "mimetype": "text/x-python",
   "name": "python",
   "nbconvert_exporter": "python",
   "pygments_lexer": "ipython3",
   "version": "3.7.4"
  }
 },
 "nbformat": 4,
 "nbformat_minor": 2
}
