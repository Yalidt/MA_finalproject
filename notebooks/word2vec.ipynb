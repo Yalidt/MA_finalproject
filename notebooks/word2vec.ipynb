{
 "cells": [
  {
   "cell_type": "code",
   "execution_count": 8,
   "metadata": {},
   "outputs": [],
   "source": [
    "#Importamos librerías\n",
    "import numpy as np\n",
    "import pandas as pd\n",
    "import io\n",
    "import requests\n",
    "from sklearn.feature_extraction.text import CountVectorizer\n",
    "from sklearn.pipeline import make_union  \n",
    "import sys, os, re, csv, codecs, numpy as np, pandas as pd\n",
    "import matplotlib.pyplot as plt\n",
    "%matplotlib inline\n",
    "from keras.preprocessing.text import Tokenizer\n",
    "from keras.preprocessing.sequence import pad_sequences\n",
    "from keras.layers import Dense, Input, LSTM, Embedding, Dropout, Activation\n",
    "from keras.layers import Bidirectional, GlobalMaxPool1D,Bidirectional\n",
    "from keras.models import Model\n",
    "from keras import initializers, regularizers, constraints, optimizers, layers\n",
    "import matplotlib.pyplot as plt\n",
    "%matplotlib inline\n",
    "import gensim.models.keyedvectors as word2vec\n",
    "import gc"
   ]
  },
  {
   "cell_type": "code",
   "execution_count": 9,
   "metadata": {},
   "outputs": [],
   "source": [
    "#Definimos los url para cargar los datos\n",
    "url_train = \"https://github.com/czammar/MA_finalproject/blob/master/data/train.csv?raw=true\"\n",
    "url_test = \"https://raw.githubusercontent.com/czammar/MA_finalproject/master/data/test.csv?raw=true\"\n",
    "url_test_labels = \"https://github.com/czammar/MA_finalproject/blob/master/data/test_labels.csv?raw=true\""
   ]
  },
  {
   "cell_type": "code",
   "execution_count": 10,
   "metadata": {},
   "outputs": [],
   "source": [
    "# Leemos los los datos de train, test y labels del test desde nuestro repositorio usando requesto con io\n",
    "rtrain=requests.get(url_train).content\n",
    "rtest=requests.get(url_test).content\n",
    "rtest_labels=requests.get(url_test_labels).content"
   ]
  },
  {
   "cell_type": "markdown",
   "metadata": {},
   "source": [
    "Idea principal: \n",
    "Se entrena un modelo sobre el contexto en cada palabra, por los que palabras similares tendrán representaciones numéricas similares \n",
    "\n",
    "Primero divide su oración en palabras(tokenizer) y crea varios pares de palabras dependiendo el tamaño de la ventana.\n",
    "Y sobre estos pares define la palabra dependiente y la independiente. Estas son introducidas a una red neuronal\n"
   ]
  },
  {
   "cell_type": "code",
   "execution_count": 15,
   "metadata": {},
   "outputs": [],
   "source": [
    "# Cargamos datos\n",
    "train = pd.read_csv(io.StringIO(rtrain.decode('utf-8')))\n",
    "test = pd.read_csv(io.StringIO(rtest.decode('utf-8')))\n",
    "embed_size=0\n"
   ]
  },
  {
   "cell_type": "code",
   "execution_count": 16,
   "metadata": {},
   "outputs": [],
   "source": [
    "list_classes = [\"toxic\", \"severe_toxic\", \"obscene\", \"threat\", \"insult\", \"identity_hate\"]\n",
    "y = train[list_classes].values\n",
    "list_sentences_train = train[\"comment_text\"]\n",
    "list_sentences_test = test[\"comment_text\"]"
   ]
  },
  {
   "cell_type": "code",
   "execution_count": 17,
   "metadata": {},
   "outputs": [],
   "source": [
    "max_features = 20000\n",
    "tokenizer = Tokenizer(num_words=max_features)#El número máximo de palabras para mantener, \n",
    "#según la frecuencia de las palabras. Solo se guardarán las palabras num_words (20000) más comunes.\n",
    "tokenizer.fit_on_texts(list(list_sentences_train))\n",
    "list_tokenized_train = tokenizer.texts_to_sequences(list_sentences_train)#lista de sublistas de números\n",
    "list_tokenized_test = tokenizer.texts_to_sequences(list_sentences_test)"
   ]
  },
  {
   "cell_type": "code",
   "execution_count": 18,
   "metadata": {},
   "outputs": [],
   "source": [
    "maxlen = 200\n",
    "X_t = pad_sequences(list_tokenized_train, maxlen=maxlen)\n",
    "X_te = pad_sequences(list_tokenized_test, maxlen=maxlen)\n",
    "#en una matriz de formas 2D Numpy (list_tokenized_train, maxlen). \n"
   ]
  },
  {
   "cell_type": "code",
   "execution_count": 55,
   "metadata": {},
   "outputs": [
    {
     "data": {
      "text/plain": [
       "(159571, 200)"
      ]
     },
     "execution_count": 55,
     "metadata": {},
     "output_type": "execute_result"
    }
   ],
   "source": [
    "X_t.shape"
   ]
  },
  {
   "cell_type": "markdown",
   "metadata": {},
   "source": [
    "Incrustaciones que se han entrenado utilizando el corpus de texto de **Google Negative News**, con el objetivo de que sus palabras negativas puedan funcionar mejor en el contexto \"tóxico\"."
   ]
  },
  {
   "cell_type": "code",
   "execution_count": 26,
   "metadata": {},
   "outputs": [],
   "source": [
    "\n",
    "word2vecDict = word2vec.KeyedVectors.load_word2vec_format(\"../data/GoogleNews-vectors-negative300.bin\", binary=True)\n",
    "embed_size = 300\n",
    "embeddings_index = dict()\n",
    "    \n",
    "    "
   ]
  },
  {
   "cell_type": "code",
   "execution_count": 29,
   "metadata": {
    "scrolled": true
   },
   "outputs": [
    {
     "name": "stderr",
     "output_type": "stream",
     "text": [
      "/Users/danahiramos/opt/anaconda3/lib/python3.7/site-packages/ipykernel_launcher.py:1: DeprecationWarning: Call to deprecated `wv` (Attribute will be removed in 4.0.0, use self instead).\n",
      "  \"\"\"Entry point for launching an IPython kernel.\n"
     ]
    },
    {
     "name": "stdout",
     "output_type": "stream",
     "text": [
      "Loaded 3000000 word vectors.\n"
     ]
    }
   ],
   "source": [
    "for word in word2vecDict.wv.vocab:\n",
    "    embeddings_index[word] = word2vecDict.word_vec(word)\n",
    "print('Loaded %s word vectors.' % len(embeddings_index))\n",
    "    \n"
   ]
  },
  {
   "cell_type": "code",
   "execution_count": 30,
   "metadata": {},
   "outputs": [],
   "source": [
    "gc.collect()\n",
    "#Obtenemos la desviación media y estándar de los pesos de incrustación para \n",
    "#poder mantener las mismas estadísticas para el resto de nuestros propios pesos generados al azar.        \n",
    "all_embs = np.stack(list(embeddings_index.values()))\n",
    "emb_mean,emb_std = all_embs.mean(), all_embs.std()\n",
    "        \n",
    "nb_words = len(tokenizer.word_index)\n",
    "# Establecemos el tamaño de incrustación en la dimensión preentrenada a medida que la estemos replicando.\n",
    "#el tamaño será Número de palabras en Vocab X Tamaño de incrustación        \n",
    "embedding_matrix = np.random.normal(emb_mean, emb_std, (nb_words, embed_size))\n",
    "gc.collect()\n",
    "# Con la matriz de incrustación recién creada, la llenaremos con las palabras que tenemos en ambos\n",
    "# nuestro propio diccionario y la inserción preentrenada cargada.\n",
    "         \n",
    "embeddedCount = 0\n",
    "        "
   ]
  },
  {
   "cell_type": "code",
   "execution_count": 31,
   "metadata": {},
   "outputs": [
    {
     "name": "stdout",
     "output_type": "stream",
     "text": [
      "total embedded: 66078 common words\n"
     ]
    }
   ],
   "source": [
    "for word, i in tokenizer.word_index.items():\n",
    "    \n",
    "    i-=1\n",
    "    #Olvide quitar esto si estaba en glove\n",
    "    embedding_vector = embeddings_index.get(word)\n",
    "            #almacenamiento en la matriz embeding\n",
    "    if embedding_vector is not None: \n",
    "        embedding_matrix[i] = embedding_vector\n",
    "        embeddedCount+=1\n",
    "        \n",
    "print('total embedded:',embeddedCount,'common words')\n",
    "        \n",
    "        "
   ]
  },
  {
   "cell_type": "code",
   "execution_count": 33,
   "metadata": {},
   "outputs": [
    {
     "data": {
      "text/plain": [
       "55"
      ]
     },
     "execution_count": 33,
     "metadata": {},
     "output_type": "execute_result"
    }
   ],
   "source": [
    "del(embeddings_index)\n",
    "gc.collect()"
   ]
  },
  {
   "cell_type": "markdown",
   "metadata": {},
   "source": [
    "**Embedding matrix** = Matriz de incrustación que tiene los pesos cargados de las incrustaciones preentrenadas para las palabras comunes que tenemos, y números inicializados aleatoriamente que tienen la misma media y desviación estándar para el resto de los pesos en esta matriz.\n"
   ]
  },
  {
   "cell_type": "code",
   "execution_count": 34,
   "metadata": {},
   "outputs": [
    {
     "data": {
      "text/plain": [
       "(210337, 300)"
      ]
     },
     "execution_count": 34,
     "metadata": {},
     "output_type": "execute_result"
    }
   ],
   "source": [
    "embedding_matrix.shape"
   ]
  },
  {
   "cell_type": "markdown",
   "metadata": {},
   "source": [
    "#### Con los pesos de incrustación, podemos proceder a construir una capa LSTM bidireccional con un factor de abandono.\n",
    "\n"
   ]
  },
  {
   "cell_type": "markdown",
   "metadata": {},
   "source": [
    "Comenzamos definiendo la capa de entrada. Al indicar un espacio vacío después de la coma, le estamos diciendo a Keras que infiera el número automáticamente."
   ]
  },
  {
   "cell_type": "code",
   "execution_count": 35,
   "metadata": {},
   "outputs": [],
   "source": [
    "inp = Input(shape=(maxlen, )) #maxlen=200 definido antes"
   ]
  },
  {
   "cell_type": "markdown",
   "metadata": {},
   "source": [
    "Lo pasamos a nuestra capa Embedding y usamos el parámetro \"pesos\" para indicar el uso de los embedding weights preentrenados que hemos cargado y el parámetro \"trainable\" para decirle a Keras que no vuelva a entrenar la capa de embedding."
   ]
  },
  {
   "cell_type": "code",
   "execution_count": 36,
   "metadata": {},
   "outputs": [],
   "source": [
    "x = Embedding(len(tokenizer.word_index), embedding_matrix.shape[1],weights=[embedding_matrix],trainable=False)(inp)"
   ]
  },
  {
   "cell_type": "markdown",
   "metadata": {},
   "source": [
    "Aplicamos **Bidireccionalidad**: \n",
    "El LSTM se divide entre 2 estados ocultos para cada paso de tiempo. A medida que la secuencia de palabras  alimenta al LSTM de manera progresiva, hay otra secuencia inversa que se alimenta al mismo estado oculto al mismo tiempo.\n",
    "**Ventaja**: Cuando se ejecuta hacia atrás se preserva la información del futuro y al usar los dos estados ocultos combinados, puede en cualquier momento preservar la información tanto del pasado como del futuro."
   ]
  },
  {
   "cell_type": "markdown",
   "metadata": {},
   "source": [
    "Se usa **dropout** para no sobreajustar: Es una capa de abandono probabilístico en las entradas en cada paso de tiempo"
   ]
  },
  {
   "cell_type": "code",
   "execution_count": 37,
   "metadata": {},
   "outputs": [],
   "source": [
    "x = Bidirectional(LSTM(60, return_sequences=True,name='lstm_layer',dropout=0.1,recurrent_dropout=0.1))(x)"
   ]
  },
  {
   "cell_type": "code",
   "execution_count": 38,
   "metadata": {},
   "outputs": [],
   "source": [
    "x = GlobalMaxPool1D()(x)"
   ]
  },
  {
   "cell_type": "code",
   "execution_count": 39,
   "metadata": {},
   "outputs": [],
   "source": [
    "x = Dropout(0.1)(x)"
   ]
  },
  {
   "cell_type": "code",
   "execution_count": 40,
   "metadata": {},
   "outputs": [],
   "source": [
    "x = Dense(50, activation=\"relu\")(x)"
   ]
  },
  {
   "cell_type": "code",
   "execution_count": 41,
   "metadata": {},
   "outputs": [],
   "source": [
    "x = Dropout(0.1)(x)"
   ]
  },
  {
   "cell_type": "code",
   "execution_count": 42,
   "metadata": {},
   "outputs": [],
   "source": [
    "x = Dense(6, activation=\"sigmoid\")(x)"
   ]
  },
  {
   "cell_type": "code",
   "execution_count": 43,
   "metadata": {},
   "outputs": [],
   "source": [
    "model = Model(inputs=inp, outputs=x)\n",
    "model.compile(loss='binary_crossentropy',\n",
    "                  optimizer='adam',\n",
    "                  metrics=['accuracy'])"
   ]
  },
  {
   "cell_type": "code",
   "execution_count": 44,
   "metadata": {},
   "outputs": [
    {
     "name": "stdout",
     "output_type": "stream",
     "text": [
      "Model: \"model_1\"\n",
      "_________________________________________________________________\n",
      "Layer (type)                 Output Shape              Param #   \n",
      "=================================================================\n",
      "input_1 (InputLayer)         (None, 200)               0         \n",
      "_________________________________________________________________\n",
      "embedding_1 (Embedding)      (None, 200, 300)          63101100  \n",
      "_________________________________________________________________\n",
      "bidirectional_1 (Bidirection (None, 200, 120)          173280    \n",
      "_________________________________________________________________\n",
      "global_max_pooling1d_1 (Glob (None, 120)               0         \n",
      "_________________________________________________________________\n",
      "dropout_1 (Dropout)          (None, 120)               0         \n",
      "_________________________________________________________________\n",
      "dense_1 (Dense)              (None, 50)                6050      \n",
      "_________________________________________________________________\n",
      "dropout_2 (Dropout)          (None, 50)                0         \n",
      "_________________________________________________________________\n",
      "dense_2 (Dense)              (None, 6)                 306       \n",
      "=================================================================\n",
      "Total params: 63,280,736\n",
      "Trainable params: 179,636\n",
      "Non-trainable params: 63,101,100\n",
      "_________________________________________________________________\n"
     ]
    }
   ],
   "source": [
    "model.summary()"
   ]
  },
  {
   "cell_type": "code",
   "execution_count": 61,
   "metadata": {},
   "outputs": [
    {
     "name": "stdout",
     "output_type": "stream",
     "text": [
      "Train on 143613 samples, validate on 15958 samples\n",
      "Epoch 1/4\n",
      "143613/143613 [==============================] - 891s 6ms/step - loss: 0.0471 - accuracy: 0.9828 - val_loss: 0.0512 - val_accuracy: 0.9815\n",
      "Epoch 2/4\n",
      "143613/143613 [==============================] - 7821s 54ms/step - loss: 0.0449 - accuracy: 0.9832 - val_loss: 0.0501 - val_accuracy: 0.9821\n",
      "Epoch 3/4\n",
      "143613/143613 [==============================] - 626s 4ms/step - loss: 0.0430 - accuracy: 0.9838 - val_loss: 0.0508 - val_accuracy: 0.9821\n",
      "Epoch 4/4\n",
      "143613/143613 [==============================] - 801s 6ms/step - loss: 0.0415 - accuracy: 0.9842 - val_loss: 0.0539 - val_accuracy: 0.9820\n"
     ]
    }
   ],
   "source": [
    "batch_size = 32\n",
    "epochs = 4\n",
    "hist = model.fit(X_t,y, batch_size=batch_size, epochs=epochs, validation_split=0.1)"
   ]
  },
  {
   "cell_type": "code",
   "execution_count": 64,
   "metadata": {
    "scrolled": false
   },
   "outputs": [
    {
     "data": {
      "image/png": "[encoded data removed]",
      "text/plain": [
       "<Figure size 432x288 with 1 Axes>"
      ]
     },
     "metadata": {
      "needs_background": "light"
     },
     "output_type": "display_data"
    }
   ],
   "source": [
    "# Plot loss\n",
    "\n",
    "plt.title('Loss')\n",
    "plt.plot(hist.history['loss'], label='Training', linewidth=2)\n",
    "plt.plot(hist.history['val_loss'], label='Validation', linewidth=2)\n",
    "plt.legend()\n",
    "plt.xlabel('Epoch')\n",
    "plt.ylabel('Loss')\n",
    "plt.grid(True)\n",
    "plt.show()"
   ]
  },
  {
   "cell_type": "code",
   "execution_count": 68,
   "metadata": {},
   "outputs": [
    {
     "data": {
      "image/png": "[encoded data removed]",
      "text/plain": [
       "<Figure size 1296x360 with 2 Axes>"
      ]
     },
     "metadata": {
      "needs_background": "light"
     },
     "output_type": "display_data"
    }
   ],
   "source": [
    "# Plot loss\n",
    "plt.figure(figsize=(18, 5))\n",
    "\n",
    "plt.subplot(1, 2, 1)\n",
    "plt.title('Loss')\n",
    "plt.plot(hist.history['loss'], label='Training', linewidth=2)\n",
    "plt.plot(hist.history['val_loss'], label='Validation', linewidth=2)\n",
    "plt.legend()\n",
    "plt.xlabel('Epoch')\n",
    "plt.ylabel('Loss')\n",
    "plt.grid(True)\n",
    "\n",
    "plt.subplot(1, 2, 2)\n",
    "plt.title('Accuracy')\n",
    "plt.plot(hist.history['accuracy'], label='Training', linewidth=2)\n",
    "plt.plot(hist.history['val_accuracy'], label='Validation', linewidth=2)\n",
    "plt.legend()\n",
    "plt.xlabel('Epoch')\n",
    "plt.ylabel('Accuracy')\n",
    "plt.grid(True)\n",
    "\n",
    "plt.show()\n"
   ]
  },
  {
   "cell_type": "code",
   "execution_count": 74,
   "metadata": {},
   "outputs": [],
   "source": [
    "y_test_hat_ = model.predict(X_te).round()"
   ]
  },
  {
   "cell_type": "code",
   "execution_count": 92,
   "metadata": {},
   "outputs": [],
   "source": [
    "toxic = pd.DataFrame(y_test_hat_,test['comment_text'])\n",
    "toxic.columns = [\"toxic\", \"severe_toxic\", \"obscene\", \"threat\", \"insult\", \"identity_hate\"]"
   ]
  },
  {
   "cell_type": "code",
   "execution_count": 93,
   "metadata": {},
   "outputs": [
    {
     "data": {
      "text/html": [
       "<div>\n",
       "<style scoped>\n",
       "    .dataframe tbody tr th:only-of-type {\n",
       "        vertical-align: middle;\n",
       "    }\n",
       "\n",
       "    .dataframe tbody tr th {\n",
       "        vertical-align: top;\n",
       "    }\n",
       "\n",
       "    .dataframe thead th {\n",
       "        text-align: right;\n",
       "    }\n",
       "</style>\n",
       "<table border=\"1\" class=\"dataframe\">\n",
       "  <thead>\n",
       "    <tr style=\"text-align: right;\">\n",
       "      <th></th>\n",
       "      <th>toxic</th>\n",
       "      <th>severe_toxic</th>\n",
       "      <th>obscene</th>\n",
       "      <th>threat</th>\n",
       "      <th>insult</th>\n",
       "      <th>identity_hate</th>\n",
       "    </tr>\n",
       "    <tr>\n",
       "      <th>comment_text</th>\n",
       "      <th></th>\n",
       "      <th></th>\n",
       "      <th></th>\n",
       "      <th></th>\n",
       "      <th></th>\n",
       "      <th></th>\n",
       "    </tr>\n",
       "  </thead>\n",
       "  <tbody>\n",
       "    <tr>\n",
       "      <td>Yo bitch Ja Rule is more succesful then you'll ever be whats up with you and hating you sad mofuckas...i should bitch slap ur pethedic white faces and get you to kiss my ass you guys sicken me. Ja rule is about pride in da music man. dont diss that shit on him. and nothin is wrong bein like tupac he was a brother too...fuckin white boys get things right next time.,</td>\n",
       "      <td>1.0</td>\n",
       "      <td>0.0</td>\n",
       "      <td>1.0</td>\n",
       "      <td>0.0</td>\n",
       "      <td>1.0</td>\n",
       "      <td>0.0</td>\n",
       "    </tr>\n",
       "    <tr>\n",
       "      <td>== From RfC == \\n\\n The title is fine as it is, IMO.</td>\n",
       "      <td>0.0</td>\n",
       "      <td>0.0</td>\n",
       "      <td>0.0</td>\n",
       "      <td>0.0</td>\n",
       "      <td>0.0</td>\n",
       "      <td>0.0</td>\n",
       "    </tr>\n",
       "    <tr>\n",
       "      <td>\" \\n\\n == Sources == \\n\\n * Zawe Ashton on Lapland —  /  \"</td>\n",
       "      <td>0.0</td>\n",
       "      <td>0.0</td>\n",
       "      <td>0.0</td>\n",
       "      <td>0.0</td>\n",
       "      <td>0.0</td>\n",
       "      <td>0.0</td>\n",
       "    </tr>\n",
       "    <tr>\n",
       "      <td>:If you have a look back at the source, the information I updated was the correct form. I can only guess the source hadn't updated. I shall update the information once again but thank you for your message.</td>\n",
       "      <td>0.0</td>\n",
       "      <td>0.0</td>\n",
       "      <td>0.0</td>\n",
       "      <td>0.0</td>\n",
       "      <td>0.0</td>\n",
       "      <td>0.0</td>\n",
       "    </tr>\n",
       "    <tr>\n",
       "      <td>I don't anonymously edit articles at all.</td>\n",
       "      <td>0.0</td>\n",
       "      <td>0.0</td>\n",
       "      <td>0.0</td>\n",
       "      <td>0.0</td>\n",
       "      <td>0.0</td>\n",
       "      <td>0.0</td>\n",
       "    </tr>\n",
       "    <tr>\n",
       "      <td>...</td>\n",
       "      <td>...</td>\n",
       "      <td>...</td>\n",
       "      <td>...</td>\n",
       "      <td>...</td>\n",
       "      <td>...</td>\n",
       "      <td>...</td>\n",
       "    </tr>\n",
       "    <tr>\n",
       "      <td>. \\n i totally agree, this stuff is nothing but too-long-crap</td>\n",
       "      <td>0.0</td>\n",
       "      <td>0.0</td>\n",
       "      <td>0.0</td>\n",
       "      <td>0.0</td>\n",
       "      <td>0.0</td>\n",
       "      <td>0.0</td>\n",
       "    </tr>\n",
       "    <tr>\n",
       "      <td>== Throw from out field to home plate. == \\n\\n Does it get there faster by throwing to cut off man or direct from out fielder? \\n Were the out fielders in the Mickey mantle era have better arms? \\n Rich</td>\n",
       "      <td>0.0</td>\n",
       "      <td>0.0</td>\n",
       "      <td>0.0</td>\n",
       "      <td>0.0</td>\n",
       "      <td>0.0</td>\n",
       "      <td>0.0</td>\n",
       "    </tr>\n",
       "    <tr>\n",
       "      <td>\" \\n\\n == Okinotorishima categories == \\n\\n I see your changes and agree this is \"\"more correct.\"\"  I had gotten confused, but then found this: \\n :... while acknowledging Japan's territorial rights to Okinotorishima itself ... \\n However, is there a category for  \\n :... did not acknowledge Japan's claim to an exclusive economic zone (EEZ) stemming from Okinotorishima. \\n That is, is there a category for \"\"disputed EEZ\"\"s?   \"</td>\n",
       "      <td>0.0</td>\n",
       "      <td>0.0</td>\n",
       "      <td>0.0</td>\n",
       "      <td>0.0</td>\n",
       "      <td>0.0</td>\n",
       "      <td>0.0</td>\n",
       "    </tr>\n",
       "    <tr>\n",
       "      <td>\" \\n\\n == \"\"One of the founding nations of the EU - Germany - has a Law of Return quite similar to Israel's\"\" == \\n\\n This isn't actually true, is it? Germany allows people whose ancestors were citizens of Germany to return, but AFAIK it does not allow the descendants of Anglo-Saxons to \"\"return\"\" to Angeln and Saxony. Israel, by contrast, allows all Jews to \"\"return\"\" to Israel, even if they can't trace a particular ancestral line to anyone who lived in the modern state or even mandate Palestine. — \"</td>\n",
       "      <td>0.0</td>\n",
       "      <td>0.0</td>\n",
       "      <td>0.0</td>\n",
       "      <td>0.0</td>\n",
       "      <td>0.0</td>\n",
       "      <td>0.0</td>\n",
       "    </tr>\n",
       "    <tr>\n",
       "      <td>\" \\n :::Stop already. Your bullshit is not welcome here. I'm no fool, and if you think that kind of explination is enough, well pity you.    \"</td>\n",
       "      <td>1.0</td>\n",
       "      <td>0.0</td>\n",
       "      <td>1.0</td>\n",
       "      <td>0.0</td>\n",
       "      <td>1.0</td>\n",
       "      <td>0.0</td>\n",
       "    </tr>\n",
       "  </tbody>\n",
       "</table>\n",
       "<p>153164 rows × 6 columns</p>\n",
       "</div>"
      ],
      "text/plain": [
       "                                                    toxic  severe_toxic  \\\n",
       "comment_text                                                              \n",
       "Yo bitch Ja Rule is more succesful then you'll ...    1.0           0.0   \n",
       "== From RfC == \\n\\n The title is fine as it is,...    0.0           0.0   \n",
       "\" \\n\\n == Sources == \\n\\n * Zawe Ashton on Lapl...    0.0           0.0   \n",
       ":If you have a look back at the source, the inf...    0.0           0.0   \n",
       "I don't anonymously edit articles at all.             0.0           0.0   \n",
       "...                                                   ...           ...   \n",
       ". \\n i totally agree, this stuff is nothing but...    0.0           0.0   \n",
       "== Throw from out field to home plate. == \\n\\n ...    0.0           0.0   \n",
       "\" \\n\\n == Okinotorishima categories == \\n\\n I s...    0.0           0.0   \n",
       "\" \\n\\n == \"\"One of the founding nations of the ...    0.0           0.0   \n",
       "\" \\n :::Stop already. Your bullshit is not welc...    1.0           0.0   \n",
       "\n",
       "                                                    obscene  threat  insult  \\\n",
       "comment_text                                                                  \n",
       "Yo bitch Ja Rule is more succesful then you'll ...      1.0     0.0     1.0   \n",
       "== From RfC == \\n\\n The title is fine as it is,...      0.0     0.0     0.0   \n",
       "\" \\n\\n == Sources == \\n\\n * Zawe Ashton on Lapl...      0.0     0.0     0.0   \n",
       ":If you have a look back at the source, the inf...      0.0     0.0     0.0   \n",
       "I don't anonymously edit articles at all.               0.0     0.0     0.0   \n",
       "...                                                     ...     ...     ...   \n",
       ". \\n i totally agree, this stuff is nothing but...      0.0     0.0     0.0   \n",
       "== Throw from out field to home plate. == \\n\\n ...      0.0     0.0     0.0   \n",
       "\" \\n\\n == Okinotorishima categories == \\n\\n I s...      0.0     0.0     0.0   \n",
       "\" \\n\\n == \"\"One of the founding nations of the ...      0.0     0.0     0.0   \n",
       "\" \\n :::Stop already. Your bullshit is not welc...      1.0     0.0     1.0   \n",
       "\n",
       "                                                    identity_hate  \n",
       "comment_text                                                       \n",
       "Yo bitch Ja Rule is more succesful then you'll ...            0.0  \n",
       "== From RfC == \\n\\n The title is fine as it is,...            0.0  \n",
       "\" \\n\\n == Sources == \\n\\n * Zawe Ashton on Lapl...            0.0  \n",
       ":If you have a look back at the source, the inf...            0.0  \n",
       "I don't anonymously edit articles at all.                     0.0  \n",
       "...                                                           ...  \n",
       ". \\n i totally agree, this stuff is nothing but...            0.0  \n",
       "== Throw from out field to home plate. == \\n\\n ...            0.0  \n",
       "\" \\n\\n == Okinotorishima categories == \\n\\n I s...            0.0  \n",
       "\" \\n\\n == \"\"One of the founding nations of the ...            0.0  \n",
       "\" \\n :::Stop already. Your bullshit is not welc...            0.0  \n",
       "\n",
       "[153164 rows x 6 columns]"
      ]
     },
     "execution_count": 93,
     "metadata": {},
     "output_type": "execute_result"
    }
   ],
   "source": [
    "toxic"
   ]
  }
 ],
 "metadata": {
  "kernelspec": {
   "display_name": "Python 3",
   "language": "python",
   "name": "python3"
  },
  "language_info": {
   "codemirror_mode": {
    "name": "ipython",
    "version": 3
   },
   "file_extension": ".py",
   "mimetype": "text/x-python",
   "name": "python",
   "nbconvert_exporter": "python",
   "pygments_lexer": "ipython3",
   "version": "3.7.4"
  }
 },
 "nbformat": 4,
 "nbformat_minor": 2
}
