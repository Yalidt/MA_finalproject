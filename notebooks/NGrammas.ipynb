{
  "nbformat": 4,
  "nbformat_minor": 0,
  "metadata": {
    "colab": {
      "name": "NGrammas.ipynb",
      "provenance": [],
      "collapsed_sections": []
    },
    "kernelspec": {
      "name": "python3",
      "display_name": "Python 3"
    }
  },
  "cells": [
    {
      "cell_type": "code",
      "metadata": {
        "id": "tZnsHC7GtMs0",
        "colab_type": "code",
        "colab": {}
      },
      "source": [
        "#Importamos librerías\n",
        "import numpy as np\n",
        "import pandas as pd\n",
        "import io\n",
        "import requests\n",
        "from sklearn.feature_extraction.text import TfidfVectorizer  #Funcion a investigar\n",
        "from sklearn.feature_extraction.text import CountVectorizer\n",
        "from sklearn.linear_model import LogisticRegression   #Funcion de Regresión logistica\n",
        "from sklearn.model_selection import cross_val_score  #Función de cross validation\n",
        "from sklearn.pipeline import make_union  \n"
      ],
      "execution_count": 0,
      "outputs": []
    },
    {
      "cell_type": "code",
      "metadata": {
        "id": "vxzt6fuGsWz5",
        "colab_type": "code",
        "colab": {}
      },
      "source": [
        "#Definimos los url para cargar los datos\n",
        "url_train = \"https://github.com/czammar/MA_finalproject/blob/master/data/train.csv?raw=true\"\n",
        "url_test = \"https://raw.githubusercontent.com/czammar/MA_finalproject/master/data/test.csv?raw=true\"\n",
        "url_test_labels = \"https://github.com/czammar/MA_finalproject/blob/master/data/test_labels.csv?raw=true\""
      ],
      "execution_count": 0,
      "outputs": []
    },
    {
      "cell_type": "code",
      "metadata": {
        "id": "HI-ezipTsbwf",
        "colab_type": "code",
        "colab": {}
      },
      "source": [
        "# Leemos los los datos de train, test y labels del test desde nuestro repositorio usando requesto con io\n",
        "rtrain=requests.get(url_train).content\n",
        "rtest=requests.get(url_test).content\n",
        "rtest_labels=requests.get(url_test_labels).content"
      ],
      "execution_count": 0,
      "outputs": []
    },
    {
      "cell_type": "code",
      "metadata": {
        "id": "-Adr7gWavOx7",
        "colab_type": "code",
        "colab": {}
      },
      "source": [
        "#Define los clasificaciones de toxicidad\n",
        "class_names = ['toxic', 'severe_toxic', 'obscene', 'threat', 'insult', 'identity_hate']"
      ],
      "execution_count": 0,
      "outputs": []
    },
    {
      "cell_type": "code",
      "metadata": {
        "id": "2F3L7pqB_Hzn",
        "colab_type": "code",
        "outputId": "eb44b7bb-9ff7-462a-85d6-3f654ab03237",
        "colab": {
          "base_uri": "https://localhost:8080/",
          "height": 34
        }
      },
      "source": [
        "!ls"
      ],
      "execution_count": 0,
      "outputs": [
        {
          "output_type": "stream",
          "text": [
            "sample_data\n"
          ],
          "name": "stdout"
        }
      ]
    },
    {
      "cell_type": "code",
      "metadata": {
        "id": "94bSFvvgtFvl",
        "colab_type": "code",
        "colab": {}
      },
      "source": [
        "# Cargamos io hacia pandas\n",
        "train = pd.read_csv(io.StringIO(rtrain.decode('utf-8')))\n",
        "test = pd.read_csv(io.StringIO(rtest.decode('utf-8')))"
      ],
      "execution_count": 0,
      "outputs": []
    },
    {
      "cell_type": "code",
      "metadata": {
        "id": "5RhLf4qKtT9U",
        "colab_type": "code",
        "outputId": "db59e12e-bc4b-4171-82a3-6d7a375d948e",
        "colab": {
          "base_uri": "https://localhost:8080/",
          "height": 204
        }
      },
      "source": [
        "test.head(5)"
      ],
      "execution_count": 0,
      "outputs": [
        {
          "output_type": "execute_result",
          "data": {
            "text/html": [
              "<div>\n",
              "<style scoped>\n",
              "    .dataframe tbody tr th:only-of-type {\n",
              "        vertical-align: middle;\n",
              "    }\n",
              "\n",
              "    .dataframe tbody tr th {\n",
              "        vertical-align: top;\n",
              "    }\n",
              "\n",
              "    .dataframe thead th {\n",
              "        text-align: right;\n",
              "    }\n",
              "</style>\n",
              "<table border=\"1\" class=\"dataframe\">\n",
              "  <thead>\n",
              "    <tr style=\"text-align: right;\">\n",
              "      <th></th>\n",
              "      <th>id</th>\n",
              "      <th>comment_text</th>\n",
              "    </tr>\n",
              "  </thead>\n",
              "  <tbody>\n",
              "    <tr>\n",
              "      <th>0</th>\n",
              "      <td>00001cee341fdb12</td>\n",
              "      <td>Yo bitch Ja Rule is more succesful then you'll...</td>\n",
              "    </tr>\n",
              "    <tr>\n",
              "      <th>1</th>\n",
              "      <td>0000247867823ef7</td>\n",
              "      <td>== From RfC == \\n\\n The title is fine as it is...</td>\n",
              "    </tr>\n",
              "    <tr>\n",
              "      <th>2</th>\n",
              "      <td>00013b17ad220c46</td>\n",
              "      <td>\" \\n\\n == Sources == \\n\\n * Zawe Ashton on Lap...</td>\n",
              "    </tr>\n",
              "    <tr>\n",
              "      <th>3</th>\n",
              "      <td>00017563c3f7919a</td>\n",
              "      <td>:If you have a look back at the source, the in...</td>\n",
              "    </tr>\n",
              "    <tr>\n",
              "      <th>4</th>\n",
              "      <td>00017695ad8997eb</td>\n",
              "      <td>I don't anonymously edit articles at all.</td>\n",
              "    </tr>\n",
              "  </tbody>\n",
              "</table>\n",
              "</div>"
            ],
            "text/plain": [
              "                 id                                       comment_text\n",
              "0  00001cee341fdb12  Yo bitch Ja Rule is more succesful then you'll...\n",
              "1  0000247867823ef7  == From RfC == \\n\\n The title is fine as it is...\n",
              "2  00013b17ad220c46  \" \\n\\n == Sources == \\n\\n * Zawe Ashton on Lap...\n",
              "3  00017563c3f7919a  :If you have a look back at the source, the in...\n",
              "4  00017695ad8997eb          I don't anonymously edit articles at all."
            ]
          },
          "metadata": {
            "tags": []
          },
          "execution_count": 63
        }
      ]
    },
    {
      "cell_type": "code",
      "metadata": {
        "id": "k_nEHyjuDDp2",
        "colab_type": "code",
        "outputId": "ef52fa77-4937-45ff-ea28-2bd12899edc5",
        "colab": {
          "base_uri": "https://localhost:8080/",
          "height": 145
        }
      },
      "source": [
        "train.head(2)"
      ],
      "execution_count": 0,
      "outputs": [
        {
          "output_type": "execute_result",
          "data": {
            "text/html": [
              "<div>\n",
              "<style scoped>\n",
              "    .dataframe tbody tr th:only-of-type {\n",
              "        vertical-align: middle;\n",
              "    }\n",
              "\n",
              "    .dataframe tbody tr th {\n",
              "        vertical-align: top;\n",
              "    }\n",
              "\n",
              "    .dataframe thead th {\n",
              "        text-align: right;\n",
              "    }\n",
              "</style>\n",
              "<table border=\"1\" class=\"dataframe\">\n",
              "  <thead>\n",
              "    <tr style=\"text-align: right;\">\n",
              "      <th></th>\n",
              "      <th>id</th>\n",
              "      <th>comment_text</th>\n",
              "      <th>toxic</th>\n",
              "      <th>severe_toxic</th>\n",
              "      <th>obscene</th>\n",
              "      <th>threat</th>\n",
              "      <th>insult</th>\n",
              "      <th>identity_hate</th>\n",
              "    </tr>\n",
              "  </thead>\n",
              "  <tbody>\n",
              "    <tr>\n",
              "      <th>0</th>\n",
              "      <td>0000997932d777bf</td>\n",
              "      <td>Explanation\\nWhy the edits made under my usern...</td>\n",
              "      <td>0</td>\n",
              "      <td>0</td>\n",
              "      <td>0</td>\n",
              "      <td>0</td>\n",
              "      <td>0</td>\n",
              "      <td>0</td>\n",
              "    </tr>\n",
              "    <tr>\n",
              "      <th>1</th>\n",
              "      <td>000103f0d9cfb60f</td>\n",
              "      <td>D'aww! He matches this background colour I'm s...</td>\n",
              "      <td>0</td>\n",
              "      <td>0</td>\n",
              "      <td>0</td>\n",
              "      <td>0</td>\n",
              "      <td>0</td>\n",
              "      <td>0</td>\n",
              "    </tr>\n",
              "  </tbody>\n",
              "</table>\n",
              "</div>"
            ],
            "text/plain": [
              "                 id  ... identity_hate\n",
              "0  0000997932d777bf  ...             0\n",
              "1  000103f0d9cfb60f  ...             0\n",
              "\n",
              "[2 rows x 8 columns]"
            ]
          },
          "metadata": {
            "tags": []
          },
          "execution_count": 28
        }
      ]
    },
    {
      "cell_type": "code",
      "metadata": {
        "id": "yh-QTUdV0f8J",
        "colab_type": "code",
        "colab": {}
      },
      "source": [
        "#Se seleccionan las columnas de textos tanto de train como de test\n",
        "train_text = train['comment_text']\n",
        "test_text = test['comment_text']\n",
        "all_text = pd.concat([train_text, test_text])  #Aqui se concatenan"
      ],
      "execution_count": 0,
      "outputs": []
    },
    {
      "cell_type": "code",
      "metadata": {
        "id": "d7fkXKCv0gLn",
        "colab_type": "code",
        "outputId": "20922555-df1c-4b6e-cb30-1d2ac83fa50c",
        "colab": {
          "base_uri": "https://localhost:8080/",
          "height": 68
        }
      },
      "source": [
        "all_text.head(2)"
      ],
      "execution_count": 0,
      "outputs": [
        {
          "output_type": "execute_result",
          "data": {
            "text/plain": [
              "0    Explanation\\nWhy the edits made under my usern...\n",
              "1    D'aww! He matches this background colour I'm s...\n",
              "Name: comment_text, dtype: object"
            ]
          },
          "metadata": {
            "tags": []
          },
          "execution_count": 43
        }
      ]
    },
    {
      "cell_type": "markdown",
      "metadata": {
        "id": "DiVWxwn08GOu",
        "colab_type": "text"
      },
      "source": [
        "# Función TfidVectorizer de sklearn"
      ]
    },
    {
      "cell_type": "code",
      "metadata": {
        "id": "fMq3BjDAMnLM",
        "colab_type": "code",
        "colab": {}
      },
      "source": [
        "# Funcion TfidVectorizer por palabra\n",
        "word_vectorizer = TfidfVectorizer(\n",
        "    sublinear_tf=True,   \n",
        "    strip_accents='unicode', \n",
        "    analyzer='word',  \n",
        "    token_pattern=r'\\w{1,}',  \n",
        "    ngram_range=(1, 1),  \n",
        "    max_features=30000) \n",
        "# Funcion TfidVectorizer por caracter\n",
        "char_vectorizer = TfidfVectorizer(\n",
        "    sublinear_tf=True,\n",
        "    strip_accents='unicode',\n",
        "    analyzer='char',\n",
        "    ngram_range=(1, 4),\n",
        "    max_features=30000)"
      ],
      "execution_count": 0,
      "outputs": []
    },
    {
      "cell_type": "markdown",
      "metadata": {
        "id": "VZn0mnkqx5SV",
        "colab_type": "text"
      },
      "source": [
        "TfidfVectorizer es una función que converte una colección de documentos en bruto en una matriz de características TF-IDF.\n",
        "Recibe los siguientes argumentos: <br>\n",
        "1) sublinear_tf : Esta entrada es de tipo *Boolean* y aplica una escala del tf ( Donde Tf se refiere a la frecuencia del termino) 1+log(tf) <br>\n",
        "2) strip_accents puede recibir 3 parámetros : {‘ascii’, ‘unicode’, None}  es para remover acentos, la forma más rápida es con *ascii* <br>\n",
        "3) analyzer- Es de tipo *String* y puede recibir los siguientes argumentos : {‘word’, ‘char’, ‘char_wb’} Indica en que se debe aplicar la característica, pj a un caracter o a una palabra. <br>\n",
        "4) token_pattern - Denota que constituye el token, sólo utilizar si analyzer == 'word' <br>\n",
        "5) ngram_range - Indica el rango superior e inferior de los unigramas, pj (1,1) significa que son unigramas. <br>\n",
        "5) max_features - Puede ser *Int* o *None*, puede crear un vocabulario que solo considere las características máximas superiores ordenadas por frecuencia de término en todo el corpus.\n"
      ]
    },
    {
      "cell_type": "code",
      "metadata": {
        "id": "K8z5YsnM0gH8",
        "colab_type": "code",
        "colab": {}
      },
      "source": [
        "#Union de los transformadores especificados arriba\n",
        "vectorizer = make_union(word_vectorizer, char_vectorizer, n_jobs=2)"
      ],
      "execution_count": 0,
      "outputs": []
    },
    {
      "cell_type": "code",
      "metadata": {
        "id": "9qv9xfHp0gFk",
        "colab_type": "code",
        "colab": {}
      },
      "source": [
        "vectorizer.fit(all_text)  #Esta función se encarga de vectoriza el texto\n",
        "train_features = vectorizer.transform(train_text)\n",
        "test_features = vectorizer.transform(test_text)"
      ],
      "execution_count": 0,
      "outputs": []
    },
    {
      "cell_type": "code",
      "metadata": {
        "id": "d4PhMZ0Dh8rZ",
        "colab_type": "code",
        "outputId": "b7a2c878-c5c2-40cc-81d1-86dcfe0f4a97",
        "colab": {
          "base_uri": "https://localhost:8080/",
          "height": 419
        }
      },
      "source": [
        "first_vector_tfidfvectorizer=test_features[1]  #test\n",
        "df = pd.DataFrame(first_vector_tfidfvectorizer.T.todense(), columns=[\"tfidf\"])\n",
        "df.sort_values(by=[\"tfidf\"],ascending=False)"
      ],
      "execution_count": 0,
      "outputs": [
        {
          "output_type": "execute_result",
          "data": {
            "text/html": [
              "<div>\n",
              "<style scoped>\n",
              "    .dataframe tbody tr th:only-of-type {\n",
              "        vertical-align: middle;\n",
              "    }\n",
              "\n",
              "    .dataframe tbody tr th {\n",
              "        vertical-align: top;\n",
              "    }\n",
              "\n",
              "    .dataframe thead th {\n",
              "        text-align: right;\n",
              "    }\n",
              "</style>\n",
              "<table border=\"1\" class=\"dataframe\">\n",
              "  <thead>\n",
              "    <tr style=\"text-align: right;\">\n",
              "      <th></th>\n",
              "      <th>tfidf</th>\n",
              "    </tr>\n",
              "  </thead>\n",
              "  <tbody>\n",
              "    <tr>\n",
              "      <th>13115</th>\n",
              "      <td>0.541680</td>\n",
              "    </tr>\n",
              "    <tr>\n",
              "      <th>22087</th>\n",
              "      <td>0.483481</td>\n",
              "    </tr>\n",
              "    <tr>\n",
              "      <th>10311</th>\n",
              "      <td>0.414268</td>\n",
              "    </tr>\n",
              "    <tr>\n",
              "      <th>26182</th>\n",
              "      <td>0.376980</td>\n",
              "    </tr>\n",
              "    <tr>\n",
              "      <th>13957</th>\n",
              "      <td>0.228239</td>\n",
              "    </tr>\n",
              "    <tr>\n",
              "      <th>...</th>\n",
              "      <td>...</td>\n",
              "    </tr>\n",
              "    <tr>\n",
              "      <th>20007</th>\n",
              "      <td>0.000000</td>\n",
              "    </tr>\n",
              "    <tr>\n",
              "      <th>20008</th>\n",
              "      <td>0.000000</td>\n",
              "    </tr>\n",
              "    <tr>\n",
              "      <th>20009</th>\n",
              "      <td>0.000000</td>\n",
              "    </tr>\n",
              "    <tr>\n",
              "      <th>20010</th>\n",
              "      <td>0.000000</td>\n",
              "    </tr>\n",
              "    <tr>\n",
              "      <th>59999</th>\n",
              "      <td>0.000000</td>\n",
              "    </tr>\n",
              "  </tbody>\n",
              "</table>\n",
              "<p>60000 rows × 1 columns</p>\n",
              "</div>"
            ],
            "text/plain": [
              "          tfidf\n",
              "13115  0.541680\n",
              "22087  0.483481\n",
              "10311  0.414268\n",
              "26182  0.376980\n",
              "13957  0.228239\n",
              "...         ...\n",
              "20007  0.000000\n",
              "20008  0.000000\n",
              "20009  0.000000\n",
              "20010  0.000000\n",
              "59999  0.000000\n",
              "\n",
              "[60000 rows x 1 columns]"
            ]
          },
          "metadata": {
            "tags": []
          },
          "execution_count": 78
        }
      ]
    },
    {
      "cell_type": "markdown",
      "metadata": {
        "id": "OR3w3P2K01-n",
        "colab_type": "text"
      },
      "source": [
        "La función TfidfVectorizer calcula la importancia de cada palabra de acuerdo a su extrañesa en el texto, es decir si la palabra se repite mucho como por ejemplo : \"you\" tiene poca importancia porque aparece muchas veces en los textos, pero la palabra \" succesful\" tendrá un mayor score porque casi no es utilizada. Es un tipo de medición de *key words*."
      ]
    },
    {
      "cell_type": "code",
      "metadata": {
        "id": "P6FEvLhulPHY",
        "colab_type": "code",
        "outputId": "899455fe-983f-4330-9a33-2e06310c9284",
        "colab": {
          "base_uri": "https://localhost:8080/",
          "height": 419
        }
      },
      "source": [
        "#Ejemplo\n",
        "# settings that you use for count vectorizer will go here\n",
        "tfidf_vectorizer=TfidfVectorizer(use_idf=True)\n",
        "# just send in all your docs here\n",
        "tfidf_vectorizer_vectors=tfidf_vectorizer.fit_transform(test_text)\n",
        "first_vector_tfidfvectorizer=tfidf_vectorizer_vectors[1]\n",
        "# place tf-idf values in a pandas data frame\n",
        "df = pd.DataFrame(first_vector_tfidfvectorizer.T.todense(), index=tfidf_vectorizer.get_feature_names(), columns=[\"tfidf\"])\n",
        "df.sort_values(by=[\"tfidf\"],ascending=False)"
      ],
      "execution_count": 0,
      "outputs": [
        {
          "output_type": "execute_result",
          "data": {
            "text/html": [
              "<div>\n",
              "<style scoped>\n",
              "    .dataframe tbody tr th:only-of-type {\n",
              "        vertical-align: middle;\n",
              "    }\n",
              "\n",
              "    .dataframe tbody tr th {\n",
              "        vertical-align: top;\n",
              "    }\n",
              "\n",
              "    .dataframe thead th {\n",
              "        text-align: right;\n",
              "    }\n",
              "</style>\n",
              "<table border=\"1\" class=\"dataframe\">\n",
              "  <thead>\n",
              "    <tr style=\"text-align: right;\">\n",
              "      <th></th>\n",
              "      <th>tfidf</th>\n",
              "    </tr>\n",
              "  </thead>\n",
              "  <tbody>\n",
              "    <tr>\n",
              "      <th>imo</th>\n",
              "      <td>0.533813</td>\n",
              "    </tr>\n",
              "    <tr>\n",
              "      <th>rfc</th>\n",
              "      <td>0.475241</td>\n",
              "    </tr>\n",
              "    <tr>\n",
              "      <th>fine</th>\n",
              "      <td>0.409552</td>\n",
              "    </tr>\n",
              "    <tr>\n",
              "      <th>title</th>\n",
              "      <td>0.372927</td>\n",
              "    </tr>\n",
              "    <tr>\n",
              "      <th>is</th>\n",
              "      <td>0.269062</td>\n",
              "    </tr>\n",
              "    <tr>\n",
              "      <th>...</th>\n",
              "      <td>...</td>\n",
              "    </tr>\n",
              "    <tr>\n",
              "      <th>gnats</th>\n",
              "      <td>0.000000</td>\n",
              "    </tr>\n",
              "    <tr>\n",
              "      <th>gnatures</th>\n",
              "      <td>0.000000</td>\n",
              "    </tr>\n",
              "    <tr>\n",
              "      <th>gnauk</th>\n",
              "      <td>0.000000</td>\n",
              "    </tr>\n",
              "    <tr>\n",
              "      <th>gnawed</th>\n",
              "      <td>0.000000</td>\n",
              "    </tr>\n",
              "    <tr>\n",
              "      <th>𨳒你老母个閪</th>\n",
              "      <td>0.000000</td>\n",
              "    </tr>\n",
              "  </tbody>\n",
              "</table>\n",
              "<p>246855 rows × 1 columns</p>\n",
              "</div>"
            ],
            "text/plain": [
              "             tfidf\n",
              "imo       0.533813\n",
              "rfc       0.475241\n",
              "fine      0.409552\n",
              "title     0.372927\n",
              "is        0.269062\n",
              "...            ...\n",
              "gnats     0.000000\n",
              "gnatures  0.000000\n",
              "gnauk     0.000000\n",
              "gnawed    0.000000\n",
              "𨳒你老母个閪    0.000000\n",
              "\n",
              "[246855 rows x 1 columns]"
            ]
          },
          "metadata": {
            "tags": []
          },
          "execution_count": 82
        }
      ]
    },
    {
      "cell_type": "markdown",
      "metadata": {
        "id": "PizD7lLg7A5x",
        "colab_type": "text"
      },
      "source": [
        "Los resultados no son identicos porque se le introdujeron más parámetros a las funciones, pero la idea general es la misma, buscar al importancia de las palabras que son poco frencuentes, considerando la frecuencia del término y la frecuencia inversa del documento."
      ]
    },
    {
      "cell_type": "markdown",
      "metadata": {
        "id": "HvL81n3y7864",
        "colab_type": "text"
      },
      "source": [
        "# Aplicación Regresión Logística"
      ]
    },
    {
      "cell_type": "code",
      "metadata": {
        "id": "DusTaci2olOx",
        "colab_type": "code",
        "outputId": "255ff501-f894-4579-e871-f4f99ae4d908",
        "colab": {
          "base_uri": "https://localhost:8080/",
          "height": 136
        }
      },
      "source": [
        "scores = []  \n",
        "submission = pd.DataFrame.from_dict({'id': test['id']}) \n",
        "for class_name in class_names:\n",
        "    train_target = train[class_name]\n",
        "    classifier = LogisticRegression(solver='sag')\n",
        "\n",
        "    cv_score = np.mean(cross_val_score(\n",
        "        classifier, train_features, train_target, cv=3, scoring='roc_auc'))\n",
        "    scores.append(cv_score)\n",
        "    print('CV score for class {} is {}'.format(class_name, cv_score))\n",
        "\n",
        "    classifier.fit(train_features, train_target)\n",
        "    submission[class_name] = classifier.predict_proba(test_features)[:, 1]\n",
        "\n",
        "print('Total CV score is {}'.format(np.mean(scores)))"
      ],
      "execution_count": 0,
      "outputs": [
        {
          "output_type": "stream",
          "text": [
            "CV score for class toxic is 0.9787977659958528\n",
            "CV score for class severe_toxic is 0.98877656229063\n",
            "CV score for class obscene is 0.9903280439557607\n",
            "CV score for class threat is 0.9887839859212525\n",
            "CV score for class insult is 0.9828850848233746\n",
            "CV score for class identity_hate is 0.9831386353878381\n",
            "Total CV score is 0.9854516797291181\n"
          ],
          "name": "stdout"
        }
      ]
    },
    {
      "cell_type": "markdown",
      "metadata": {
        "id": "n7lstiG8-VNG",
        "colab_type": "text"
      },
      "source": [
        "1) Indica el data frame para ingresar los datos de validación y se aplica un ciclo for para cada una de las clasificaicones de toxicidad que se tienen.<br>\n",
        "2) Se aplica el modelo de *Rregresión logística* sobre la variable target *clasifiacion*. El método solver con el que esta aplicando regresión logística es 'sag'(Stochastic Average Gradient descent) que funciona bien para grandes conjuntos de datos.\n",
        "3) Se evalua el score con cross_validation con el scoring de la *ROC*. <br>\n",
        "4) Imprime para cada clasifiación de toxicidad su score de acuerdo al modelo implementado.<br>\n",
        "5) Calcula la probabilidad en la que cada comentario incurriria dividido por clases de toxicidad, estos resultados se guarda en el archivo submission.csv \n"
      ]
    },
    {
      "cell_type": "code",
      "metadata": {
        "id": "iyT5OCiXqha7",
        "colab_type": "code",
        "colab": {}
      },
      "source": [
        "#submission.to_csv('submission.csv', index=False)"
      ],
      "execution_count": 0,
      "outputs": []
    },
    {
      "cell_type": "markdown",
      "metadata": {
        "id": "1x099wYHEA3Y",
        "colab_type": "text"
      },
      "source": [
        "Referencias <br>\n",
        "* https://kavita-ganesan.com/tfidftransformer-tfidfvectorizer-usage-differences/#.Xqz2zFMzboz <br>\n",
        "* https://scikit-learn.org/stable/modules/generated/sklearn.feature_extraction.text.TfidfVectorizer.html <br>\n",
        "* https://www.kaggle.com/thousandvoices/logistic-regression-with-words-and-char-n-grams/code <br>"
      ]
    }
  ]
}