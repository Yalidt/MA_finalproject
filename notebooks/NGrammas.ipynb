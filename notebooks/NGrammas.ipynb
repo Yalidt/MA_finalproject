{
  "nbformat": 4,
  "nbformat_minor": 0,
  "metadata": {
    "colab": {
      "name": "NGrammas.ipynb",
      "provenance": [],
      "collapsed_sections": []
    },
    "kernelspec": {
      "display_name": "Python 3",
      "language": "python",
      "name": "python3"
    },
    "language_info": {
      "codemirror_mode": {
        "name": "ipython",
        "version": 3
      },
      "file_extension": ".py",
      "mimetype": "text/x-python",
      "name": "python",
      "nbconvert_exporter": "python",
      "pygments_lexer": "ipython3",
      "version": "3.7.3"
    },
    "accelerator": "GPU"
  },
  "cells": [
    {
      "cell_type": "markdown",
      "metadata": {
        "id": "6Ifrf-595tSv",
        "colab_type": "text"
      },
      "source": [
        "### Modelo de N-Grammas con Regresión Lógistica para Predicción de comentarios tóxicos"
      ]
    },
    {
      "cell_type": "code",
      "metadata": {
        "colab_type": "code",
        "id": "tZnsHC7GtMs0",
        "colab": {}
      },
      "source": [
        "#Importamos librerías\n",
        "import numpy as np\n",
        "import pandas as pd\n",
        "import io\n",
        "import requests\n",
        "from sklearn.feature_extraction.text import TfidfVectorizer  #Funcion a investigar\n",
        "from sklearn.feature_extraction.text import CountVectorizer\n",
        "from sklearn.linear_model import LogisticRegression   #Funcion de Regresión logistica\n",
        "from sklearn.model_selection import cross_val_score  #Función de cross validation\n",
        "from sklearn.pipeline import make_union  "
      ],
      "execution_count": 0,
      "outputs": []
    },
    {
      "cell_type": "code",
      "metadata": {
        "colab_type": "code",
        "id": "vxzt6fuGsWz5",
        "colab": {}
      },
      "source": [
        "#Definimos los url para cargar los datos\n",
        "url_train = \"https://github.com/czammar/MA_finalproject/blob/master/data/train.csv?raw=true\"\n",
        "url_test = \"https://raw.githubusercontent.com/czammar/MA_finalproject/master/data/test.csv?raw=true\"\n",
        "url_test_labels = \"https://github.com/czammar/MA_finalproject/blob/master/data/test_labels.csv?raw=true\""
      ],
      "execution_count": 0,
      "outputs": []
    },
    {
      "cell_type": "code",
      "metadata": {
        "colab_type": "code",
        "id": "HI-ezipTsbwf",
        "colab": {}
      },
      "source": [
        "# Leemos los los datos de train, test y labels del test desde nuestro repositorio usando requesto con io\n",
        "rtrain=requests.get(url_train).content\n",
        "rtest=requests.get(url_test).content\n",
        "rtest_labels=requests.get(url_test_labels).content"
      ],
      "execution_count": 0,
      "outputs": []
    },
    {
      "cell_type": "code",
      "metadata": {
        "colab_type": "code",
        "id": "-Adr7gWavOx7",
        "colab": {}
      },
      "source": [
        "#Define los clasificaciones de toxicidad\n",
        "class_names = ['toxic', 'severe_toxic', 'obscene', 'threat', 'insult', 'identity_hate']"
      ],
      "execution_count": 0,
      "outputs": []
    },
    {
      "cell_type": "code",
      "metadata": {
        "colab_type": "code",
        "id": "94bSFvvgtFvl",
        "colab": {}
      },
      "source": [
        "# Cargamos io hacia pandas\n",
        "train = pd.read_csv(io.StringIO(rtrain.decode('utf-8')))\n",
        "test = pd.read_csv(io.StringIO(rtest.decode('utf-8')))"
      ],
      "execution_count": 0,
      "outputs": []
    },
    {
      "cell_type": "code",
      "metadata": {
        "id": "HFlUsE9u5tTO",
        "colab_type": "code",
        "colab": {
          "base_uri": "https://localhost:8080/",
          "height": 51
        },
        "outputId": "9866a0a2-4fe5-4466-b523-c91a64c8928d"
      },
      "source": [
        "#Dividir train en train y test  20% train y 80% test\n",
        "import random\n",
        "random.seed(10)\n",
        "\n",
        "from sklearn.model_selection import train_test_split\n",
        "X_train, X_test, y_train, y_test = train_test_split(train['comment_text'], \n",
        "                                                  train[class_names], test_size=0.2, random_state=2019)\n",
        "\n",
        "print('Data points in train data after splitting:', len(X_train))\n",
        "print('Data points in valiadtion data:', len(X_test))"
      ],
      "execution_count": 6,
      "outputs": [
        {
          "output_type": "stream",
          "text": [
            "Data points in train data after splitting: 127656\n",
            "Data points in valiadtion data: 31915\n"
          ],
          "name": "stdout"
        }
      ]
    },
    {
      "cell_type": "code",
      "metadata": {
        "colab_type": "code",
        "id": "5RhLf4qKtT9U",
        "outputId": "cf68e9f3-d317-4fc6-861f-8295f6426d35",
        "colab": {
          "base_uri": "https://localhost:8080/",
          "height": 221
        }
      },
      "source": [
        "X_test"
      ],
      "execution_count": 7,
      "outputs": [
        {
          "output_type": "execute_result",
          "data": {
            "text/plain": [
              "104543    That is about it for for now. Primarily, I wor...\n",
              "119983    \"\\n I wasn't aware that peer-reviewed studies ...\n",
              "154937    \"\\nIt's fine to edit for personal gain so long...\n",
              "94831     I did not add these words to the PLANS website...\n",
              "141987    \"\\n\\n List of recent changes \\n\\nRequested by ...\n",
              "                                ...                        \n",
              "37242     \"\\nA tag has been placed on Chris Teague, requ...\n",
              "84131     \"\\nYup its reasonable. I'll be working on it i...\n",
              "12690     \"\\n\\n==\\n\\nHelping me to make my first wikiped...\n",
              "134464    Causation of Gulf War Illness\\n\\nMercury Poiso...\n",
              "119400    \" (UTC)\\nIMO, desktop environments like GNOME ...\n",
              "Name: comment_text, Length: 31915, dtype: object"
            ]
          },
          "metadata": {
            "tags": []
          },
          "execution_count": 7
        }
      ]
    },
    {
      "cell_type": "code",
      "metadata": {
        "colab_type": "code",
        "id": "k_nEHyjuDDp2",
        "colab": {}
      },
      "source": [
        "#Se seleccionan las columnas de textos tanto de train como de test\n",
        "train_text = X_train#train['comment_text']\n",
        "test_text = X_test#test['comment_text']\n",
        "all_text = pd.concat([train_text, test_text])  #Aqui se concatenan"
      ],
      "execution_count": 0,
      "outputs": []
    },
    {
      "cell_type": "markdown",
      "metadata": {
        "colab_type": "text",
        "id": "DiVWxwn08GOu"
      },
      "source": [
        "### Función TfidVectorizer de sklearn"
      ]
    },
    {
      "cell_type": "code",
      "metadata": {
        "colab_type": "code",
        "id": "fMq3BjDAMnLM",
        "colab": {}
      },
      "source": [
        "# Funcion TfidVectorizer por palabra\n",
        "word_vectorizer = TfidfVectorizer(\n",
        "    sublinear_tf=True,   \n",
        "    strip_accents='unicode', \n",
        "    analyzer='word',  \n",
        "    token_pattern=r'\\w{1,}',  \n",
        "    ngram_range=(1, 1),  \n",
        "    max_features=30000) \n",
        "# Funcion TfidVectorizer por caracter\n",
        "char_vectorizer = TfidfVectorizer(\n",
        "    sublinear_tf=True,\n",
        "    strip_accents='unicode',\n",
        "    analyzer='char',\n",
        "    ngram_range=(1, 4),\n",
        "    max_features=30000)"
      ],
      "execution_count": 0,
      "outputs": []
    },
    {
      "cell_type": "markdown",
      "metadata": {
        "colab_type": "text",
        "id": "VZn0mnkqx5SV"
      },
      "source": [
        "TfidfVectorizer es una función que converte una colección de documentos en bruto en una matriz de características TF-IDF.\n",
        "Recibe los siguientes argumentos: <br>\n",
        "1) sublinear_tf : Esta entrada es de tipo *Boolean* y aplica una escala del tf ( Donde Tf se refiere a la frecuencia del termino) 1+log(tf) <br>\n",
        "2) strip_accents puede recibir 3 parámetros : {‘ascii’, ‘unicode’, None}  es para remover acentos, la forma más rápida es con *ascii* <br>\n",
        "3) analyzer- Es de tipo *String* y puede recibir los siguientes argumentos : {‘word’, ‘char’, ‘char_wb’} Indica en que se debe aplicar la característica, pj a un caracter o a una palabra. <br>\n",
        "4) token_pattern - Denota que constituye el token, sólo utilizar si analyzer == 'word' <br>\n",
        "5) ngram_range - Indica el rango superior e inferior de los unigramas, pj (1,1) significa que son unigramas. <br>\n",
        "5) max_features - Puede ser *Int* o *None*, puede crear un vocabulario que solo considere las características máximas superiores ordenadas por frecuencia de término en todo el corpus.\n"
      ]
    },
    {
      "cell_type": "markdown",
      "metadata": {
        "id": "y_yrnysU5tTn",
        "colab_type": "text"
      },
      "source": [
        "### Modelo solo aplicando ngramas por palabra"
      ]
    },
    {
      "cell_type": "code",
      "metadata": {
        "id": "gfUSsLZS5tTo",
        "colab_type": "code",
        "colab": {
          "base_uri": "https://localhost:8080/",
          "height": 136
        },
        "outputId": "87d7027d-38a4-4323-b1ea-ffe7eadc7283"
      },
      "source": [
        "word_vectorizer.fit(all_text)\n",
        "train_features =word_vectorizer.transform(train_text)\n",
        "test_features = word_vectorizer.transform(test_text)\n",
        "\n",
        "scores = []  \n",
        "submission = pd.DataFrame.from_dict({'id': X_test.index}) \n",
        "for class_name in class_names:\n",
        "    train_target = y_train[class_name]\n",
        "    classifier = LogisticRegression(solver='sag')\n",
        "\n",
        "    cv_score = np.mean(cross_val_score(\n",
        "        classifier, train_features, train_target, cv=3, scoring='roc_auc'))\n",
        "    scores.append(cv_score)\n",
        "    print('CV score for class {} is {}'.format(class_name, cv_score))\n",
        "\n",
        "    classifier.fit(train_features, train_target)\n",
        "    submission[class_name] = classifier.predict_proba(test_features)[:, 1].round()\n",
        "\n",
        "print('Total CV score is {}'.format(np.mean(scores)))"
      ],
      "execution_count": 10,
      "outputs": [
        {
          "output_type": "stream",
          "text": [
            "CV score for class toxic is 0.9705875315802506\n",
            "CV score for class severe_toxic is 0.9849670259174657\n",
            "CV score for class obscene is 0.9851950765589739\n",
            "CV score for class threat is 0.9850806736752782\n",
            "CV score for class insult is 0.97794407095273\n",
            "CV score for class identity_hate is 0.974930044516908\n",
            "Total CV score is 0.9797840705336011\n"
          ],
          "name": "stdout"
        }
      ]
    },
    {
      "cell_type": "markdown",
      "metadata": {
        "id": "qqeF-9ir5tTu",
        "colab_type": "text"
      },
      "source": [
        "### Modelo solo aplicando ngramas por caracter"
      ]
    },
    {
      "cell_type": "code",
      "metadata": {
        "id": "JQFG7Ymh5tTu",
        "colab_type": "code",
        "colab": {
          "base_uri": "https://localhost:8080/",
          "height": 136
        },
        "outputId": "169e4e62-d307-4230-bf34-c6601e0b5311"
      },
      "source": [
        "char_vectorizer.fit(all_text)\n",
        "train_features =char_vectorizer.transform(train_text)\n",
        "test_features = char_vectorizer.transform(test_text)\n",
        "\n",
        "scores = []  \n",
        "submission = pd.DataFrame.from_dict({'id': X_test.index}) \n",
        "for class_name in class_names:\n",
        "    train_target = y_train[class_name]\n",
        "    classifier = LogisticRegression(solver='sag')\n",
        "\n",
        "    cv_score = np.mean(cross_val_score(\n",
        "        classifier, train_features, train_target, cv=3, scoring='roc_auc'))\n",
        "    scores.append(cv_score)\n",
        "    print('CV score for class {} is {}'.format(class_name, cv_score))\n",
        "\n",
        "    classifier.fit(train_features, train_target)\n",
        "    submission[class_name] = classifier.predict_proba(test_features)[:, 1].round()\n",
        "\n",
        "print('Total CV score is {}'.format(np.mean(scores)))"
      ],
      "execution_count": 11,
      "outputs": [
        {
          "output_type": "stream",
          "text": [
            "CV score for class toxic is 0.9728675387717919\n",
            "CV score for class severe_toxic is 0.9880441656188786\n",
            "CV score for class obscene is 0.9865594990671994\n",
            "CV score for class threat is 0.9835146686329278\n",
            "CV score for class insult is 0.9799363943630676\n",
            "CV score for class identity_hate is 0.9805961581948205\n",
            "Total CV score is 0.9819197374414476\n"
          ],
          "name": "stdout"
        }
      ]
    },
    {
      "cell_type": "markdown",
      "metadata": {
        "id": "woJETog35tTy",
        "colab_type": "text"
      },
      "source": [
        "### Modelo con ambos métodos ngramas por palabra y por caracter"
      ]
    },
    {
      "cell_type": "code",
      "metadata": {
        "colab_type": "code",
        "id": "K8z5YsnM0gH8",
        "colab": {}
      },
      "source": [
        "#Union de los transformadores especificados arriba\n",
        "vectorizer = make_union(word_vectorizer, char_vectorizer, n_jobs=2)"
      ],
      "execution_count": 0,
      "outputs": []
    },
    {
      "cell_type": "code",
      "metadata": {
        "colab_type": "code",
        "id": "9qv9xfHp0gFk",
        "colab": {}
      },
      "source": [
        "vectorizer.fit(all_text)  #Esta función se encarga de vectoriza el texto\n",
        "train_features = vectorizer.transform(train_text)\n",
        "test_features = vectorizer.transform(test_text)"
      ],
      "execution_count": 0,
      "outputs": []
    },
    {
      "cell_type": "code",
      "metadata": {
        "colab_type": "code",
        "id": "d4PhMZ0Dh8rZ",
        "outputId": "b7a2c878-c5c2-40cc-81d1-86dcfe0f4a97",
        "colab": {
          "base_uri": "https://localhost:8080/",
          "height": 419
        }
      },
      "source": [
        "first_vector_tfidfvectorizer=test_features[1]  #test\n",
        "df = pd.DataFrame(first_vector_tfidfvectorizer.T.todense(), columns=[\"tfidf\"])\n",
        "df.sort_values(by=[\"tfidf\"],ascending=False)"
      ],
      "execution_count": 0,
      "outputs": [
        {
          "output_type": "execute_result",
          "data": {
            "text/html": [
              "<div>\n",
              "<style scoped>\n",
              "    .dataframe tbody tr th:only-of-type {\n",
              "        vertical-align: middle;\n",
              "    }\n",
              "\n",
              "    .dataframe tbody tr th {\n",
              "        vertical-align: top;\n",
              "    }\n",
              "\n",
              "    .dataframe thead th {\n",
              "        text-align: right;\n",
              "    }\n",
              "</style>\n",
              "<table border=\"1\" class=\"dataframe\">\n",
              "  <thead>\n",
              "    <tr style=\"text-align: right;\">\n",
              "      <th></th>\n",
              "      <th>tfidf</th>\n",
              "    </tr>\n",
              "  </thead>\n",
              "  <tbody>\n",
              "    <tr>\n",
              "      <td>17081</td>\n",
              "      <td>0.343210</td>\n",
              "    </tr>\n",
              "    <tr>\n",
              "      <td>10711</td>\n",
              "      <td>0.285892</td>\n",
              "    </tr>\n",
              "    <tr>\n",
              "      <td>23462</td>\n",
              "      <td>0.279006</td>\n",
              "    </tr>\n",
              "    <tr>\n",
              "      <td>17253</td>\n",
              "      <td>0.277783</td>\n",
              "    </tr>\n",
              "    <tr>\n",
              "      <td>6316</td>\n",
              "      <td>0.251740</td>\n",
              "    </tr>\n",
              "    <tr>\n",
              "      <td>...</td>\n",
              "      <td>...</td>\n",
              "    </tr>\n",
              "    <tr>\n",
              "      <td>20011</td>\n",
              "      <td>0.000000</td>\n",
              "    </tr>\n",
              "    <tr>\n",
              "      <td>20012</td>\n",
              "      <td>0.000000</td>\n",
              "    </tr>\n",
              "    <tr>\n",
              "      <td>20013</td>\n",
              "      <td>0.000000</td>\n",
              "    </tr>\n",
              "    <tr>\n",
              "      <td>20014</td>\n",
              "      <td>0.000000</td>\n",
              "    </tr>\n",
              "    <tr>\n",
              "      <td>59999</td>\n",
              "      <td>0.000000</td>\n",
              "    </tr>\n",
              "  </tbody>\n",
              "</table>\n",
              "<p>60000 rows × 1 columns</p>\n",
              "</div>"
            ],
            "text/plain": [
              "          tfidf\n",
              "17081  0.343210\n",
              "10711  0.285892\n",
              "23462  0.279006\n",
              "17253  0.277783\n",
              "6316   0.251740\n",
              "...         ...\n",
              "20011  0.000000\n",
              "20012  0.000000\n",
              "20013  0.000000\n",
              "20014  0.000000\n",
              "59999  0.000000\n",
              "\n",
              "[60000 rows x 1 columns]"
            ]
          },
          "metadata": {
            "tags": []
          },
          "execution_count": 128
        }
      ]
    },
    {
      "cell_type": "markdown",
      "metadata": {
        "colab_type": "text",
        "id": "OR3w3P2K01-n"
      },
      "source": [
        "La función TfidfVectorizer calcula la importancia de cada palabra de acuerdo a su extrañesa en el texto, es decir si la palabra se repite mucho como por ejemplo : \"you\" tiene poca importancia porque aparece muchas veces en los textos, pero la palabra \" succesful\" tendrá un mayor score porque casi no es utilizada. Es un tipo de medición de *key words*."
      ]
    },
    {
      "cell_type": "code",
      "metadata": {
        "colab_type": "code",
        "id": "P6FEvLhulPHY",
        "outputId": "899455fe-983f-4330-9a33-2e06310c9284",
        "colab": {
          "base_uri": "https://localhost:8080/",
          "height": 419
        }
      },
      "source": [
        "#Ejemplo\n",
        "# settings that you use for count vectorizer will go here\n",
        "tfidf_vectorizer=TfidfVectorizer(use_idf=True)\n",
        "# just send in all your docs here\n",
        "tfidf_vectorizer_vectors=tfidf_vectorizer.fit_transform(test_text)\n",
        "first_vector_tfidfvectorizer=tfidf_vectorizer_vectors[1]\n",
        "# place tf-idf values in a pandas data frame\n",
        "df = pd.DataFrame(first_vector_tfidfvectorizer.T.todense(), index=tfidf_vectorizer.get_feature_names(), columns=[\"tfidf\"])\n",
        "df.sort_values(by=[\"tfidf\"],ascending=False)"
      ],
      "execution_count": 0,
      "outputs": [
        {
          "output_type": "execute_result",
          "data": {
            "text/html": [
              "<div>\n",
              "<style scoped>\n",
              "    .dataframe tbody tr th:only-of-type {\n",
              "        vertical-align: middle;\n",
              "    }\n",
              "\n",
              "    .dataframe tbody tr th {\n",
              "        vertical-align: top;\n",
              "    }\n",
              "\n",
              "    .dataframe thead th {\n",
              "        text-align: right;\n",
              "    }\n",
              "</style>\n",
              "<table border=\"1\" class=\"dataframe\">\n",
              "  <thead>\n",
              "    <tr style=\"text-align: right;\">\n",
              "      <th></th>\n",
              "      <th>tfidf</th>\n",
              "    </tr>\n",
              "  </thead>\n",
              "  <tbody>\n",
              "    <tr>\n",
              "      <td>restrains</td>\n",
              "      <td>0.342590</td>\n",
              "    </tr>\n",
              "    <tr>\n",
              "      <td>methodological</td>\n",
              "      <td>0.307341</td>\n",
              "    </tr>\n",
              "    <tr>\n",
              "      <td>flaws</td>\n",
              "      <td>0.268712</td>\n",
              "    </tr>\n",
              "    <tr>\n",
              "      <td>sarcastic</td>\n",
              "      <td>0.267147</td>\n",
              "    </tr>\n",
              "    <tr>\n",
              "      <td>minimal</td>\n",
              "      <td>0.264228</td>\n",
              "    </tr>\n",
              "    <tr>\n",
              "      <td>...</td>\n",
              "      <td>...</td>\n",
              "    </tr>\n",
              "    <tr>\n",
              "      <td>exposit</td>\n",
              "      <td>0.000000</td>\n",
              "    </tr>\n",
              "    <tr>\n",
              "      <td>exposition</td>\n",
              "      <td>0.000000</td>\n",
              "    </tr>\n",
              "    <tr>\n",
              "      <td>expossition</td>\n",
              "      <td>0.000000</td>\n",
              "    </tr>\n",
              "    <tr>\n",
              "      <td>exposts</td>\n",
              "      <td>0.000000</td>\n",
              "    </tr>\n",
              "    <tr>\n",
              "      <td>잡아야</td>\n",
              "      <td>0.000000</td>\n",
              "    </tr>\n",
              "  </tbody>\n",
              "</table>\n",
              "<p>71711 rows × 1 columns</p>\n",
              "</div>"
            ],
            "text/plain": [
              "                   tfidf\n",
              "restrains       0.342590\n",
              "methodological  0.307341\n",
              "flaws           0.268712\n",
              "sarcastic       0.267147\n",
              "minimal         0.264228\n",
              "...                  ...\n",
              "exposit         0.000000\n",
              "exposition      0.000000\n",
              "expossition     0.000000\n",
              "exposts         0.000000\n",
              "잡아야             0.000000\n",
              "\n",
              "[71711 rows x 1 columns]"
            ]
          },
          "metadata": {
            "tags": []
          },
          "execution_count": 129
        }
      ]
    },
    {
      "cell_type": "markdown",
      "metadata": {
        "colab_type": "text",
        "id": "PizD7lLg7A5x"
      },
      "source": [
        "Los resultados no son identicos porque se le introdujeron más parámetros a las funciones, pero la idea general es la misma, buscar al importancia de las palabras que son poco frencuentes, considerando la frecuencia del término y la frecuencia inversa del documento."
      ]
    },
    {
      "cell_type": "markdown",
      "metadata": {
        "colab_type": "text",
        "id": "HvL81n3y7864"
      },
      "source": [
        "# Aplicación Regresión Logística"
      ]
    },
    {
      "cell_type": "code",
      "metadata": {
        "colab_type": "code",
        "id": "DusTaci2olOx",
        "outputId": "0d2015d1-c657-4dd2-f1cd-f7869d678278",
        "colab": {
          "base_uri": "https://localhost:8080/",
          "height": 136
        }
      },
      "source": [
        "scores = []  \n",
        "submission = pd.DataFrame.from_dict({'id': X_test.index}) \n",
        "for class_name in class_names:\n",
        "    train_target = y_train[class_name]\n",
        "    classifier = LogisticRegression(solver='sag')\n",
        "\n",
        "    cv_score = np.mean(cross_val_score(\n",
        "        classifier, train_features, train_target, cv=3, scoring='roc_auc'))\n",
        "    scores.append(cv_score)\n",
        "    print('CV score for class {} is {}'.format(class_name, cv_score))\n",
        "\n",
        "    classifier.fit(train_features, train_target)\n",
        "    submission[class_name] = classifier.predict_proba(test_features)[:, 1].round()\n",
        "\n",
        "print('Total CV score is {}'.format(np.mean(scores)))"
      ],
      "execution_count": 14,
      "outputs": [
        {
          "output_type": "stream",
          "text": [
            "CV score for class toxic is 0.9780918027985606\n",
            "CV score for class severe_toxic is 0.988556841359216\n",
            "CV score for class obscene is 0.9903298440729836\n",
            "CV score for class threat is 0.9885319127046798\n",
            "CV score for class insult is 0.9825439805904619\n",
            "CV score for class identity_hate is 0.9825166625327832\n",
            "Total CV score is 0.9850951740097807\n"
          ],
          "name": "stdout"
        }
      ]
    },
    {
      "cell_type": "code",
      "metadata": {
        "id": "Ql3SFxFH5tUO",
        "colab_type": "code",
        "colab": {
          "base_uri": "https://localhost:8080/",
          "height": 419
        },
        "outputId": "d71ffc8b-f8c1-43dc-cb5c-4d3f5eb67116"
      },
      "source": [
        "submission[submission[\"toxic\"]== 1]"
      ],
      "execution_count": 15,
      "outputs": [
        {
          "output_type": "execute_result",
          "data": {
            "text/html": [
              "<div>\n",
              "<style scoped>\n",
              "    .dataframe tbody tr th:only-of-type {\n",
              "        vertical-align: middle;\n",
              "    }\n",
              "\n",
              "    .dataframe tbody tr th {\n",
              "        vertical-align: top;\n",
              "    }\n",
              "\n",
              "    .dataframe thead th {\n",
              "        text-align: right;\n",
              "    }\n",
              "</style>\n",
              "<table border=\"1\" class=\"dataframe\">\n",
              "  <thead>\n",
              "    <tr style=\"text-align: right;\">\n",
              "      <th></th>\n",
              "      <th>id</th>\n",
              "      <th>toxic</th>\n",
              "      <th>severe_toxic</th>\n",
              "      <th>obscene</th>\n",
              "      <th>threat</th>\n",
              "      <th>insult</th>\n",
              "      <th>identity_hate</th>\n",
              "    </tr>\n",
              "  </thead>\n",
              "  <tbody>\n",
              "    <tr>\n",
              "      <th>12</th>\n",
              "      <td>14740</td>\n",
              "      <td>1.0</td>\n",
              "      <td>0.0</td>\n",
              "      <td>1.0</td>\n",
              "      <td>0.0</td>\n",
              "      <td>1.0</td>\n",
              "      <td>0.0</td>\n",
              "    </tr>\n",
              "    <tr>\n",
              "      <th>19</th>\n",
              "      <td>141841</td>\n",
              "      <td>1.0</td>\n",
              "      <td>0.0</td>\n",
              "      <td>0.0</td>\n",
              "      <td>0.0</td>\n",
              "      <td>0.0</td>\n",
              "      <td>0.0</td>\n",
              "    </tr>\n",
              "    <tr>\n",
              "      <th>24</th>\n",
              "      <td>71181</td>\n",
              "      <td>1.0</td>\n",
              "      <td>0.0</td>\n",
              "      <td>1.0</td>\n",
              "      <td>0.0</td>\n",
              "      <td>1.0</td>\n",
              "      <td>0.0</td>\n",
              "    </tr>\n",
              "    <tr>\n",
              "      <th>30</th>\n",
              "      <td>7225</td>\n",
              "      <td>1.0</td>\n",
              "      <td>0.0</td>\n",
              "      <td>0.0</td>\n",
              "      <td>0.0</td>\n",
              "      <td>0.0</td>\n",
              "      <td>0.0</td>\n",
              "    </tr>\n",
              "    <tr>\n",
              "      <th>35</th>\n",
              "      <td>77388</td>\n",
              "      <td>1.0</td>\n",
              "      <td>0.0</td>\n",
              "      <td>0.0</td>\n",
              "      <td>0.0</td>\n",
              "      <td>0.0</td>\n",
              "      <td>0.0</td>\n",
              "    </tr>\n",
              "    <tr>\n",
              "      <th>...</th>\n",
              "      <td>...</td>\n",
              "      <td>...</td>\n",
              "      <td>...</td>\n",
              "      <td>...</td>\n",
              "      <td>...</td>\n",
              "      <td>...</td>\n",
              "      <td>...</td>\n",
              "    </tr>\n",
              "    <tr>\n",
              "      <th>31834</th>\n",
              "      <td>48450</td>\n",
              "      <td>1.0</td>\n",
              "      <td>0.0</td>\n",
              "      <td>1.0</td>\n",
              "      <td>0.0</td>\n",
              "      <td>0.0</td>\n",
              "      <td>0.0</td>\n",
              "    </tr>\n",
              "    <tr>\n",
              "      <th>31835</th>\n",
              "      <td>76690</td>\n",
              "      <td>1.0</td>\n",
              "      <td>0.0</td>\n",
              "      <td>1.0</td>\n",
              "      <td>0.0</td>\n",
              "      <td>1.0</td>\n",
              "      <td>0.0</td>\n",
              "    </tr>\n",
              "    <tr>\n",
              "      <th>31836</th>\n",
              "      <td>54577</td>\n",
              "      <td>1.0</td>\n",
              "      <td>0.0</td>\n",
              "      <td>1.0</td>\n",
              "      <td>1.0</td>\n",
              "      <td>1.0</td>\n",
              "      <td>0.0</td>\n",
              "    </tr>\n",
              "    <tr>\n",
              "      <th>31850</th>\n",
              "      <td>6204</td>\n",
              "      <td>1.0</td>\n",
              "      <td>0.0</td>\n",
              "      <td>1.0</td>\n",
              "      <td>0.0</td>\n",
              "      <td>1.0</td>\n",
              "      <td>0.0</td>\n",
              "    </tr>\n",
              "    <tr>\n",
              "      <th>31894</th>\n",
              "      <td>99163</td>\n",
              "      <td>1.0</td>\n",
              "      <td>0.0</td>\n",
              "      <td>1.0</td>\n",
              "      <td>0.0</td>\n",
              "      <td>0.0</td>\n",
              "      <td>0.0</td>\n",
              "    </tr>\n",
              "  </tbody>\n",
              "</table>\n",
              "<p>2308 rows × 7 columns</p>\n",
              "</div>"
            ],
            "text/plain": [
              "           id  toxic  severe_toxic  obscene  threat  insult  identity_hate\n",
              "12      14740    1.0           0.0      1.0     0.0     1.0            0.0\n",
              "19     141841    1.0           0.0      0.0     0.0     0.0            0.0\n",
              "24      71181    1.0           0.0      1.0     0.0     1.0            0.0\n",
              "30       7225    1.0           0.0      0.0     0.0     0.0            0.0\n",
              "35      77388    1.0           0.0      0.0     0.0     0.0            0.0\n",
              "...       ...    ...           ...      ...     ...     ...            ...\n",
              "31834   48450    1.0           0.0      1.0     0.0     0.0            0.0\n",
              "31835   76690    1.0           0.0      1.0     0.0     1.0            0.0\n",
              "31836   54577    1.0           0.0      1.0     1.0     1.0            0.0\n",
              "31850    6204    1.0           0.0      1.0     0.0     1.0            0.0\n",
              "31894   99163    1.0           0.0      1.0     0.0     0.0            0.0\n",
              "\n",
              "[2308 rows x 7 columns]"
            ]
          },
          "metadata": {
            "tags": []
          },
          "execution_count": 15
        }
      ]
    },
    {
      "cell_type": "code",
      "metadata": {
        "id": "Ti6kPsPj5tUS",
        "colab_type": "code",
        "colab": {
          "base_uri": "https://localhost:8080/",
          "height": 419
        },
        "outputId": "74cf5982-ed8b-456c-a59e-a77a32ba2b8c"
      },
      "source": [
        "y_test[y_test[\"toxic\"]== 1]"
      ],
      "execution_count": 16,
      "outputs": [
        {
          "output_type": "execute_result",
          "data": {
            "text/html": [
              "<div>\n",
              "<style scoped>\n",
              "    .dataframe tbody tr th:only-of-type {\n",
              "        vertical-align: middle;\n",
              "    }\n",
              "\n",
              "    .dataframe tbody tr th {\n",
              "        vertical-align: top;\n",
              "    }\n",
              "\n",
              "    .dataframe thead th {\n",
              "        text-align: right;\n",
              "    }\n",
              "</style>\n",
              "<table border=\"1\" class=\"dataframe\">\n",
              "  <thead>\n",
              "    <tr style=\"text-align: right;\">\n",
              "      <th></th>\n",
              "      <th>toxic</th>\n",
              "      <th>severe_toxic</th>\n",
              "      <th>obscene</th>\n",
              "      <th>threat</th>\n",
              "      <th>insult</th>\n",
              "      <th>identity_hate</th>\n",
              "    </tr>\n",
              "  </thead>\n",
              "  <tbody>\n",
              "    <tr>\n",
              "      <th>14740</th>\n",
              "      <td>1</td>\n",
              "      <td>0</td>\n",
              "      <td>0</td>\n",
              "      <td>0</td>\n",
              "      <td>0</td>\n",
              "      <td>0</td>\n",
              "    </tr>\n",
              "    <tr>\n",
              "      <th>141841</th>\n",
              "      <td>1</td>\n",
              "      <td>0</td>\n",
              "      <td>1</td>\n",
              "      <td>0</td>\n",
              "      <td>0</td>\n",
              "      <td>0</td>\n",
              "    </tr>\n",
              "    <tr>\n",
              "      <th>71181</th>\n",
              "      <td>1</td>\n",
              "      <td>0</td>\n",
              "      <td>1</td>\n",
              "      <td>0</td>\n",
              "      <td>1</td>\n",
              "      <td>0</td>\n",
              "    </tr>\n",
              "    <tr>\n",
              "      <th>115308</th>\n",
              "      <td>1</td>\n",
              "      <td>0</td>\n",
              "      <td>0</td>\n",
              "      <td>0</td>\n",
              "      <td>0</td>\n",
              "      <td>0</td>\n",
              "    </tr>\n",
              "    <tr>\n",
              "      <th>7225</th>\n",
              "      <td>1</td>\n",
              "      <td>0</td>\n",
              "      <td>1</td>\n",
              "      <td>0</td>\n",
              "      <td>0</td>\n",
              "      <td>0</td>\n",
              "    </tr>\n",
              "    <tr>\n",
              "      <th>...</th>\n",
              "      <td>...</td>\n",
              "      <td>...</td>\n",
              "      <td>...</td>\n",
              "      <td>...</td>\n",
              "      <td>...</td>\n",
              "      <td>...</td>\n",
              "    </tr>\n",
              "    <tr>\n",
              "      <th>136745</th>\n",
              "      <td>1</td>\n",
              "      <td>0</td>\n",
              "      <td>1</td>\n",
              "      <td>0</td>\n",
              "      <td>1</td>\n",
              "      <td>0</td>\n",
              "    </tr>\n",
              "    <tr>\n",
              "      <th>25385</th>\n",
              "      <td>1</td>\n",
              "      <td>0</td>\n",
              "      <td>0</td>\n",
              "      <td>0</td>\n",
              "      <td>0</td>\n",
              "      <td>0</td>\n",
              "    </tr>\n",
              "    <tr>\n",
              "      <th>1165</th>\n",
              "      <td>1</td>\n",
              "      <td>0</td>\n",
              "      <td>0</td>\n",
              "      <td>0</td>\n",
              "      <td>0</td>\n",
              "      <td>0</td>\n",
              "    </tr>\n",
              "    <tr>\n",
              "      <th>99163</th>\n",
              "      <td>1</td>\n",
              "      <td>0</td>\n",
              "      <td>1</td>\n",
              "      <td>0</td>\n",
              "      <td>0</td>\n",
              "      <td>0</td>\n",
              "    </tr>\n",
              "    <tr>\n",
              "      <th>61083</th>\n",
              "      <td>1</td>\n",
              "      <td>0</td>\n",
              "      <td>0</td>\n",
              "      <td>0</td>\n",
              "      <td>0</td>\n",
              "      <td>0</td>\n",
              "    </tr>\n",
              "  </tbody>\n",
              "</table>\n",
              "<p>3123 rows × 6 columns</p>\n",
              "</div>"
            ],
            "text/plain": [
              "        toxic  severe_toxic  obscene  threat  insult  identity_hate\n",
              "14740       1             0        0       0       0              0\n",
              "141841      1             0        1       0       0              0\n",
              "71181       1             0        1       0       1              0\n",
              "115308      1             0        0       0       0              0\n",
              "7225        1             0        1       0       0              0\n",
              "...       ...           ...      ...     ...     ...            ...\n",
              "136745      1             0        1       0       1              0\n",
              "25385       1             0        0       0       0              0\n",
              "1165        1             0        0       0       0              0\n",
              "99163       1             0        1       0       0              0\n",
              "61083       1             0        0       0       0              0\n",
              "\n",
              "[3123 rows x 6 columns]"
            ]
          },
          "metadata": {
            "tags": []
          },
          "execution_count": 16
        }
      ]
    },
    {
      "cell_type": "markdown",
      "metadata": {
        "colab_type": "text",
        "id": "n7lstiG8-VNG"
      },
      "source": [
        "1) Indica el data frame para ingresar los datos de validación y se aplica un ciclo for para cada una de las clasificaicones de toxicidad que se tienen.<br>\n",
        "2) Se aplica el modelo de *Rregresión logística* sobre la variable target *clasifiacion*. El método solver con el que esta aplicando regresión logística es 'sag'(Stochastic Average Gradient descent) que funciona bien para grandes conjuntos de datos.\n",
        "3) Se evalua el score con cross_validation con el scoring de la *ROC*. <br>\n",
        "4) Imprime para cada clasifiación de toxicidad su score de acuerdo al modelo implementado.<br>\n",
        "5) Calcula la probabilidad en la que cada comentario incurriria dividido por clases de toxicidad, estos resultados se guarda en el archivo submission.csv \n"
      ]
    },
    {
      "cell_type": "code",
      "metadata": {
        "id": "tXEFxpAj5tUZ",
        "colab_type": "code",
        "colab": {}
      },
      "source": [
        "import numpy as np\n",
        "import matplotlib.pyplot as plt\n",
        "from itertools import cycle\n",
        "\n",
        "from sklearn import svm, datasets\n",
        "from sklearn.metrics import roc_curve, auc\n",
        "from sklearn.model_selection import train_test_split\n",
        "from sklearn.preprocessing import label_binarize\n",
        "from sklearn.multiclass import OneVsRestClassifier\n",
        "from scipy import interp\n",
        "from sklearn.metrics import roc_auc_score"
      ],
      "execution_count": 0,
      "outputs": []
    },
    {
      "cell_type": "markdown",
      "metadata": {
        "id": "526aq7BV5tUc",
        "colab_type": "text"
      },
      "source": [
        "## Curvas ROC"
      ]
    },
    {
      "cell_type": "code",
      "metadata": {
        "id": "qZjo0_WN5tUc",
        "colab_type": "code",
        "colab": {
          "base_uri": "https://localhost:8080/",
          "height": 317
        },
        "outputId": "4b911844-79bc-45b8-aee7-5e86ba9597de"
      },
      "source": [
        "fpr, tpr, thresholds = roc_curve(y_test[\"toxic\"], submission[\"toxic\"])\n",
        "roc_auc = roc_auc_score(y_test[\"toxic\"], submission[\"toxic\"])\n",
        "print(\"AUC of ROC Curve:\", roc_auc)\n",
        "plt.plot(fpr, tpr,'r')\n",
        "plt.plot([0, 1], [0, 1], color='navy', linestyle='--')\n",
        "plt.title(\"Toxic ROC Curve without removing stop words\",size=15)\n",
        "plt.xlabel(\"False Positive Rate\",size=12)\n",
        "plt.ylabel(\"True Positive Rate\",size=12)\n",
        "plt.show()"
      ],
      "execution_count": 18,
      "outputs": [
        {
          "output_type": "stream",
          "text": [
            "AUC of ROC Curve: 0.8354425576464519\n"
          ],
          "name": "stdout"
        },
        {
          "output_type": "display_data",
          "data": {
            "image/png": "[encoded data removed]",
            "text/plain": [
              "<Figure size 432x288 with 1 Axes>"
            ]
          },
          "metadata": {
            "tags": [],
            "needs_background": "light"
          }
        }
      ]
    },
    {
      "cell_type": "code",
      "metadata": {
        "id": "THv2RSRs5tUh",
        "colab_type": "code",
        "colab": {
          "base_uri": "https://localhost:8080/",
          "height": 312
        },
        "outputId": "b98978ac-6f76-4867-ba78-ce209a882eaa"
      },
      "source": [
        "fpr, tpr, thresholds = roc_curve(y_test[\"severe_toxic\"], submission[\"severe_toxic\"])\n",
        "roc_auc = roc_auc_score(y_test[\"severe_toxic\"], submission[\"severe_toxic\"])\n",
        "print(\"AUC of ROC Curve:\", roc_auc)\n",
        "plt.plot(fpr, tpr,'r')\n",
        "plt.plot([0, 1], [0, 1], color='navy', linestyle='--')\n",
        "plt.title(\"Severe toxic ROC Curve\")\n",
        "plt.xlabel(\"False Positive Rate\")\n",
        "plt.ylabel(\"True Positive Rate\")\n",
        "plt.show()"
      ],
      "execution_count": 19,
      "outputs": [
        {
          "output_type": "stream",
          "text": [
            "AUC of ROC Curve: 0.6152535357686174\n"
          ],
          "name": "stdout"
        },
        {
          "output_type": "display_data",
          "data": {
            "image/png": "[encoded data removed]",
            "text/plain": [
              "<Figure size 432x288 with 1 Axes>"
            ]
          },
          "metadata": {
            "tags": [],
            "needs_background": "light"
          }
        }
      ]
    },
    {
      "cell_type": "code",
      "metadata": {
        "scrolled": true,
        "id": "am8OIcWn5tUm",
        "colab_type": "code",
        "colab": {
          "base_uri": "https://localhost:8080/",
          "height": 312
        },
        "outputId": "34ca12f1-a2fd-4b90-d27a-5804d0a70be8"
      },
      "source": [
        "fpr, tpr, thresholds = roc_curve(y_test[\"obscene\"], submission[\"obscene\"])\n",
        "roc_auc = roc_auc_score(y_test[\"obscene\"], submission[\"obscene\"])\n",
        "print(\"AUC of ROC Curve:\", roc_auc)\n",
        "plt.plot(fpr, tpr,'r')\n",
        "plt.plot([0, 1], [0, 1], color='navy', linestyle='--')\n",
        "plt.title(\"Obscene ROC Curve\")\n",
        "plt.xlabel(\"False Positive Rate\")\n",
        "plt.ylabel(\"True Positive Rate\")\n",
        "plt.show()"
      ],
      "execution_count": 20,
      "outputs": [
        {
          "output_type": "stream",
          "text": [
            "AUC of ROC Curve: 0.8361519500345594\n"
          ],
          "name": "stdout"
        },
        {
          "output_type": "display_data",
          "data": {
            "image/png": "[encoded data removed]",
            "text/plain": [
              "<Figure size 432x288 with 1 Axes>"
            ]
          },
          "metadata": {
            "tags": [],
            "needs_background": "light"
          }
        }
      ]
    },
    {
      "cell_type": "code",
      "metadata": {
        "id": "gYnJdTV-5tUq",
        "colab_type": "code",
        "colab": {
          "base_uri": "https://localhost:8080/",
          "height": 312
        },
        "outputId": "be981d74-b5cf-410e-f666-6d1e634e6857"
      },
      "source": [
        "fpr, tpr, thresholds = roc_curve(y_test[\"threat\"], submission[\"threat\"])\n",
        "roc_auc = roc_auc_score(y_test[\"threat\"], submission[\"threat\"])\n",
        "print(\"AUC of ROC Curve:\", roc_auc)\n",
        "plt.plot(fpr, tpr,'r')\n",
        "plt.plot([0, 1], [0, 1], color='navy', linestyle='--')\n",
        "plt.title(\"Threat ROC Curve\")\n",
        "plt.xlabel(\"False Positive Rate\")\n",
        "plt.ylabel(\"True Positive Rate\")\n",
        "plt.show()"
      ],
      "execution_count": 22,
      "outputs": [
        {
          "output_type": "stream",
          "text": [
            "AUC of ROC Curve: 0.5636569454000335\n"
          ],
          "name": "stdout"
        },
        {
          "output_type": "display_data",
          "data": {
            "image/png": "[encoded data removed]",
            "text/plain": [
              "<Figure size 432x288 with 1 Axes>"
            ]
          },
          "metadata": {
            "tags": [],
            "needs_background": "light"
          }
        }
      ]
    },
    {
      "cell_type": "code",
      "metadata": {
        "id": "H0fb3rSJ5tUx",
        "colab_type": "code",
        "colab": {
          "base_uri": "https://localhost:8080/",
          "height": 312
        },
        "outputId": "8bd482d5-8e4b-4b85-c9f6-2e715172f1da"
      },
      "source": [
        "fpr, tpr, thresholds = roc_curve(y_test[\"insult\"], submission[\"insult\"])\n",
        "roc_auc = roc_auc_score(y_test[\"insult\"], submission[\"insult\"])\n",
        "print(\"AUC of ROC Curve:\", roc_auc)\n",
        "plt.plot(fpr, tpr,'r')\n",
        "plt.plot([0, 1], [0, 1], color='navy', linestyle='--')\n",
        "plt.title(\"Insult ROC Curve\")\n",
        "plt.xlabel(\"False Positive Rate\")\n",
        "plt.ylabel(\"True Positive Rate\")\n",
        "plt.show()"
      ],
      "execution_count": 23,
      "outputs": [
        {
          "output_type": "stream",
          "text": [
            "AUC of ROC Curve: 0.7862750192641286\n"
          ],
          "name": "stdout"
        },
        {
          "output_type": "display_data",
          "data": {
            "image/png": "[encoded data removed]",
            "text/plain": [
              "<Figure size 432x288 with 1 Axes>"
            ]
          },
          "metadata": {
            "tags": [],
            "needs_background": "light"
          }
        }
      ]
    },
    {
      "cell_type": "code",
      "metadata": {
        "scrolled": true,
        "id": "KcJN-GE25tU0",
        "colab_type": "code",
        "colab": {
          "base_uri": "https://localhost:8080/",
          "height": 312
        },
        "outputId": "ad72d73f-533c-4639-fd9c-5fc16587f7c2"
      },
      "source": [
        "fpr, tpr, thresholds = roc_curve(y_test[\"identity_hate\"], submission[\"identity_hate\"])\n",
        "roc_auc = roc_auc_score(y_test[\"identity_hate\"], submission[\"identity_hate\"])\n",
        "print(\"AUC of ROC Curve:\", roc_auc)\n",
        "plt.plot(fpr, tpr,'r')\n",
        "plt.plot([0, 1], [0, 1], color='navy', linestyle='--')\n",
        "plt.title(\"Identity hate ROC Curve\")\n",
        "plt.xlabel(\"False Positive Rate\")\n",
        "plt.ylabel(\"True Positive Rate\")\n",
        "plt.show()"
      ],
      "execution_count": 24,
      "outputs": [
        {
          "output_type": "stream",
          "text": [
            "AUC of ROC Curve: 0.6178059925926711\n"
          ],
          "name": "stdout"
        },
        {
          "output_type": "display_data",
          "data": {
            "image/png": "[encoded data removed]",
            "text/plain": [
              "<Figure size 432x288 with 1 Axes>"
            ]
          },
          "metadata": {
            "tags": [],
            "needs_background": "light"
          }
        }
      ]
    },
    {
      "cell_type": "markdown",
      "metadata": {
        "id": "B3vIyrKG5tU4",
        "colab_type": "text"
      },
      "source": [
        "## Removiendo stop words"
      ]
    },
    {
      "cell_type": "code",
      "metadata": {
        "id": "35LK3ny95tU5",
        "colab_type": "code",
        "colab": {
          "base_uri": "https://localhost:8080/",
          "height": 51
        },
        "outputId": "a59840dd-0175-48fa-8752-788f5f00a4cf"
      },
      "source": [
        "# Natural language toolkit, nos ayudara con preprocessing de los datos\n",
        "import re\n",
        "import nltk\n",
        "nltk.download('stopwords')\n",
        "\n",
        "# Carga un set de stopwords predefinidas\n",
        "from nltk.corpus import stopwords\n",
        "STOPWORDS = set(stopwords.words('english'))"
      ],
      "execution_count": 26,
      "outputs": [
        {
          "output_type": "stream",
          "text": [
            "[nltk_data] Downloading package stopwords to /root/nltk_data...\n",
            "[nltk_data]   Unzipping corpora/stopwords.zip.\n"
          ],
          "name": "stdout"
        }
      ]
    },
    {
      "cell_type": "code",
      "metadata": {
        "id": "Rg0GruU45tU9",
        "colab_type": "code",
        "colab": {}
      },
      "source": [
        "# Funcion para ayudarnos a sustituir abreviaciones\n",
        "def decontracted(phrase):\n",
        "  phrase = re.sub(r\"won't\", \"will not\", phrase)\n",
        "  phrase = re.sub(r\"can\\'t\", \"can not\", phrase)\n",
        "  phrase = re.sub(r\"n\\'t\", \" not\", phrase)\n",
        "  phrase = re.sub(r\"\\'re\", \" are\", phrase)\n",
        "  phrase = re.sub(r\"\\'s\", \" is\", phrase)\n",
        "  phrase = re.sub(r\"\\'d\", \" would\", phrase)\n",
        "  phrase = re.sub(r\"\\'ll\", \" will\", phrase)\n",
        "  phrase = re.sub(r\"\\'t\", \" not\", phrase)\n",
        "  phrase = re.sub(r\"\\'ve\", \" have\", phrase)\n",
        "  phrase = re.sub(r\"\\'m\", \" am\", phrase)\n",
        "  return phrase"
      ],
      "execution_count": 0,
      "outputs": []
    },
    {
      "cell_type": "code",
      "metadata": {
        "id": "neOfiOM75tVC",
        "colab_type": "code",
        "colab": {}
      },
      "source": [
        "# Set adicional de stopwords, removeremos palabras tanto de este set como del que\n",
        "# viene definido en el nltk\n",
        "stopwords= set(['br', 'the', 'i', 'me', 'my', 'myself', 'we', 'our', 'ours', 'ourselves', 'you', \"you're\", \"you've\",\\\n",
        "            \"you'll\", \"you'd\", 'your', 'yours', 'yourself', 'yourselves', 'he', 'him', 'his', 'himself', \\\n",
        "            'she', \"she's\", 'her', 'hers', 'herself', 'it', \"it's\", 'its', 'itself', 'they', 'them', 'their',\\\n",
        "            'theirs', 'themselves', 'what', 'which', 'who', 'whom', 'this', 'that', \"that'll\", 'these', 'those', \\\n",
        "            'am', 'is', 'are', 'was', 'were', 'be', 'been', 'being', 'have', 'has', 'had', 'having', 'do', 'does', \\\n",
        "            'did', 'doing', 'a', 'an', 'the', 'and', 'but', 'if', 'or', 'because', 'as', 'until', 'while', 'of', \\\n",
        "            'at', 'by', 'for', 'with', 'about', 'against', 'between', 'into', 'through', 'during', 'before', 'after',\\\n",
        "            'above', 'below', 'to', 'from', 'up', 'down', 'in', 'out', 'on', 'off', 'over', 'under', 'again', 'further',\\\n",
        "            'then', 'once', 'here', 'there', 'when', 'where', 'why', 'how', 'all', 'any', 'both', 'each', 'few', 'more',\\\n",
        "            'most', 'other', 'some', 'such', 'only', 'own', 'same', 'so', 'than', 'too', 'very', \\\n",
        "            's', 't', 'can', 'will', 'just', 'don', \"don't\", 'should', \"should've\", 'now', 'd', 'll', 'm', 'o', 're', \\\n",
        "            've', 'y', 'ain', 'aren', \"aren't\", 'couldn', \"couldn't\", 'didn', \"didn't\", 'doesn', \"doesn't\", 'hadn',\\\n",
        "            \"hadn't\", 'hasn', \"hasn't\", 'haven', \"haven't\", 'isn', \"isn't\", 'ma', 'mightn', \"mightn't\", 'mustn',\\\n",
        "            \"mustn't\", 'needn', \"needn't\", 'shan', \"shan't\", 'shouldn', \"shouldn't\", 'wasn', \"wasn't\", 'weren', \"weren't\", \\\n",
        "            'won', \"won't\", 'wouldn', \"wouldn't\"])"
      ],
      "execution_count": 0,
      "outputs": []
    },
    {
      "cell_type": "code",
      "metadata": {
        "id": "JXQS4oTk5tVJ",
        "colab_type": "code",
        "colab": {}
      },
      "source": [
        "# Función auxiliar para remover stopwords y otras normalizaciones de texto\n",
        "def remove_stopwords(dataframe):\n",
        "  SYNS = []\n",
        "  for sentance in dataframe:\n",
        "    sentance = re.sub('\\\\n', ' ', sentance)\n",
        "    sentance = re.sub(\"\\d{1,3}\\.\\d{1,3}\\.\\d{1,3}\\.\\d{1,3}\",'', sentance)\n",
        "    sentance = re.sub(\"\\[\\[User.*\",'',sentance)\n",
        "    sentance = re.sub(\"(http://.*?\\s)|(http://.*)\",'',sentance)\n",
        "    sentance = re.sub(r\"http\\S+\", \"\", sentance)\n",
        "    sentance = decontracted(sentance)\n",
        "    sentance = re.sub(\"\\S*\\d\\S*\", \"\", sentance).strip()\n",
        "    sentance = re.sub('[^A-Za-z]+', ' ', sentance)\n",
        "    #sentance = ' '.join(e.lower() for e in sentance.split() if e.lower() not in stopwords)\n",
        "    #sentance = ' '.join(e.lower() for e in sentance.split() if e.lower() not in STOPWORDS)\n",
        "    SYNS.append(sentance.strip())\n",
        "  return SYNS"
      ],
      "execution_count": 0,
      "outputs": []
    },
    {
      "cell_type": "code",
      "metadata": {
        "id": "Fsh26Mwb5tVM",
        "colab_type": "code",
        "colab": {}
      },
      "source": [
        "# Remueve stopwords\n",
        "synops_train = remove_stopwords(train['comment_text'])"
      ],
      "execution_count": 0,
      "outputs": []
    },
    {
      "cell_type": "code",
      "metadata": {
        "id": "6ORE-jjw5tVX",
        "colab_type": "code",
        "colab": {}
      },
      "source": [
        "train['clean_text'] = synops_train"
      ],
      "execution_count": 0,
      "outputs": []
    },
    {
      "cell_type": "code",
      "metadata": {
        "id": "DaDwSVil5tVb",
        "colab_type": "code",
        "colab": {}
      },
      "source": [
        "train2 =train"
      ],
      "execution_count": 0,
      "outputs": []
    },
    {
      "cell_type": "code",
      "metadata": {
        "id": "kpbEERk75tVi",
        "colab_type": "code",
        "colab": {}
      },
      "source": [
        "drop_col = ['id', 'comment_text']  # columns not neccessary - can be dropped\n",
        "text_col = ['clean_text']  # text feature\n",
        "label_col = [col for col in train2.columns if col not in text_col + drop_col]"
      ],
      "execution_count": 0,
      "outputs": []
    },
    {
      "cell_type": "code",
      "metadata": {
        "id": "3NdayoV35tVm",
        "colab_type": "code",
        "colab": {
          "base_uri": "https://localhost:8080/",
          "height": 51
        },
        "outputId": "087e9149-fcee-4566-94ec-c01482a0e381"
      },
      "source": [
        "#Dividir train en train y test  20% train y 80% test\n",
        "import random\n",
        "random.seed(10)\n",
        "\n",
        "from sklearn.model_selection import train_test_split\n",
        "X_train, X_test, y_train, y_test = train_test_split(train['clean_text'], \n",
        "                                                  train[class_names], test_size=0.2, random_state=2019)\n",
        "\n",
        "print('Data points in train data after splitting:', len(X_train))\n",
        "print('Data points in valiadtion data:', len(X_test))"
      ],
      "execution_count": 34,
      "outputs": [
        {
          "output_type": "stream",
          "text": [
            "Data points in train data after splitting: 127656\n",
            "Data points in valiadtion data: 31915\n"
          ],
          "name": "stdout"
        }
      ]
    },
    {
      "cell_type": "code",
      "metadata": {
        "id": "3Bvykiwj5tVr",
        "colab_type": "code",
        "colab": {}
      },
      "source": [
        "#Se seleccionan las columnas de textos tanto de train como de test\n",
        "train_text = X_train#train['comment_text']\n",
        "test_text = X_test#test['comment_text']\n",
        "all_text = pd.concat([train_text, test_text])  #Aqui se concatenan"
      ],
      "execution_count": 0,
      "outputs": []
    },
    {
      "cell_type": "markdown",
      "metadata": {
        "id": "MOPC-C5q5tVu",
        "colab_type": "text"
      },
      "source": [
        "## Vectorizar"
      ]
    },
    {
      "cell_type": "code",
      "metadata": {
        "id": "o76plxcU5tV2",
        "colab_type": "code",
        "colab": {}
      },
      "source": [
        "vectorizer.fit(all_text)  #Esta función se encarga de vectoriza el texto\n",
        "train_features = vectorizer.transform(train_text)\n",
        "test_features = vectorizer.transform(test_text)"
      ],
      "execution_count": 0,
      "outputs": []
    },
    {
      "cell_type": "markdown",
      "metadata": {
        "id": "SfTVEZSs5tV6",
        "colab_type": "text"
      },
      "source": [
        "## Regresión logística"
      ]
    },
    {
      "cell_type": "code",
      "metadata": {
        "id": "ucXlXrJu5tV7",
        "colab_type": "code",
        "colab": {
          "base_uri": "https://localhost:8080/",
          "height": 136
        },
        "outputId": "37d87666-36f0-4676-ed28-2ec3b22c2ca1"
      },
      "source": [
        "scores = []  \n",
        "submission = pd.DataFrame.from_dict({'id': X_test.index}) \n",
        "for class_name in class_names:\n",
        "    train_target = y_train[class_name]\n",
        "    classifier = LogisticRegression(solver='sag')\n",
        "\n",
        "    cv_score = np.mean(cross_val_score(\n",
        "        classifier, train_features, train_target, cv=3, scoring='roc_auc'))\n",
        "    scores.append(cv_score)\n",
        "    print('CV score for class {} is {}'.format(class_name, cv_score))\n",
        "\n",
        "    classifier.fit(train_features, train_target)\n",
        "    submission[class_name] = classifier.predict_proba(test_features)[:, 1].round()\n",
        "\n",
        "print('Total CV score is {}'.format(np.mean(scores)))"
      ],
      "execution_count": 37,
      "outputs": [
        {
          "output_type": "stream",
          "text": [
            "CV score for class toxic is 0.9774352817034062\n",
            "CV score for class severe_toxic is 0.9885718126626125\n",
            "CV score for class obscene is 0.9903323609007274\n",
            "CV score for class threat is 0.9880352831926897\n",
            "CV score for class insult is 0.9825342696863331\n",
            "CV score for class identity_hate is 0.9830585566715878\n",
            "Total CV score is 0.984994594136226\n"
          ],
          "name": "stdout"
        }
      ]
    },
    {
      "cell_type": "markdown",
      "metadata": {
        "id": "pWjXoL1o5tWI",
        "colab_type": "text"
      },
      "source": [
        "## Curvas ROC"
      ]
    },
    {
      "cell_type": "code",
      "metadata": {
        "id": "EJaIv9pK5tWJ",
        "colab_type": "code",
        "colab": {
          "base_uri": "https://localhost:8080/",
          "height": 317
        },
        "outputId": "4f6d2fab-acfd-4aca-cda7-029f0b5bcbb8"
      },
      "source": [
        "fpr, tpr, thresholds = roc_curve(y_test[\"toxic\"], submission[\"toxic\"])\n",
        "roc_auc = roc_auc_score(y_test[\"toxic\"], submission[\"toxic\"])\n",
        "print(\"AUC of ROC Curve:\", roc_auc)\n",
        "plt.plot(fpr, tpr,'r')\n",
        "plt.plot([0, 1], [0, 1], color='navy', linestyle='--')\n",
        "plt.title(\"Toxic ROC Curve removing stop words\",size=15)\n",
        "plt.xlabel(\"False Positive Rate\",size=12)\n",
        "plt.ylabel(\"True Positive Rate\",size=12)\n",
        "plt.show()"
      ],
      "execution_count": 38,
      "outputs": [
        {
          "output_type": "stream",
          "text": [
            "AUC of ROC Curve: 0.8361350653137096\n"
          ],
          "name": "stdout"
        },
        {
          "output_type": "display_data",
          "data": {
            "image/png": "[encoded data removed]",
            "text/plain": [
              "<Figure size 432x288 with 1 Axes>"
            ]
          },
          "metadata": {
            "tags": [],
            "needs_background": "light"
          }
        }
      ]
    },
    {
      "cell_type": "code",
      "metadata": {
        "id": "moPt2op85tWM",
        "colab_type": "code",
        "colab": {},
        "outputId": "18d0f178-e3c9-48df-e490-aaef2e283118"
      },
      "source": [
        "fpr, tpr, thresholds = roc_curve(y_test[\"severe_toxic\"], submission[\"severe_toxic\"])\n",
        "roc_auc = roc_auc_score(y_test[\"severe_toxic\"], submission[\"severe_toxic\"])\n",
        "print(\"AUC of ROC Curve:\", roc_auc)\n",
        "plt.plot(fpr, tpr,'r')\n",
        "plt.plot([0, 1], [0, 1], color='navy', linestyle='--')\n",
        "plt.title(\"Severe toxic ROC Curve\")\n",
        "plt.xlabel(\"False Positive Rate\")\n",
        "plt.ylabel(\"True Positive Rate\")\n",
        "plt.show()"
      ],
      "execution_count": 0,
      "outputs": [
        {
          "output_type": "stream",
          "text": [
            "AUC of ROC Curve: 0.612137402929932\n"
          ],
          "name": "stdout"
        },
        {
          "output_type": "display_data",
          "data": {
            "image/png": "[encoded data removed]",
            "text/plain": [
              "<Figure size 432x288 with 1 Axes>"
            ]
          },
          "metadata": {
            "tags": [],
            "needs_background": "light"
          }
        }
      ]
    },
    {
      "cell_type": "code",
      "metadata": {
        "id": "YH9xhfTZ5tWZ",
        "colab_type": "code",
        "colab": {},
        "outputId": "bdee6649-2d1b-4ea3-a280-8fd3ed665b0a"
      },
      "source": [
        "fpr, tpr, thresholds = roc_curve(y_test[\"obscene\"], submission[\"obscene\"])\n",
        "roc_auc = roc_auc_score(y_test[\"obscene\"], submission[\"obscene\"])\n",
        "print(\"AUC of ROC Curve:\", roc_auc)\n",
        "plt.plot(fpr, tpr,'r')\n",
        "plt.plot([0, 1], [0, 1], color='navy', linestyle='--')\n",
        "plt.title(\"Obscene ROC Curve\")\n",
        "plt.xlabel(\"False Positive Rate\")\n",
        "plt.ylabel(\"True Positive Rate\")\n",
        "plt.show()"
      ],
      "execution_count": 0,
      "outputs": [
        {
          "output_type": "stream",
          "text": [
            "AUC of ROC Curve: 0.8367058235405214\n"
          ],
          "name": "stdout"
        },
        {
          "output_type": "display_data",
          "data": {
            "image/png": "[encoded data removed]",
            "text/plain": [
              "<Figure size 432x288 with 1 Axes>"
            ]
          },
          "metadata": {
            "tags": [],
            "needs_background": "light"
          }
        }
      ]
    },
    {
      "cell_type": "code",
      "metadata": {
        "id": "sL3TiQzU5tWe",
        "colab_type": "code",
        "colab": {},
        "outputId": "6af3075f-700b-4cd7-bacc-ff0739b6fce1"
      },
      "source": [
        "fpr, tpr, thresholds = roc_curve(y_test[\"threat\"], submission[\"threat\"])\n",
        "roc_auc = roc_auc_score(y_test[\"threat\"], submission[\"threat\"])\n",
        "print(\"AUC of ROC Curve:\", roc_auc)\n",
        "plt.plot(fpr, tpr,'r')\n",
        "plt.plot([0, 1], [0, 1], color='navy', linestyle='--')\n",
        "plt.title(\"Threat ROC Curve\")\n",
        "plt.xlabel(\"False Positive Rate\")\n",
        "plt.ylabel(\"True Positive Rate\")\n",
        "plt.show()"
      ],
      "execution_count": 0,
      "outputs": [
        {
          "output_type": "stream",
          "text": [
            "AUC of ROC Curve: 0.574295243272374\n"
          ],
          "name": "stdout"
        },
        {
          "output_type": "display_data",
          "data": {
            "image/png": "[encoded data removed]",
            "text/plain": [
              "<Figure size 432x288 with 1 Axes>"
            ]
          },
          "metadata": {
            "tags": [],
            "needs_background": "light"
          }
        }
      ]
    },
    {
      "cell_type": "code",
      "metadata": {
        "id": "uKxxYl5O5tWt",
        "colab_type": "code",
        "colab": {},
        "outputId": "fee17bc8-56ad-421a-db7c-e29b10dc963d"
      },
      "source": [
        "fpr, tpr, thresholds = roc_curve(y_test[\"insult\"], submission[\"insult\"])\n",
        "roc_auc = roc_auc_score(y_test[\"insult\"], submission[\"insult\"])\n",
        "print(\"AUC of ROC Curve:\", roc_auc)\n",
        "plt.plot(fpr, tpr,'r')\n",
        "plt.plot([0, 1], [0, 1], color='navy', linestyle='--')\n",
        "plt.title(\"Insult ROC Curve\")\n",
        "plt.xlabel(\"False Positive Rate\")\n",
        "plt.ylabel(\"True Positive Rate\")\n",
        "plt.show()"
      ],
      "execution_count": 0,
      "outputs": [
        {
          "output_type": "stream",
          "text": [
            "AUC of ROC Curve: 0.787666822553354\n"
          ],
          "name": "stdout"
        },
        {
          "output_type": "display_data",
          "data": {
            "image/png": "[encoded data removed]",
            "text/plain": [
              "<Figure size 432x288 with 1 Axes>"
            ]
          },
          "metadata": {
            "tags": [],
            "needs_background": "light"
          }
        }
      ]
    },
    {
      "cell_type": "code",
      "metadata": {
        "id": "tGOXHBl35tW4",
        "colab_type": "code",
        "colab": {},
        "outputId": "6d250c8f-8a00-4499-96aa-692ec01d4046"
      },
      "source": [
        "fpr, tpr, thresholds = roc_curve(y_test[\"identity_hate\"], submission[\"identity_hate\"])\n",
        "roc_auc = roc_auc_score(y_test[\"identity_hate\"], submission[\"identity_hate\"])\n",
        "print(\"AUC of ROC Curve:\", roc_auc)\n",
        "plt.plot(fpr, tpr,'r')\n",
        "plt.plot([0, 1], [0, 1], color='navy', linestyle='--')\n",
        "plt.title(\"Identity hate ROC Curve\")\n",
        "plt.xlabel(\"False Positive Rate\")\n",
        "plt.ylabel(\"True Positive Rate\")\n",
        "plt.show()"
      ],
      "execution_count": 0,
      "outputs": [
        {
          "output_type": "stream",
          "text": [
            "AUC of ROC Curve: 0.616181234167478\n"
          ],
          "name": "stdout"
        },
        {
          "output_type": "display_data",
          "data": {
            "image/png": "[encoded data removed]",
            "text/plain": [
              "<Figure size 432x288 with 1 Axes>"
            ]
          },
          "metadata": {
            "tags": [],
            "needs_background": "light"
          }
        }
      ]
    },
    {
      "cell_type": "code",
      "metadata": {
        "id": "UTid62Dc5tW9",
        "colab_type": "code",
        "colab": {}
      },
      "source": [
        ""
      ],
      "execution_count": 0,
      "outputs": []
    },
    {
      "cell_type": "code",
      "metadata": {
        "colab_type": "code",
        "id": "iyT5OCiXqha7",
        "colab": {}
      },
      "source": [
        "#submission.to_csv('submission.csv', index=False)"
      ],
      "execution_count": 0,
      "outputs": []
    },
    {
      "cell_type": "markdown",
      "metadata": {
        "colab_type": "text",
        "id": "1x099wYHEA3Y"
      },
      "source": [
        "Referencias <br>\n",
        "* https://kavita-ganesan.com/tfidftransformer-tfidfvectorizer-usage-differences/#.Xqz2zFMzboz <br>\n",
        "* https://scikit-learn.org/stable/modules/generated/sklearn.feature_extraction.text.TfidfVectorizer.html <br>\n",
        "* https://www.kaggle.com/thousandvoices/logistic-regression-with-words-and-char-n-grams/code <br>"
      ]
    }
  ]
}